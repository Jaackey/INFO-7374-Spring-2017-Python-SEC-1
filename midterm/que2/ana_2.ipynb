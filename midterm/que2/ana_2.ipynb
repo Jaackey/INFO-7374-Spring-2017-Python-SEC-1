{
 "cells": [
  {
   "cell_type": "markdown",
   "metadata": {},
   "source": [
    "# Question 2 Analysis 2\n",
    "- find top 10 words that frequently occur in top 50 in lead paragraphs of 1993 and not in top 50 of 2016\n",
    "- if there are not enough 10 words like this, show all words in top 50 of 1993 that not in top 50 of 2016\n",
    "- the words are not supposed to be stop words or punctuation\n",
    "- show the result in frequency-descending order in CSV file"
   ]
  },
  {
   "cell_type": "code",
   "execution_count": 1,
   "metadata": {
    "collapsed": true
   },
   "outputs": [],
   "source": [
    "import glob\n",
    "import os\n",
    "import json\n",
    "import string\n",
    "import nltk\n",
    "from pathlib import Path\n",
    "from collections import Counter"
   ]
  },
  {
   "cell_type": "code",
   "execution_count": 19,
   "metadata": {
    "collapsed": true
   },
   "outputs": [],
   "source": [
    "# use a def to get the count of words in lead paragraph\n",
    "# the word should not include any punctuations or figures\n",
    "# the word should not be stop words, which is hardly meaningful for our analysis\n",
    "def getWordCount(path):\n",
    "    files = glob.glob(path)\n",
    "    word_counter = Counter()\n",
    "    for file in files:\n",
    "        with open(file, 'r', encoding='utf-8', errors='ignore') as f:\n",
    "            python_data = json.load(f)\n",
    "            docs = python_data['response']['docs']\n",
    "            for doc in docs:\n",
    "                if 'lead_paragraph' in doc and doc['lead_paragraph'] is not None:\n",
    "                    for word in map(lambda w: w.strip(string.punctuation).lower(), doc['lead_paragraph'].split()):\n",
    "                        if word != '' and word not in set(nltk.corpus.stopwords.words('english')) and word.isalpha():\n",
    "                            word_counter.update([word])\n",
    "    return word_counter"
   ]
  },
  {
   "cell_type": "code",
   "execution_count": 20,
   "metadata": {
    "collapsed": true
   },
   "outputs": [],
   "source": [
    "# prepare the paths to each data set\n",
    "p = Path(os.getcwd())\n",
    "ar_1993_path = str(p.parent) + '/data/archive/1993/*'\n",
    "ar_2016_path = str(p.parent) + '/data/archive/2016/*'"
   ]
  },
  {
   "cell_type": "code",
   "execution_count": 21,
   "metadata": {
    "collapsed": false
   },
   "outputs": [
    {
     "name": "stdout",
     "output_type": "stream",
     "text": [
      "92255\n",
      "57629\n"
     ]
    }
   ],
   "source": [
    "# use the def to get both counters which include the words and their frequency in those lead paragraphs\n",
    "counter_1993 = getWordCount(ar_1993_path)\n",
    "counter_2016 = getWordCount(ar_2016_path)\n",
    "print(len(counter_1993))\n",
    "print(len(counter_2016))"
   ]
  },
  {
   "cell_type": "code",
   "execution_count": 22,
   "metadata": {
    "collapsed": false
   },
   "outputs": [
    {
     "name": "stdout",
     "output_type": "stream",
     "text": [
      "18\n"
     ]
    }
   ],
   "source": [
    "# we can see from above, there are a lot more different words used in 1993 than in 2016 :D\n",
    "# iterate collections and find most common words in 1993 which not in 2016\n",
    "result_list = []\n",
    "for word,_ in counter_1993.most_common(50):\n",
    "    if word not in (item[0] for item in counter_2016.most_common(50)):\n",
    "        result_list.append(word)\n",
    "print(len(result_list))"
   ]
  },
  {
   "cell_type": "code",
   "execution_count": 24,
   "metadata": {
    "collapsed": true
   },
   "outputs": [],
   "source": [
    "# there are 18 such words\n",
    "# store these words into CSV file in frequency-descending order\n",
    "import csv\n",
    "path = 'ana_2/disappear_words.csv'\n",
    "with open(path, 'w') as outcsv:\n",
    "    writer = csv.DictWriter(outcsv, fieldnames = [\"WORD_DISAPPERED\"])\n",
    "    writer.writeheader()\n",
    "    for word in result_list:\n",
    "        writer.writerow({'WORD_DISAPPERED': word})\n"
   ]
  },
  {
   "cell_type": "code",
   "execution_count": null,
   "metadata": {
    "collapsed": true
   },
   "outputs": [],
   "source": []
  }
 ],
 "metadata": {
  "anaconda-cloud": {},
  "kernelspec": {
   "display_name": "Python [default]",
   "language": "python",
   "name": "python3"
  },
  "language_info": {
   "codemirror_mode": {
    "name": "ipython",
    "version": 3
   },
   "file_extension": ".py",
   "mimetype": "text/x-python",
   "name": "python",
   "nbconvert_exporter": "python",
   "pygments_lexer": "ipython3",
   "version": "3.5.2"
  }
 },
 "nbformat": 4,
 "nbformat_minor": 1
}
