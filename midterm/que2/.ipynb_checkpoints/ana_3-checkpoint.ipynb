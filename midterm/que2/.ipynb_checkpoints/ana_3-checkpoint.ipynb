{
 "cells": [
  {
   "cell_type": "markdown",
   "metadata": {
    "collapsed": true
   },
   "source": [
    "# Question 2 Analysis 3\n",
    "- Download articles with keyword \"China\" using NYT article-search API\n",
    "- compare those in year 1980 with in 2010\n",
    "- find out what articles usually focus on in either year and see if the focus about China had changed\n",
    "- generate a CSV file to see what are the focus on either year"
   ]
  },
  {
   "cell_type": "code",
   "execution_count": 1,
   "metadata": {
    "collapsed": true
   },
   "outputs": [],
   "source": [
    "import glob\n",
    "import os\n",
    "import json\n",
    "import csv\n",
    "from pathlib import Path\n",
    "from collections import Counter"
   ]
  },
  {
   "cell_type": "code",
   "execution_count": 2,
   "metadata": {
    "collapsed": true
   },
   "outputs": [],
   "source": [
    "# To prevent duplicate code, I create a def to store subjects in either year\n",
    "def getFocus(path):\n",
    "    files = glob.glob(path)\n",
    "    focus = []\n",
    "    for file in files:\n",
    "        with open(file, 'r', encoding='utf-8', errors='ignore') as f:\n",
    "            python_data = json.load(f)\n",
    "            docs = python_data['response']['docs']\n",
    "            for doc in docs:\n",
    "                if 'keywords' in doc and doc['keywords'] is not None:\n",
    "                    keywords = doc['keywords']\n",
    "                    for key in keywords:\n",
    "                        if key['name'] == 'subject':\n",
    "                            focus.append(key['value'])\n",
    "    return focus"
   ]
  },
  {
   "cell_type": "code",
   "execution_count": 8,
   "metadata": {
    "collapsed": true
   },
   "outputs": [],
   "source": [
    "# prepare the variables including paths and counters\n",
    "p = Path(os.getcwd())\n",
    "as_1980_path = str(p.parent) + '/data/article_search/1980/*'\n",
    "as_2010_path = str(p.parent) + '/data/article_search/2010/*'\n",
    "focus_counter_1980 = Counter()\n",
    "focus_counter_2010 = Counter()"
   ]
  },
  {
   "cell_type": "code",
   "execution_count": 9,
   "metadata": {
    "collapsed": false
   },
   "outputs": [
    {
     "name": "stdout",
     "output_type": "stream",
     "text": [
      "2248\n",
      "2279\n"
     ]
    }
   ],
   "source": [
    "# call the def and get the subjects\n",
    "subject_list_1980 = getFocus(as_1980_path)\n",
    "subject_list_2010 = getFocus(as_2010_path)\n",
    "print(len(subject_list_1980))\n",
    "print(len(subject_list_2010))"
   ]
  },
  {
   "cell_type": "code",
   "execution_count": 10,
   "metadata": {
    "collapsed": false
   },
   "outputs": [],
   "source": [
    "# update both counters\n",
    "for sub in subject_list_1980:\n",
    "    focus_counter_1980.update([sub])\n",
    "for sub in subject_list_2010:\n",
    "    focus_counter_2010.update([sub])"
   ]
  },
  {
   "cell_type": "code",
   "execution_count": 11,
   "metadata": {
    "collapsed": true
   },
   "outputs": [],
   "source": [
    "# write the two collections to CSV at the same time\n",
    "# iterate collections with index and get the tuples\n",
    "# in each tuples, tuple[0] refers to the subject, tuple[1] refers to the frequency of that subject\n",
    "path = 'ana_3/focus_change.csv'\n",
    "help_list = focus_counter_2010.most_common(50)\n",
    "with open(path, 'w') as outcsv:\n",
    "    writer = csv.DictWriter(outcsv, fieldnames = [\"RANK\", \"FOCUS_1980\", \"OCCURANCE_1980\", \"FOCUS_2010\", \"OCCURANCE_2010\"])\n",
    "    writer.writeheader()\n",
    "    for idx, val in enumerate(focus_counter_1980.most_common(50)):\n",
    "        writer.writerow({'RANK': str(idx+1), 'FOCUS_1980': val[0], 'OCCURANCE_1980': val[1], 'FOCUS_2010': help_list[idx][0], 'OCCURANCE_2010': help_list[idx][1]})"
   ]
  },
  {
   "cell_type": "markdown",
   "metadata": {},
   "source": [
    "# Conclusion\n",
    "- The result is interesting, as we can see from CSV file. In the year 1980, NYT focus very much on politics and government relating to China, which is only the 10th focus subject in 2010.\n",
    "- Just as the example above, we can jump to several further conclusions:\n",
    "- For China, what NYT cares the most in 1980 is China's politics and government while in 2010 is international trade and world market. The change of focus reflects how China developed in these 30 years.\n",
    "- Economic conditions and trends are always a main focus during these years.\n",
    "- In 2010, computers and the Internet, a keyword in top 3 focus showed up, which cannot be found in even top 50 of year 1980. Thus computers and the Internet is definitely a hot concern of China in recent years."
   ]
  },
  {
   "cell_type": "code",
   "execution_count": null,
   "metadata": {
    "collapsed": true
   },
   "outputs": [],
   "source": []
  }
 ],
 "metadata": {
  "anaconda-cloud": {},
  "kernelspec": {
   "display_name": "Python [default]",
   "language": "python",
   "name": "python3"
  },
  "language_info": {
   "codemirror_mode": {
    "name": "ipython",
    "version": 3
   },
   "file_extension": ".py",
   "mimetype": "text/x-python",
   "name": "python",
   "nbconvert_exporter": "python",
   "pygments_lexer": "ipython3",
   "version": "3.5.2"
  }
 },
 "nbformat": 4,
 "nbformat_minor": 1
}
