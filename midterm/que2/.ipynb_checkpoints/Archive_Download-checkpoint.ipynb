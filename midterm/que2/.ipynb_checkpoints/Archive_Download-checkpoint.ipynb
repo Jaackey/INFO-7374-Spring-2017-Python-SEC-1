{
 "cells": [
  {
   "cell_type": "markdown",
   "metadata": {},
   "source": [
    "# Archive Download\n",
    "- download archive data in year 1993 and 2016\n",
    "- file changed many times to download different content\n",
    "- for the last time this file is used to download article search data"
   ]
  },
  {
   "cell_type": "code",
   "execution_count": 7,
   "metadata": {
    "collapsed": true
   },
   "outputs": [],
   "source": [
    "import requests\n",
    "import os\n",
    "import json\n",
    "from pathlib import Path"
   ]
  },
  {
   "cell_type": "code",
   "execution_count": 8,
   "metadata": {
    "collapsed": false
   },
   "outputs": [
    {
     "name": "stdout",
     "output_type": "stream",
     "text": [
      "8e8b9cfcadf94cd9a987303db43b7b46\n"
     ]
    }
   ],
   "source": [
    "article_search_key = os.getenv('nyt_article_search_key')\n",
    "print(article_search_key)"
   ]
  },
  {
   "cell_type": "code",
   "execution_count": 31,
   "metadata": {
    "collapsed": false
   },
   "outputs": [],
   "source": [
    "import time\n",
    "\n",
    "p = Path(os.getcwd())\n",
    "archive_path = str(p.parent) + '/data/article_search/2010/'\n",
    "page = 0\n",
    "\n",
    "while page < 101:\n",
    "    raw_data = requests.get('http://developer.nytimes.com/proxy/https/api.nytimes.com/svc/search/v2/articlesearch.json?api-key='+article_search_key+'&q=China&begin_date=20100101&end_date=20101231&page='+str(page))\n",
    "    with open(archive_path+str(page)+'_a_s_2010.txt', 'w') as f:\n",
    "        f.write(json.dumps(raw_data.json()))\n",
    "    page += 1\n",
    "    time.sleep(2)\n"
   ]
  },
  {
   "cell_type": "code",
   "execution_count": null,
   "metadata": {
    "collapsed": true
   },
   "outputs": [],
   "source": []
  }
 ],
 "metadata": {
  "anaconda-cloud": {},
  "kernelspec": {
   "display_name": "Python [default]",
   "language": "python",
   "name": "python3"
  },
  "language_info": {
   "codemirror_mode": {
    "name": "ipython",
    "version": 3
   },
   "file_extension": ".py",
   "mimetype": "text/x-python",
   "name": "python",
   "nbconvert_exporter": "python",
   "pygments_lexer": "ipython3",
   "version": "3.5.2"
  }
 },
 "nbformat": 4,
 "nbformat_minor": 1
}
