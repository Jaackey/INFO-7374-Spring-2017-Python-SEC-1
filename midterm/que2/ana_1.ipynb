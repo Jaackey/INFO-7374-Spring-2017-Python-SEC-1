{
 "cells": [
  {
   "cell_type": "markdown",
   "metadata": {},
   "source": [
    "# Question 2 Analysis 1\n",
    "- with NYT archive API download all news in year 1993\n",
    "- find name keywords of every article in this year\n",
    "- try to find the most important person in this year\n",
    "- generate a CSV file showing these important people"
   ]
  },
  {
   "cell_type": "code",
   "execution_count": 26,
   "metadata": {
    "collapsed": true
   },
   "outputs": [],
   "source": [
    "import glob\n",
    "import os\n",
    "import json\n",
    "from pathlib import Path\n",
    "from collections import Counter"
   ]
  },
  {
   "cell_type": "code",
   "execution_count": 27,
   "metadata": {
    "collapsed": true
   },
   "outputs": [],
   "source": [
    "# prepare the path to news in year 1993\n",
    "p = Path(os.getcwd())\n",
    "archive_path = str(p.parent) + '/data/archive/1993/*'"
   ]
  },
  {
   "cell_type": "code",
   "execution_count": 28,
   "metadata": {
    "collapsed": false
   },
   "outputs": [
    {
     "name": "stdout",
     "output_type": "stream",
     "text": [
      "59468\n"
     ]
    }
   ],
   "source": [
    "# get the persons in keyword of those news and add them to person_list\n",
    "files = glob.glob(archive_path)\n",
    "person_list = []\n",
    "for file in files:\n",
    "    with open(file, 'r', encoding='utf-8', errors='ignore') as f:\n",
    "        python_data = json.load(f)\n",
    "        docs = python_data['response']['docs']\n",
    "        for doc in docs:\n",
    "            if 'keywords' in doc:\n",
    "                keywords = doc['keywords']\n",
    "                for key in keywords:\n",
    "                    if key['name'] == 'persons':\n",
    "                        person_list.append(key['value'])\n",
    "print(len(person_list))"
   ]
  },
  {
   "cell_type": "code",
   "execution_count": 29,
   "metadata": {
    "collapsed": false
   },
   "outputs": [
    {
     "name": "stdout",
     "output_type": "stream",
     "text": [
      "CLINTON, BILL: 3863\n",
      "DINKINS, DAVID N: 787\n",
      "GIULIANI, RUDOLPH W: 473\n",
      "YELTSIN, BORIS N: 354\n",
      "BUSH, GEORGE: 342\n",
      "CUOMO, MARIO M: 277\n",
      "CLINTON, HILLARY RODHAM: 232\n",
      "FLORIO, JAMES J: 219\n",
      "WHITMAN, CHRISTINE TODD: 206\n",
      "CHRISTOPHER, WARREN M: 157\n"
     ]
    }
   ],
   "source": [
    "# count the frequency of those names and order them\n",
    "name_counter = Counter()\n",
    "for name in person_list:\n",
    "    name_counter.update([name])\n",
    "for name, time in name_counter.most_common(10):\n",
    "    print(name+': '+ str(time))"
   ]
  },
  {
   "cell_type": "code",
   "execution_count": 30,
   "metadata": {
    "collapsed": false
   },
   "outputs": [],
   "source": [
    "# write those persons into CSV file in popularity-descending order\n",
    "import csv\n",
    "output_path = 'ana_1/important_persons.csv'\n",
    "with open(output_path, 'w') as outcsv:\n",
    "    writer = csv.DictWriter(outcsv, fieldnames = [\"PERSON\",\"TIMES_OF_OCCURANCE\"])\n",
    "    writer.writeheader()\n",
    "    for name, time in name_counter.most_common(50):\n",
    "        writer.writerow({'PERSON': name,'TIMES_OF_OCCURANCE': str(time)})\n"
   ]
  },
  {
   "cell_type": "markdown",
   "metadata": {},
   "source": [
    "# Conclusion\n",
    "- As Bill Clinton showed up 3863 times in keywords in year 1993, we have plenty of evidence to say he is the most important (or controversial) person in that year\n",
    "- Just behind Bill Clinton, David Dinkins (106th Mayor of New York City, from 1990 to 1993) and Rudolph Giuliani (107th Mayor of New York City, from 1994 to 2001) are also reasonable to be popular on NYT news"
   ]
  },
  {
   "cell_type": "code",
   "execution_count": null,
   "metadata": {
    "collapsed": true
   },
   "outputs": [],
   "source": []
  }
 ],
 "metadata": {
  "anaconda-cloud": {},
  "kernelspec": {
   "display_name": "Python [default]",
   "language": "python",
   "name": "python3"
  },
  "language_info": {
   "codemirror_mode": {
    "name": "ipython",
    "version": 3
   },
   "file_extension": ".py",
   "mimetype": "text/x-python",
   "name": "python",
   "nbconvert_exporter": "python",
   "pygments_lexer": "ipython3",
   "version": "3.5.2"
  }
 },
 "nbformat": 4,
 "nbformat_minor": 1
}
