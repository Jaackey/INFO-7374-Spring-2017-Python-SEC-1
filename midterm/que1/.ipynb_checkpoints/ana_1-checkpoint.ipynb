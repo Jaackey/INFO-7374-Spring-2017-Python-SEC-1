{
 "cells": [
  {
   "cell_type": "markdown",
   "metadata": {},
   "source": [
    "# Question 1 Analysis 1\n",
    "- find top 50 most used words in sent emails\n",
    "- generate a CSV file listing the words and frequency"
   ]
  },
  {
   "cell_type": "code",
   "execution_count": 22,
   "metadata": {
    "collapsed": true
   },
   "outputs": [],
   "source": [
    "import glob\n",
    "import string\n",
    "import os\n",
    "import nltk\n",
    "from pathlib import Path\n",
    "from collections import Counter"
   ]
  },
  {
   "cell_type": "code",
   "execution_count": 23,
   "metadata": {
    "collapsed": false
   },
   "outputs": [
    {
     "data": {
      "text/plain": [
       "153"
      ]
     },
     "execution_count": 23,
     "metadata": {},
     "output_type": "execute_result"
    }
   ],
   "source": [
    "# find sent-boxes of all users\n",
    "p = Path(os.getcwd())\n",
    "email_path = str(p.parent) + '/data/enron/maildir/*/sent/*.'\n",
    "stop_words = set(nltk.corpus.stopwords.words('english'))\n",
    "len(stop_words)"
   ]
  },
  {
   "cell_type": "code",
   "execution_count": 30,
   "metadata": {
    "collapsed": true
   },
   "outputs": [],
   "source": [
    "# find the words in sent-boxes and count the frequency\n",
    "files = glob.glob(email_path)\n",
    "word_counter = Counter()\n",
    "for file in files:\n",
    "        with open(file, 'r', encoding='utf-8', errors='ignore') as f:\n",
    "            # lambda here: strip those words which may end with punctuations\n",
    "            for word in map(lambda w: w.strip(string.punctuation).lower(), f.read().split()):\n",
    "                # ignore words that contain contain punctuation and are stopwords\n",
    "                if word != '' and word not in stop_words and word.isalpha():\n",
    "                    word_counter.update([word])"
   ]
  },
  {
   "cell_type": "code",
   "execution_count": 32,
   "metadata": {
    "collapsed": false
   },
   "outputs": [],
   "source": [
    "# generate a CSV file listing the words and frequency\n",
    "import csv\n",
    "output_path = 'ana_1/sent_words.csv'\n",
    "with open(output_path, 'w') as outcsv:\n",
    "        writer = csv.DictWriter(outcsv, fieldnames = [\"WORD\",\"FREQUENCY\"])\n",
    "        writer.writeheader()\n",
    "        for word,freq in word_counter.most_common(50):\n",
    "            writer.writerow({'WORD': word,'FREQUENCY': str(freq)})"
   ]
  },
  {
   "cell_type": "code",
   "execution_count": null,
   "metadata": {
    "collapsed": true
   },
   "outputs": [],
   "source": []
  }
 ],
 "metadata": {
  "anaconda-cloud": {},
  "kernelspec": {
   "display_name": "Python [default]",
   "language": "python",
   "name": "python3"
  },
  "language_info": {
   "codemirror_mode": {
    "name": "ipython",
    "version": 3
   },
   "file_extension": ".py",
   "mimetype": "text/x-python",
   "name": "python",
   "nbconvert_exporter": "python",
   "pygments_lexer": "ipython3",
   "version": "3.5.2"
  }
 },
 "nbformat": 4,
 "nbformat_minor": 1
}
