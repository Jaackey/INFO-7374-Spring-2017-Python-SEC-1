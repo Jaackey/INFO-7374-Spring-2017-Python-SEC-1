{
 "cells": [
  {
   "cell_type": "markdown",
   "metadata": {},
   "source": [
    "# Question 1 Analysis 3\n",
    "- from CSV files generated in analysis 2, import as a matrix\n",
    "- for every user, find the person to whom most emails are sent\n",
    "- generate a CSV file listing who is the \"most-emailed-friend\" for every user and number of emails"
   ]
  },
  {
   "cell_type": "code",
   "execution_count": 30,
   "metadata": {
    "collapsed": false
   },
   "outputs": [
    {
     "name": "stdout",
     "output_type": "stream",
     "text": [
      "121\n",
      "121\n"
     ]
    }
   ],
   "source": [
    "import csv\n",
    "# import CSV file which is generated in last analysis, and turn it into matrix\n",
    "email_matrix = []\n",
    "with open('ana_2/email_count.csv', 'r') as f:\n",
    "    reader = csv.reader(f)\n",
    "    email_matrix = [[x for x in row] for row in reader]\n",
    "print(len(email_matrix))\n",
    "print(len(email_matrix[0]))"
   ]
  },
  {
   "cell_type": "code",
   "execution_count": 31,
   "metadata": {
    "collapsed": false
   },
   "outputs": [
    {
     "name": "stdout",
     "output_type": "stream",
     "text": [
      "121\n"
     ]
    }
   ],
   "source": [
    "# for each row in matrix, find the indices of maximum number in that row\n",
    "# index of most_emails refers to id of sender\n",
    "# value of most_emails refers to id of receiver\n",
    "most_emails= []\n",
    "for num_list in email_matrix:\n",
    "    max_value = max(num_list)\n",
    "    max_index = num_list.index(max_value)\n",
    "    most_emails.append(max_index)\n",
    "print(len(most_emails))"
   ]
  },
  {
   "cell_type": "code",
   "execution_count": 32,
   "metadata": {
    "collapsed": false
   },
   "outputs": [
    {
     "name": "stdout",
     "output_type": "stream",
     "text": [
      "121\n"
     ]
    }
   ],
   "source": [
    "import csv\n",
    "# from this CSV we get id and relating email address\n",
    "id_dict = {}\n",
    "with open('ana_2/email_id.csv') as csvfile:\n",
    "    reader = csv.DictReader(csvfile)\n",
    "    for row in reader:\n",
    "        id_dict[int(row['ID'])] = row['NAME']\n",
    "print(len(id_dict))"
   ]
  },
  {
   "cell_type": "code",
   "execution_count": 33,
   "metadata": {
    "collapsed": false
   },
   "outputs": [],
   "source": [
    "output_path = 'ana_3/most_email_friend.csv'\n",
    "with open(output_path, 'w') as outcsv:\n",
    "        writer = csv.DictWriter(outcsv, fieldnames = [\"FROM\", \"TO\", \"EMAIL_NUM\"])\n",
    "        writer.writeheader()\n",
    "        row = 0\n",
    "        for x in most_emails:\n",
    "            em_num = int(email_matrix[row][x])\n",
    "            # some users send no emails to people in this data set\n",
    "            if em_num == 0:\n",
    "                continue\n",
    "            # row refers to id of sender, I only want the name part, not the whole email address\n",
    "            from_user = id_dict[row].split('@')[0]\n",
    "            # x refers to id of receiver\n",
    "            to_user = id_dict[x].split('@')[0]\n",
    "            row += 1\n",
    "            writer.writerow({'FROM': from_user,'TO': to_user, 'EMAIL_NUM': str(em_num)})\n"
   ]
  },
  {
   "cell_type": "markdown",
   "metadata": {},
   "source": [
    "- I only analyzed emails that are sent to users in this data set\n",
    "- Not all users are listed in CSV file, because some of them usually send emails to people not in this data set\n",
    "- we can see from 'ana_3/most_email_friend.csv' CSV file that who are 'most-emailed-friends' of users in this data set"
   ]
  },
  {
   "cell_type": "code",
   "execution_count": null,
   "metadata": {
    "collapsed": true
   },
   "outputs": [],
   "source": []
  }
 ],
 "metadata": {
  "anaconda-cloud": {},
  "kernelspec": {
   "display_name": "Python [default]",
   "language": "python",
   "name": "python3"
  },
  "language_info": {
   "codemirror_mode": {
    "name": "ipython",
    "version": 3
   },
   "file_extension": ".py",
   "mimetype": "text/x-python",
   "name": "python",
   "nbconvert_exporter": "python",
   "pygments_lexer": "ipython3",
   "version": "3.5.2"
  }
 },
 "nbformat": 4,
 "nbformat_minor": 1
}
