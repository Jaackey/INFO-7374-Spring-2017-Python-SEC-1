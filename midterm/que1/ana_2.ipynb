{
 "cells": [
  {
   "cell_type": "markdown",
   "metadata": {},
   "source": [
    "# Question 1 Analysis 2\n",
    "- count times of email contact between users in data set\n",
    "- generate a CSV file showing the result"
   ]
  },
  {
   "cell_type": "code",
   "execution_count": 1,
   "metadata": {
    "collapsed": true
   },
   "outputs": [],
   "source": [
    "import glob\n",
    "import os\n",
    "import csv\n",
    "from pathlib import Path\n",
    "from collections import Counter"
   ]
  },
  {
   "cell_type": "code",
   "execution_count": 2,
   "metadata": {
    "collapsed": true
   },
   "outputs": [],
   "source": [
    "p = Path(os.getcwd())\n",
    "email_path = str(p.parent) + '/data/enron/maildir/*/sent/*.'"
   ]
  },
  {
   "cell_type": "code",
   "execution_count": 7,
   "metadata": {
    "collapsed": false
   },
   "outputs": [
    {
     "name": "stdout",
     "output_type": "stream",
     "text": [
      "121\n"
     ]
    }
   ],
   "source": [
    "# first, store the users that is in data set\n",
    "files = glob.glob(email_path)\n",
    "sent_email_address_list = []\n",
    "for file in files:\n",
    "        with open(file, 'r', encoding='utf-8', errors='ignore') as f:\n",
    "            for i, line in enumerate(f):\n",
    "                if i == 2:\n",
    "                    sent_email_address_list.append(line[6:-1])\n",
    "                    break\n",
    "print(len(set(sent_email_address_list)))"
   ]
  },
  {
   "cell_type": "code",
   "execution_count": 9,
   "metadata": {
    "collapsed": false
   },
   "outputs": [
    {
     "name": "stdout",
     "output_type": "stream",
     "text": [
      "121\n"
     ]
    }
   ],
   "source": [
    "# transfer this user set into a dictionary that relate an email address to an ID\n",
    "email_dict = {}\n",
    "index = 0\n",
    "for em in set(sent_email_address_list):\n",
    "    email_dict[em] = index\n",
    "    index += 1\n",
    "print(len(email_dict))"
   ]
  },
  {
   "cell_type": "code",
   "execution_count": 10,
   "metadata": {
    "collapsed": true
   },
   "outputs": [],
   "source": [
    "# we have 121 users in this data set\n",
    "# thus a 121*121 matrix will be created, each of whose element represents number of emails between two users\n",
    "# row indices are IDs of senders\n",
    "# column indices are IDs of receivers\n",
    "email_matrix = [[0 for x in range(len(email_dict))] for y in range(len(email_dict))] "
   ]
  },
  {
   "cell_type": "code",
   "execution_count": 21,
   "metadata": {
    "collapsed": false
   },
   "outputs": [
    {
     "name": "stdout",
     "output_type": "stream",
     "text": [
      "121\n"
     ]
    }
   ],
   "source": [
    "# if a email is sent from A to B, this email will be found in A's sent-box and in B's in-box\n",
    "# thus read only from 'send' folders to prevent duplicates\n",
    "from_email = ''\n",
    "# there may be multiple receivers, so create a list to store them\n",
    "to_email_list = []\n",
    "for file in files:\n",
    "        with open(file, 'r', encoding='utf-8', errors='ignore') as f:\n",
    "            for i, line in enumerate(f):\n",
    "                # this line refers to \"From: xxx\"\n",
    "                if i == 2:\n",
    "                    from_email = line[6:-1]\n",
    "                # starting from this line(\"To: xxx\"), there may be multiple lines of reveivers\n",
    "                # after \"To: xxx\", the line \"Subject: xxx\" indicates the end of receivers\n",
    "                elif i > 2 and not line.startswith('Subject'):\n",
    "                    # extract only email addresses from receivers, then add them to receiver list\n",
    "                    to_email_list.extend(line.replace('To: ', '').strip().split(', '))\n",
    "                elif line.startswith('Subject'):\n",
    "                    # all reveivers stored in list, update the matrix\n",
    "                    row = email_dict[from_email]\n",
    "                    for em in to_email_list:\n",
    "                        if em == '' or em not in email_dict:\n",
    "                            continue\n",
    "                        else:\n",
    "                            col = email_dict[em]\n",
    "                            email_matrix[row][col] += 1\n",
    "                    # clear the list for next email\n",
    "                    to_email_list = []\n",
    "                    from_email = ''\n",
    "                    break\n",
    "print(len(email_matrix))"
   ]
  },
  {
   "cell_type": "code",
   "execution_count": 22,
   "metadata": {
    "collapsed": true
   },
   "outputs": [],
   "source": [
    "# generate a CSV showing email addresses and relating IDs\n",
    "output_path = 'ana_2/email_id.csv'\n",
    "with open(output_path, 'w') as outcsv:\n",
    "        writer = csv.DictWriter(outcsv, fieldnames = [\"NAME\",\"ID\"])\n",
    "        writer.writeheader()\n",
    "        for em,em_id in email_dict.items():\n",
    "            writer.writerow({'NAME': em,'ID': str(em_id)})"
   ]
  },
  {
   "cell_type": "code",
   "execution_count": 25,
   "metadata": {
    "collapsed": true
   },
   "outputs": [],
   "source": [
    "# generate a CSV of the matrix\n",
    "with open(\"ana_2/email_count.csv\", \"w\") as f:\n",
    "    writer = csv.writer(f)\n",
    "    writer.writerows(email_matrix)"
   ]
  },
  {
   "cell_type": "code",
   "execution_count": null,
   "metadata": {
    "collapsed": true
   },
   "outputs": [],
   "source": []
  }
 ],
 "metadata": {
  "anaconda-cloud": {},
  "kernelspec": {
   "display_name": "Python [default]",
   "language": "python",
   "name": "python3"
  },
  "language_info": {
   "codemirror_mode": {
    "name": "ipython",
    "version": 3
   },
   "file_extension": ".py",
   "mimetype": "text/x-python",
   "name": "python",
   "nbconvert_exporter": "python",
   "pygments_lexer": "ipython3",
   "version": "3.5.2"
  }
 },
 "nbformat": 4,
 "nbformat_minor": 1
}
