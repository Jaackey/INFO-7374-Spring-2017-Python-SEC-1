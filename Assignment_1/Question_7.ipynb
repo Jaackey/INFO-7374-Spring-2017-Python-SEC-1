{
 "cells": [
  {
   "cell_type": "markdown",
   "metadata": {},
   "source": [
    "# Question 7\n",
    "- Use Name corpus, calculate the probability of a name being of a male or female base on the last character(s) of name\n",
    "- Output must come with proper title (e.g. [a] male: 25%, female: 60%)"
   ]
  },
  {
   "cell_type": "code",
   "execution_count": 2,
   "metadata": {
    "collapsed": false
   },
   "outputs": [
    {
     "name": "stdout",
     "output_type": "stream",
     "text": [
      "['female.txt', 'male.txt']\n"
     ]
    }
   ],
   "source": [
    "import nltk\n",
    "file_list = nltk.corpus.names.fileids()\n",
    "print(file_list)"
   ]
  },
  {
   "cell_type": "code",
   "execution_count": 24,
   "metadata": {
    "collapsed": false
   },
   "outputs": [],
   "source": [
    "import string\n",
    "dict_female = {}\n",
    "dict_male = {}\n",
    "for letter in list(string.ascii_lowercase):\n",
    "    dict_female[letter] = 0\n",
    "    dict_male[letter] = 0\n",
    "female_list = list(nltk.corpus.names.words('female.txt'))\n",
    "for name in female_list:\n",
    "    last = name.strip()[-1]\n",
    "    dict_female[last] += 1\n",
    "male_list = list(nltk.corpus.names.words('male.txt'))\n",
    "for name in male_list:\n",
    "    last = name.strip()[-1]\n",
    "    dict_male[last] += 1"
   ]
  },
  {
   "cell_type": "code",
   "execution_count": 28,
   "metadata": {
    "collapsed": false
   },
   "outputs": [
    {
     "name": "stdout",
     "output_type": "stream",
     "text": [
      "[ a ] male:  1.609322974472808 %, female:  98.3906770255272 %\n",
      "[ b ] male:  70.0 %, female:  30.0 %\n",
      "[ c ] male:  100.0 %, female:  0.0 %\n",
      "[ d ] male:  85.3932584269663 %, female:  14.606741573033707 %\n",
      "[ e ] male:  24.618621778011573 %, female:  75.38137822198843 %\n",
      "[ f ] male:  92.5925925925926 %, female:  7.407407407407407 %\n",
      "[ g ] male:  76.19047619047619 %, female:  23.80952380952381 %\n",
      "[ h ] male:  46.96969696969697 %, female:  53.03030303030303 %\n",
      "[ i ] male:  13.623978201634877 %, female:  86.37602179836512 %\n",
      "[ j ] male:  75.0 %, female:  25.0 %\n",
      "[ k ] male:  95.83333333333333 %, female:  4.166666666666667 %\n",
      "[ l ] male:  51.09289617486339 %, female:  48.90710382513661 %\n",
      "[ m ] male:  84.33734939759036 %, female:  15.662650602409638 %\n",
      "[ n ] male:  55.324074074074076 %, female:  44.675925925925924 %\n",
      "[ o ] male:  83.33333333333333 %, female:  16.666666666666668 %\n",
      "[ p ] male:  90.0 %, female:  10.0 %\n",
      "[ q ] male:  0 %, female:  0 %\n",
      "[ r ] male:  80.16877637130801 %, female:  19.831223628691983 %\n",
      "[ s ] male:  71.20743034055728 %, female:  28.792569659442723 %\n",
      "[ t ] male:  70.6896551724138 %, female:  29.310344827586206 %\n",
      "[ u ] male:  66.66666666666667 %, female:  33.333333333333336 %\n",
      "[ v ] male:  88.88888888888889 %, female:  11.11111111111111 %\n",
      "[ w ] male:  77.27272727272727 %, female:  22.727272727272727 %\n",
      "[ x ] male:  50.0 %, female:  50.0 %\n",
      "[ y ] male:  41.86633039092055 %, female:  58.13366960907945 %\n",
      "[ z ] male:  73.33333333333333 %, female:  26.666666666666668 %\n"
     ]
    }
   ],
   "source": [
    "for letter in list(string.ascii_lowercase):\n",
    "    male = dict_male[letter]\n",
    "    female = dict_female[letter]\n",
    "    total = male + female\n",
    "    if(total == 0):\n",
    "        print('[',letter,'] male: ',0,'%, female: ',0,'%')\n",
    "    else:\n",
    "        print('[',letter,'] male: ',100*male/total,'%, female: ',100*female/total,'%')"
   ]
  },
  {
   "cell_type": "code",
   "execution_count": null,
   "metadata": {
    "collapsed": true
   },
   "outputs": [],
   "source": []
  }
 ],
 "metadata": {
  "kernelspec": {
   "display_name": "Python [default]",
   "language": "python",
   "name": "python3"
  },
  "language_info": {
   "codemirror_mode": {
    "name": "ipython",
    "version": 3
   },
   "file_extension": ".py",
   "mimetype": "text/x-python",
   "name": "python",
   "nbconvert_exporter": "python",
   "pygments_lexer": "ipython3",
   "version": "3.5.2"
  }
 },
 "nbformat": 4,
 "nbformat_minor": 1
}
