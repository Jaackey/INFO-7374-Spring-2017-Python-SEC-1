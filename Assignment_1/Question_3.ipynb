{
 "cells": [
  {
   "cell_type": "markdown",
   "metadata": {},
   "source": [
    "# Question 3\n",
    "- Under package Webtext, see what files are in it\n",
    "- Get content in file 'pirates.txt'\n",
    "- According to the number of lines for Jack Sparrow and Will Turner, find out who is the real leading man in this movie"
   ]
  },
  {
   "cell_type": "code",
   "execution_count": 1,
   "metadata": {
    "collapsed": false
   },
   "outputs": [
    {
     "data": {
      "text/plain": [
       "['firefox.txt',\n",
       " 'grail.txt',\n",
       " 'overheard.txt',\n",
       " 'pirates.txt',\n",
       " 'singles.txt',\n",
       " 'wine.txt']"
      ]
     },
     "execution_count": 1,
     "metadata": {},
     "output_type": "execute_result"
    }
   ],
   "source": [
    "import nltk\n",
    "nltk.corpus.webtext.fileids()"
   ]
  },
  {
   "cell_type": "code",
   "execution_count": 35,
   "metadata": {
    "collapsed": false
   },
   "outputs": [],
   "source": [
    "text = list(nltk.corpus.webtext.words('pirates.txt'))"
   ]
  },
  {
   "cell_type": "code",
   "execution_count": 39,
   "metadata": {
    "collapsed": false
   },
   "outputs": [
    {
     "name": "stdout",
     "output_type": "stream",
     "text": [
      "193\n",
      "133\n",
      "JACK SPARROW LEADS\n"
     ]
    }
   ],
   "source": [
    "jack_count = 0\n",
    "will_count = 0\n",
    "joined_text = ''.join(text)\n",
    "jack_count = joined_text.count('JACKSPARROW:')\n",
    "will_count = joined_text.count('WILLTURNER:')\n",
    "print(jack_count)\n",
    "print(will_count)\n",
    "if jack_count > will_count:\n",
    "    print('JACK SPARROW LEADS')\n",
    "elif jack_count < will_count:\n",
    "    print('WILL TURNER LEADS')\n",
    "else:\n",
    "    print('THEY BOTH LEAD')"
   ]
  },
  {
   "cell_type": "code",
   "execution_count": null,
   "metadata": {
    "collapsed": true
   },
   "outputs": [],
   "source": [
    "'[', 'Elizabeth', 'runs', 'to', 'Will', ']', 'ELIZABETH', 'SWANN', ':', 'Why', 'is', 'this', 'happening', '?'"
   ]
  }
 ],
 "metadata": {
  "anaconda-cloud": {},
  "kernelspec": {
   "display_name": "Python [default]",
   "language": "python",
   "name": "python3"
  },
  "language_info": {
   "codemirror_mode": {
    "name": "ipython",
    "version": 3
   },
   "file_extension": ".py",
   "mimetype": "text/x-python",
   "name": "python",
   "nbconvert_exporter": "python",
   "pygments_lexer": "ipython3",
   "version": "3.5.2"
  }
 },
 "nbformat": 4,
 "nbformat_minor": 1
}
