{
 "cells": [
  {
   "cell_type": "markdown",
   "metadata": {},
   "source": [
    "# Question 6\n",
    "- Under Inaugural Address package\n",
    "- For every president, find out how many unique words they used in speech\n",
    "- We will just assume that President Bush means one person (technically it is incorrect but we will ignore it)"
   ]
  },
  {
   "cell_type": "code",
   "execution_count": 2,
   "metadata": {
    "collapsed": false
   },
   "outputs": [
    {
     "name": "stdout",
     "output_type": "stream",
     "text": [
      "['1789-Washington.txt', '1793-Washington.txt', '1797-Adams.txt', '1801-Jefferson.txt', '1805-Jefferson.txt', '1809-Madison.txt', '1813-Madison.txt', '1817-Monroe.txt', '1821-Monroe.txt', '1825-Adams.txt', '1829-Jackson.txt', '1833-Jackson.txt', '1837-VanBuren.txt', '1841-Harrison.txt', '1845-Polk.txt', '1849-Taylor.txt', '1853-Pierce.txt', '1857-Buchanan.txt', '1861-Lincoln.txt', '1865-Lincoln.txt', '1869-Grant.txt', '1873-Grant.txt', '1877-Hayes.txt', '1881-Garfield.txt', '1885-Cleveland.txt', '1889-Harrison.txt', '1893-Cleveland.txt', '1897-McKinley.txt', '1901-McKinley.txt', '1905-Roosevelt.txt', '1909-Taft.txt', '1913-Wilson.txt', '1917-Wilson.txt', '1921-Harding.txt', '1925-Coolidge.txt', '1929-Hoover.txt', '1933-Roosevelt.txt', '1937-Roosevelt.txt', '1941-Roosevelt.txt', '1945-Roosevelt.txt', '1949-Truman.txt', '1953-Eisenhower.txt', '1957-Eisenhower.txt', '1961-Kennedy.txt', '1965-Johnson.txt', '1969-Nixon.txt', '1973-Nixon.txt', '1977-Carter.txt', '1981-Reagan.txt', '1985-Reagan.txt', '1989-Bush.txt', '1993-Clinton.txt', '1997-Clinton.txt', '2001-Bush.txt', '2005-Bush.txt', '2009-Obama.txt']\n"
     ]
    }
   ],
   "source": [
    "import nltk\n",
    "file_list = nltk.corpus.inaugural.fileids()\n",
    "print(file_list)"
   ]
  },
  {
   "cell_type": "code",
   "execution_count": 12,
   "metadata": {
    "collapsed": false
   },
   "outputs": [
    {
     "name": "stdout",
     "output_type": "stream",
     "text": [
      "Obama\n",
      "938\n",
      "Roosevelt\n",
      "1704\n",
      "Coolidge\n",
      "1221\n",
      "Nixon\n",
      "1037\n",
      "Taylor\n",
      "499\n",
      "Reagan\n",
      "1453\n",
      "Garfield\n",
      "1022\n",
      "VanBuren\n",
      "1318\n",
      "Harrison\n",
      "2662\n",
      "Pierce\n",
      "1168\n",
      "Hayes\n",
      "832\n",
      "Lincoln\n",
      "1261\n",
      "Taft\n",
      "1439\n",
      "Eisenhower\n",
      "1250\n",
      "Jackson\n",
      "846\n",
      "Monroe\n",
      "1781\n",
      "Washington\n",
      "663\n",
      "Adams\n",
      "1503\n",
      "Buchanan\n",
      "948\n",
      "Wilson\n",
      "996\n",
      "Truman\n",
      "781\n",
      "Polk\n",
      "1333\n",
      "McKinley\n",
      "1682\n",
      "Bush\n",
      "1578\n",
      "Madison\n",
      "899\n",
      "Hoover\n",
      "1087\n",
      "Kennedy\n",
      "570\n",
      "Cleveland\n",
      "1219\n",
      "Harding\n",
      "1170\n",
      "Johnson\n",
      "571\n",
      "Clinton\n",
      "1138\n",
      "Grant\n",
      "855\n",
      "Jefferson\n",
      "1261\n",
      "Carter\n",
      "529\n"
     ]
    }
   ],
   "source": [
    "d = {}\n",
    "for name in file_list:\n",
    "    key = name[5:-4]\n",
    "    if key in d:\n",
    "        value_list = list(nltk.corpus.inaugural.words(name))\n",
    "        d[key].extend(value_list)\n",
    "    else:\n",
    "        value_list = list(nltk.corpus.inaugural.words(name))\n",
    "        d[key] = value_list\n",
    "for key in d.keys():\n",
    "    print(key)\n",
    "    print(len(set(d[key])))"
   ]
  },
  {
   "cell_type": "code",
   "execution_count": null,
   "metadata": {
    "collapsed": true
   },
   "outputs": [],
   "source": []
  },
  {
   "cell_type": "code",
   "execution_count": null,
   "metadata": {
    "collapsed": true
   },
   "outputs": [],
   "source": []
  }
 ],
 "metadata": {
  "anaconda-cloud": {},
  "kernelspec": {
   "display_name": "Python [default]",
   "language": "python",
   "name": "python3"
  },
  "language_info": {
   "codemirror_mode": {
    "name": "ipython",
    "version": 3
   },
   "file_extension": ".py",
   "mimetype": "text/x-python",
   "name": "python",
   "nbconvert_exporter": "python",
   "pygments_lexer": "ipython3",
   "version": "3.5.2"
  }
 },
 "nbformat": 4,
 "nbformat_minor": 1
}
