{
 "cells": [
  {
   "cell_type": "markdown",
   "metadata": {},
   "source": [
    "# Question 5\n",
    "- Use Gutenberg and Web_text data. Find out what are the top 5 words that Shakespeare used but we do not use in currently\n",
    "- Take top 50 words from Shakespeare (all 3 books) and top 50 from Web_text (all the records)\n",
    "- Remove punctuation and stop words\n",
    "- Remove the words we still use today, and get the unused list. Show the top 5 elements"
   ]
  },
  {
   "cell_type": "code",
   "execution_count": 3,
   "metadata": {
    "collapsed": false
   },
   "outputs": [
    {
     "name": "stdout",
     "output_type": "stream",
     "text": [
      "['haue', 'ham', 'thou', 'shall', 'lord', 'come', 'king', 'enter', 'good', 'let', 'thy', 'caesar', 'vs', 'know', 'thee', 'would', 'vpon', 'brutus', 'like', 'bru', 'well', 'hath', 'selfe', 'man', 'may', 'macb', 'yet', 'heere', 'say', 'must', 'tis', 'th', 'loue', 'speake', 'make', 'giue', 'see', 'time', 'night', 'sir', 'one', 'st', 'cassi']\n",
      "['girl', 'guy', '1', '2', 'like', 'man', 'know', 'woman', 'yeah', 'page', 'firefox', 'get', 'new', 'chick', 'one', 'oh', 'open', 'window', 'good', 'bookmarks', 'teen', 'well', 'firebird', 'cell', 'right', 'go', 'work', 'bar', 'menu', 'tab', 'lady', 'toolbar', 'boy', 'want', 'think']\n"
     ]
    }
   ],
   "source": [
    "import nltk\n",
    "from string import punctuation\n",
    "from collections import Counter\n",
    "stopwords = set(nltk.corpus.stopwords.words('english'))\n",
    "shakes_list = nltk.corpus.gutenberg.fileids()\n",
    "our_list = nltk.corpus.webtext.fileids()\n",
    "shakes_counter = Counter()\n",
    "our_conter = Counter()\n",
    "for name in shakes_list:\n",
    "    if name.startswith('shakes'):\n",
    "        for word in nltk.corpus.gutenberg.words(name):\n",
    "            word = word.lower()\n",
    "            if word not in stopwords:\n",
    "                shakes_counter.update([word])\n",
    "for name in our_list:\n",
    "    for word in nltk.corpus.webtext.words(name):\n",
    "        word = word.lower()\n",
    "        if word not in stopwords:\n",
    "            our_conter.update([word])\n",
    "shakes_list = [k for k,_ in shakes_counter.most_common(50)]\n",
    "our_list = [k for k,_ in our_conter.most_common(50)]\n",
    "shakes_list = [''.join(c for c in s if c not in punctuation) for s in shakes_list]\n",
    "our_list = [''.join(c for c in s if c not in punctuation) for s in our_list]\n",
    "shakes_list = [s for s in shakes_list if s]\n",
    "our_list = [s for s in our_list if s]\n",
    "print(shakes_list)\n",
    "print(our_list)"
   ]
  },
  {
   "cell_type": "code",
   "execution_count": 4,
   "metadata": {
    "collapsed": false
   },
   "outputs": [
    {
     "name": "stdout",
     "output_type": "stream",
     "text": [
      "haue\n",
      "ham\n",
      "thou\n",
      "shall\n",
      "lord\n"
     ]
    }
   ],
   "source": [
    "unused_list = [x for x in shakes_list if x not in our_list]\n",
    "# print(unused_list)\n",
    "count = 0\n",
    "for k,_ in shakes_counter.most_common(50):\n",
    "    if k in unused_list:\n",
    "        print(k)\n",
    "        count += 1\n",
    "    if count == 5:\n",
    "        break"
   ]
  },
  {
   "cell_type": "code",
   "execution_count": null,
   "metadata": {
    "collapsed": true
   },
   "outputs": [],
   "source": []
  }
 ],
 "metadata": {
  "anaconda-cloud": {},
  "kernelspec": {
   "display_name": "Python [default]",
   "language": "python",
   "name": "python3"
  },
  "language_info": {
   "codemirror_mode": {
    "name": "ipython",
    "version": 3
   },
   "file_extension": ".py",
   "mimetype": "text/x-python",
   "name": "python",
   "nbconvert_exporter": "python",
   "pygments_lexer": "ipython3",
   "version": "3.5.2"
  }
 },
 "nbformat": 4,
 "nbformat_minor": 1
}
