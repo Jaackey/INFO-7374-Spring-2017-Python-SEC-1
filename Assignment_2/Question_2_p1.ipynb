{
 "cells": [
  {
   "cell_type": "markdown",
   "metadata": {},
   "source": [
    "# Question 2 part 1\n",
    "- Read all the json files in the folder called Data\n",
    "- There are three categories of json files in this folder. They are identified by the key called “term” in each of the json file\n",
    "- Create a folder structure to read all these json files and store them into these separate folders. You are expected to create a hierarchy of folder structure\n",
    "- You can place all restaurants json files in a particular country (say Australia) in the same folder. How you group the json files and create a folder structure is your choice. Your task is to identify criteria by which you can group all these json files and store them\n",
    "- (You could use these keys to create hierarchy and store json files: Country, city, categories)"
   ]
  },
  {
   "cell_type": "code",
   "execution_count": 4,
   "metadata": {
    "collapsed": false
   },
   "outputs": [],
   "source": [
    "import glob\n",
    "import json\n",
    "\n",
    "files = glob.glob('Data/*.json')"
   ]
  },
  {
   "cell_type": "code",
   "execution_count": 5,
   "metadata": {
    "collapsed": false
   },
   "outputs": [],
   "source": [
    "import os\n",
    "import shutil\n",
    "\n",
    "for file in files:\n",
    "    with open(file, 'r', encoding='utf-8', errors='ignore') as f:\n",
    "        # load json file and turn into python data\n",
    "        python_data = json.load(f)\n",
    "        # get info I need to classify them\n",
    "        term = python_data['term']\n",
    "        country = python_data['location']['country']\n",
    "        city = python_data['location']['city']\n",
    "        # define path for this file\n",
    "        path = 'Processed_Data/'+term+'/'+country+'/'+city+'/'\n",
    "        # create directory and copy\n",
    "        if not os.path.exists(path):\n",
    "            os.makedirs(path)\n",
    "        shutil.copy(file, path)"
   ]
  },
  {
   "cell_type": "code",
   "execution_count": null,
   "metadata": {
    "collapsed": true
   },
   "outputs": [],
   "source": []
  }
 ],
 "metadata": {
  "anaconda-cloud": {},
  "kernelspec": {
   "display_name": "Python [default]",
   "language": "python",
   "name": "python3"
  },
  "language_info": {
   "codemirror_mode": {
    "name": "ipython",
    "version": 3
   },
   "file_extension": ".py",
   "mimetype": "text/x-python",
   "name": "python",
   "nbconvert_exporter": "python",
   "pygments_lexer": "ipython3",
   "version": "3.5.2"
  }
 },
 "nbformat": 4,
 "nbformat_minor": 1
}
