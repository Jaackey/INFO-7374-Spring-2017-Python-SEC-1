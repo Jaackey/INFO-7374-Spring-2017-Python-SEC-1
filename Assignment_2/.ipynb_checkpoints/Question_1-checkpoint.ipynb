{
 "cells": [
  {
   "cell_type": "markdown",
   "metadata": {},
   "source": [
    "# Question 1\n",
    "- Pick any file (or files) in NLTK package\n",
    "- Prove if Zipf’s Law works in Natural Language or not\n",
    "- REQUIREMNTS: (Must Do)\n",
    "    - Use ’glob’ to open and read file. If read multiple files use LOOP to achieve\n",
    "    - Create at least one function and one lambda function\n",
    "    - Save your data as an CSV file contains (Word, Rank, Frequency) with TITLE and Sort it by RANK\n",
    "    - Open your CSV file, generate a log-log figure according to the data you saved\n",
    "    - Write a conclusion at the end of your code base on your figure"
   ]
  },
  {
   "cell_type": "code",
   "execution_count": 1,
   "metadata": {
    "collapsed": false
   },
   "outputs": [],
   "source": [
    "import nltk\n",
    "import glob\n",
    "import string\n",
    "from collections import Counter\n",
    "# this method open and read inaugural text files in a loop using \"glob\" to find proper paths\n",
    "# input: path of files, among them I only need those end with .txt\n",
    "def getWordCount(path):\n",
    "    files = glob.glob(path)\n",
    "    word_counter = Counter()\n",
    "    total = 0\n",
    "    for file in files:\n",
    "        with open(file, 'r', encoding='utf-8', errors='ignore') as f:\n",
    "            # lambda here: strip those words which may end with punctuation such as , ? . and !\n",
    "            for word in map(lambda w: w.strip(string.punctuation).lower(), f.read().split()):\n",
    "                # words may contain only punctuation such as \"--\"\n",
    "                if word != '':\n",
    "                    total += 1\n",
    "                    word_counter.update([word])\n",
    "    return word_counter, total"
   ]
  },
  {
   "cell_type": "code",
   "execution_count": 2,
   "metadata": {
    "collapsed": true
   },
   "outputs": [],
   "source": [
    "import csv\n",
    "import math\n",
    "# this method generate a CSV file which contains following columns: word, rank, freq, log(rank*freq), log(total)\n",
    "# input: words -> a tuple that includes words and there frequency\n",
    "#    log_total -> a str form of log(total)\n",
    "#         path -> file path of output CSV\n",
    "def writeCSVFile(words, log_total, path = 'csv_data/Zipf.csv'):\n",
    "    with open(path, 'w') as outcsv:\n",
    "        writer = csv.DictWriter(outcsv, fieldnames = [\"WORD\",\"RANK\",\"FREQUENCY\",\"LOG(RANK*FREQUENCY)\",\"LOG(TOTAL)\"])\n",
    "        writer.writeheader()\n",
    "        rank = 1;\n",
    "        for word,freq in words.most_common():\n",
    "            writer.writerow({'WORD': word,'RANK': str(rank),'FREQUENCY': str(freq),'LOG(RANK*FREQUENCY)': str(math.log(rank*freq)),'LOG(TOTAL)': log_total})\n",
    "            rank += 1"
   ]
  },
  {
   "cell_type": "code",
   "execution_count": 3,
   "metadata": {
    "collapsed": false
   },
   "outputs": [
    {
     "name": "stdout",
     "output_type": "stream",
     "text": [
      "3755\n"
     ]
    }
   ],
   "source": [
    "read_path = 'inaugural_new/*.txt'\n",
    "word_counter, total = getWordCount(read_path)\n",
    "writeCSVFile(word_counter, str(math.log(total)))\n",
    "print(total)"
   ]
  },
  {
   "cell_type": "markdown",
   "metadata": {
    "collapsed": true
   },
   "source": [
    "# Conclusion\n",
    "\n",
    "The log-log chart shows the relation between log(rank) (Y-axis) and log(frequency) (X-axis). It is close to linear relation especially in the middle where most words exits. As is mentioned in Zipf's Law: \n",
    "    word rank * word frequency = constant * total number of words in collections\n",
    "which can be re-written as:\n",
    "    r*f = A*N -> r = M*(f^(-1))\n",
    "where M = A*N. let's assume \"log\" here refers to Natural Logarithm(with base \"e\", Euler's number), then:\n",
    "    log(r) = (-1)*log(f) + e^M\n",
    "Therefore, the chart goes like \"Y = -X + C\"."
   ]
  }
 ],
 "metadata": {
  "anaconda-cloud": {},
  "kernelspec": {
   "display_name": "Python [default]",
   "language": "python",
   "name": "python3"
  },
  "language_info": {
   "codemirror_mode": {
    "name": "ipython",
    "version": 3
   },
   "file_extension": ".py",
   "mimetype": "text/x-python",
   "name": "python",
   "nbconvert_exporter": "python",
   "pygments_lexer": "ipython3",
   "version": "3.5.2"
  }
 },
 "nbformat": 4,
 "nbformat_minor": 1
}
