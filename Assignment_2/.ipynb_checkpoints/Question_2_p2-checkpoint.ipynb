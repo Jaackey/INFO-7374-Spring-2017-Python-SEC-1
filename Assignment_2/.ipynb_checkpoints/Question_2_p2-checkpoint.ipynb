{
 "cells": [
  {
   "cell_type": "markdown",
   "metadata": {},
   "source": [
    "# Question 2 part 2\n",
    "- Read all the json files in the folder called Data\n",
    "- Read only the json files which contain the key called “restaurants”\n",
    "- Each (or most of the json files) contain a key called “open” which contains the details of the operation (timings) of the restaurants. For each json file, read the timings of the restaurants\n",
    "- Data of the operation timings of the restaurants is present for each day of the week. I want you to extract each of this data and write it in an excel sheet\n",
    "- Bonus: Split “Start Time” column into two different columns having the hour and minute in each of them\n",
    "- Split “End Time” column into two different columns having the hour and minute in each of them"
   ]
  },
  {
   "cell_type": "code",
   "execution_count": 2,
   "metadata": {
    "collapsed": true
   },
   "outputs": [],
   "source": [
    "import glob\n",
    "import json\n",
    "\n",
    "files = glob.glob('/Users/Jackey/Documents/PythonBigData/DataAnalysis4Python_Spring17/Assignment 2/Data/*.json')\n",
    "csv_path = '/Users/Jackey/Documents/PythonBigData/assignment/Assignment_2/csv_data/open_hours.csv'"
   ]
  },
  {
   "cell_type": "code",
   "execution_count": 4,
   "metadata": {
    "collapsed": false
   },
   "outputs": [
    {
     "ename": "NameError",
     "evalue": "name 'csv' is not defined",
     "output_type": "error",
     "traceback": [
      "\u001b[0;31m---------------------------------------------------------------------------\u001b[0m",
      "\u001b[0;31mNameError\u001b[0m                                 Traceback (most recent call last)",
      "\u001b[0;32m<ipython-input-4-e3c72c1c85e5>\u001b[0m in \u001b[0;36m<module>\u001b[0;34m()\u001b[0m\n\u001b[1;32m      1\u001b[0m \u001b[0;32mwith\u001b[0m \u001b[0mopen\u001b[0m\u001b[0;34m(\u001b[0m\u001b[0mcsv_path\u001b[0m\u001b[0;34m,\u001b[0m \u001b[0;34m'w'\u001b[0m\u001b[0;34m)\u001b[0m \u001b[0;32mas\u001b[0m \u001b[0moutcsv\u001b[0m\u001b[0;34m:\u001b[0m\u001b[0;34m\u001b[0m\u001b[0m\n\u001b[0;32m----> 2\u001b[0;31m     \u001b[0mwriter\u001b[0m \u001b[0;34m=\u001b[0m \u001b[0mcsv\u001b[0m\u001b[0;34m.\u001b[0m\u001b[0mDictWriter\u001b[0m\u001b[0;34m(\u001b[0m\u001b[0moutcsv\u001b[0m\u001b[0;34m,\u001b[0m \u001b[0mfieldnames\u001b[0m \u001b[0;34m=\u001b[0m \u001b[0;34m[\u001b[0m\u001b[0;34m\"NAME OF RESTAURANT\"\u001b[0m\u001b[0;34m,\u001b[0m\u001b[0;34m\"CITY\"\u001b[0m\u001b[0;34m,\u001b[0m\u001b[0;34m\"COUNTRY CODE\"\u001b[0m\u001b[0;34m,\u001b[0m\u001b[0;34m\"DAY OF WEEK\"\u001b[0m\u001b[0;34m,\u001b[0m\u001b[0;34m\"START TIME HOUR\"\u001b[0m\u001b[0;34m,\u001b[0m\u001b[0;34m\"START TIME MINUTE\"\u001b[0m\u001b[0;34m,\u001b[0m\u001b[0;34m\"END TIME HOUR\"\u001b[0m\u001b[0;34m,\u001b[0m\u001b[0;34m\"END TIME MINUTE\"\u001b[0m\u001b[0;34m]\u001b[0m\u001b[0;34m)\u001b[0m\u001b[0;34m\u001b[0m\u001b[0m\n\u001b[0m\u001b[1;32m      3\u001b[0m     \u001b[0mwriter\u001b[0m\u001b[0;34m.\u001b[0m\u001b[0mwriteheader\u001b[0m\u001b[0;34m(\u001b[0m\u001b[0;34m)\u001b[0m\u001b[0;34m\u001b[0m\u001b[0m\n\u001b[1;32m      4\u001b[0m     \u001b[0;32mfor\u001b[0m \u001b[0mfile\u001b[0m \u001b[0;32min\u001b[0m \u001b[0mfiles\u001b[0m\u001b[0;34m:\u001b[0m\u001b[0;34m\u001b[0m\u001b[0m\n\u001b[1;32m      5\u001b[0m         \u001b[0;32mwith\u001b[0m \u001b[0mopen\u001b[0m\u001b[0;34m(\u001b[0m\u001b[0mfile\u001b[0m\u001b[0;34m,\u001b[0m \u001b[0;34m'r'\u001b[0m\u001b[0;34m,\u001b[0m \u001b[0mencoding\u001b[0m\u001b[0;34m=\u001b[0m\u001b[0;34m'utf-8'\u001b[0m\u001b[0;34m,\u001b[0m \u001b[0merrors\u001b[0m\u001b[0;34m=\u001b[0m\u001b[0;34m'ignore'\u001b[0m\u001b[0;34m)\u001b[0m \u001b[0;32mas\u001b[0m \u001b[0mf\u001b[0m\u001b[0;34m:\u001b[0m\u001b[0;34m\u001b[0m\u001b[0m\n",
      "\u001b[0;31mNameError\u001b[0m: name 'csv' is not defined"
     ]
    }
   ],
   "source": [
    "import csv\n",
    "\n",
    "with open(csv_path, 'w') as outcsv:\n",
    "    writer = csv.DictWriter(outcsv, fieldnames = [\"NAME OF RESTAURANT\",\"CITY\",\"COUNTRY CODE\",\"DAY OF WEEK\",\"START TIME HOUR\",\"START TIME MINUTE\",\"END TIME HOUR\",\"END TIME MINUTE\"])\n",
    "    writer.writeheader()\n",
    "    for file in files:\n",
    "        with open(file, 'r', encoding='utf-8', errors='ignore') as f:\n",
    "            # load json file and turn into python data\n",
    "            python_data = json.load(f)\n",
    "            term = python_data['term']\n",
    "            if(term == 'restaurants'):\n",
    "                value_open = python_data['hours'][0]['open']\n",
    "                if(value_open):\n",
    "                    c1 = python_data['name']\n",
    "                    c2 = python_data['location']['city']\n",
    "                    c3 = python_data['location']['country']\n",
    "                    for day in value_open:\n",
    "                        c4 = str(day['day'])\n",
    "                        c5 = day['start'][:2]\n",
    "                        c6 = day['start'][1:]\n",
    "                        c7 = day['end'][:2]\n",
    "                        c8 = day['end'][1:]\n",
    "                        writer.writerow({'NAME OF RESTAURANT': c1,'CITY': c2,'COUNTRY CODE': c3,'DAY OF WEEK': c4,'START TIME HOUR': c5,'START TIME MINUTE': c6,'END TIME HOUR': c7,'END TIME MINUTE': c8})\n"
   ]
  },
  {
   "cell_type": "code",
   "execution_count": null,
   "metadata": {
    "collapsed": true
   },
   "outputs": [],
   "source": []
  }
 ],
 "metadata": {
  "kernelspec": {
   "display_name": "Python [default]",
   "language": "python",
   "name": "python3"
  },
  "language_info": {
   "codemirror_mode": {
    "name": "ipython",
    "version": 3
   },
   "file_extension": ".py",
   "mimetype": "text/x-python",
   "name": "python",
   "nbconvert_exporter": "python",
   "pygments_lexer": "ipython3",
   "version": "3.5.2"
  }
 },
 "nbformat": 4,
 "nbformat_minor": 1
}
