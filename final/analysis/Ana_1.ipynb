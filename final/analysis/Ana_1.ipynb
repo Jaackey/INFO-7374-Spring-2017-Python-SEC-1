{
 "cells": [
  {
   "cell_type": "markdown",
   "metadata": {},
   "source": [
    "# Analysis 1\n",
    "## Objective: \n",
    "- for each day in a week, find number of business that have most check-ins on that day\n",
    "- for each hour in a day, find number of business that have most check-ins in that hour\n",
    "## Steps:\n",
    "- use checkin.json in data set\n",
    "- for each business, find the day with most check-ins in a week\n",
    "- for each business, find the hour with most check-ins in a day\n",
    "- calculate total number of business that have most check-ins on each day and in each hour"
   ]
  },
  {
   "cell_type": "code",
   "execution_count": 2,
   "metadata": {
    "collapsed": true
   },
   "outputs": [],
   "source": [
    "%matplotlib inline"
   ]
  },
  {
   "cell_type": "code",
   "execution_count": 3,
   "metadata": {
    "collapsed": true
   },
   "outputs": [],
   "source": [
    "import glob\n",
    "import os\n",
    "import json\n",
    "from pathlib import Path\n",
    "from pandas import Series, DataFrame\n",
    "import pandas as pd"
   ]
  },
  {
   "cell_type": "code",
   "execution_count": 4,
   "metadata": {
    "collapsed": true
   },
   "outputs": [],
   "source": [
    "p = Path(os.getcwd())\n",
    "checkin_path = str(p.parent) + '/data/yelp_training_set/yelp_training_set_checkin.json'"
   ]
  },
  {
   "cell_type": "code",
   "execution_count": 5,
   "metadata": {
    "collapsed": true
   },
   "outputs": [],
   "source": [
    "def calculateMaxHourAndDay(listOfDicts):\n",
    "    checkins = {'time': list(listOfDicts.keys()), 'num': list(listOfDicts.values())}\n",
    "    df = DataFrame(checkins)\n",
    "    df['day'] = df['time'].apply(lambda x: x.split('-')[1])\n",
    "    df['hour'] = df['time'].apply(lambda x: x.split('-')[0])\n",
    "    df.apply(pd.to_numeric, errors='ignore')\n",
    "#     print(df.head(10))\n",
    "#     print('==================')\n",
    "    max_day = df.groupby(['day']).sum()['num'].argmax()\n",
    "    max_hour = df.groupby(['hour']).sum()['num'].argmax()\n",
    "    return max_day, max_hour\n",
    "#     print(max_day)\n",
    "#     print(max_hour)"
   ]
  },
  {
   "cell_type": "code",
   "execution_count": 6,
   "metadata": {
    "collapsed": false
   },
   "outputs": [
    {
     "data": {
      "text/html": [
       "<div>\n",
       "<table border=\"1\" class=\"dataframe\">\n",
       "  <thead>\n",
       "    <tr style=\"text-align: right;\">\n",
       "      <th></th>\n",
       "      <th>business_id</th>\n",
       "      <th>max_day</th>\n",
       "      <th>max_hour</th>\n",
       "    </tr>\n",
       "  </thead>\n",
       "  <tbody>\n",
       "    <tr>\n",
       "      <th>0</th>\n",
       "      <td>KO9CpaSPOoqm0iCWm5scmg</td>\n",
       "      <td>3</td>\n",
       "      <td>12</td>\n",
       "    </tr>\n",
       "    <tr>\n",
       "      <th>1</th>\n",
       "      <td>oRqBAYtcBYZHXA7G8FlPaA</td>\n",
       "      <td>5</td>\n",
       "      <td>18</td>\n",
       "    </tr>\n",
       "    <tr>\n",
       "      <th>2</th>\n",
       "      <td>6cy2C9aBXUwkrh4bY1DApw</td>\n",
       "      <td>5</td>\n",
       "      <td>11</td>\n",
       "    </tr>\n",
       "    <tr>\n",
       "      <th>3</th>\n",
       "      <td>D0IB17N66FiyYDCzTlAI4A</td>\n",
       "      <td>5</td>\n",
       "      <td>11</td>\n",
       "    </tr>\n",
       "    <tr>\n",
       "      <th>4</th>\n",
       "      <td>HLQGo3EaYVvAv22bONGkIw</td>\n",
       "      <td>5</td>\n",
       "      <td>12</td>\n",
       "    </tr>\n",
       "  </tbody>\n",
       "</table>\n",
       "</div>"
      ],
      "text/plain": [
       "              business_id max_day max_hour\n",
       "0  KO9CpaSPOoqm0iCWm5scmg       3       12\n",
       "1  oRqBAYtcBYZHXA7G8FlPaA       5       18\n",
       "2  6cy2C9aBXUwkrh4bY1DApw       5       11\n",
       "3  D0IB17N66FiyYDCzTlAI4A       5       11\n",
       "4  HLQGo3EaYVvAv22bONGkIw       5       12"
      ]
     },
     "execution_count": 6,
     "metadata": {},
     "output_type": "execute_result"
    }
   ],
   "source": [
    "id_list = []\n",
    "i = 0\n",
    "check_in_max = pd.DataFrame(columns=['business_id', 'max_day', 'max_hour'])\n",
    "with open(checkin_path, 'r', encoding='utf-8', errors='ignore') as f:\n",
    "    for line in f:\n",
    "        data = json.loads(line)\n",
    "        business_id = data['business_id']\n",
    "        id_list.append(business_id)\n",
    "        listOfDicts = data['checkin_info']\n",
    "        max_day, max_hour = calculateMaxHourAndDay(listOfDicts)\n",
    "        check_in_max = check_in_max.append(Series({'business_id': business_id, 'max_day': max_day, 'max_hour': max_hour}), ignore_index=True)\n",
    "        \n",
    "# print(len(id_list))\n",
    "# id_set = set(id_list)\n",
    "# print(len(id_set))\n",
    "check_in_max.head(5)"
   ]
  },
  {
   "cell_type": "code",
   "execution_count": 7,
   "metadata": {
    "collapsed": true
   },
   "outputs": [],
   "source": [
    "check_in_max.to_csv('ana_1/max_check_ins.csv', index = False, header = True)"
   ]
  },
  {
   "cell_type": "code",
   "execution_count": 8,
   "metadata": {
    "collapsed": false
   },
   "outputs": [
    {
     "data": {
      "text/plain": [
       "SUN.     887\n",
       "MON.     846\n",
       "TUE.     816\n",
       "WED.     782\n",
       "THU.    1522\n",
       "FRI.    2469\n",
       "SAT.     960\n",
       "Name: max_day, dtype: int64"
      ]
     },
     "execution_count": 8,
     "metadata": {},
     "output_type": "execute_result"
    }
   ],
   "source": [
    "max_day_total = check_in_max['max_day'].value_counts()\n",
    "max_day_total = max_day_total.sort_index()\n",
    "max_day_total = max_day_total.rename({'0': 'SUN.', '1': 'MON.', '2': 'TUE.', '3': 'WED.', '4': 'THU.', '5': 'FRI.', '6': 'SAT.'})\n",
    "max_day_total"
   ]
  },
  {
   "cell_type": "code",
   "execution_count": 9,
   "metadata": {
    "collapsed": false
   },
   "outputs": [
    {
     "data": {
      "image/png": "[encoded data removed]",
      "text/plain": [
       "<matplotlib.figure.Figure at 0x112d66358>"
      ]
     },
     "metadata": {},
     "output_type": "display_data"
    }
   ],
   "source": [
    "import matplotlib.pyplot as plt\n",
    "import matplotlib\n",
    "matplotlib.style.use('seaborn-whitegrid')\n",
    "plt.figure()\n",
    "max_day_total.plot(kind = 'bar')\n",
    "# plt.show()\n",
    "plt.savefig('ana_1/max_day_check_ins.png')"
   ]
  },
  {
   "cell_type": "code",
   "execution_count": 10,
   "metadata": {
    "collapsed": false
   },
   "outputs": [
    {
     "data": {
      "text/html": [
       "<div>\n",
       "<table border=\"1\" class=\"dataframe\">\n",
       "  <thead>\n",
       "    <tr style=\"text-align: right;\">\n",
       "      <th></th>\n",
       "      <th>hour</th>\n",
       "      <th>num</th>\n",
       "    </tr>\n",
       "  </thead>\n",
       "  <tbody>\n",
       "    <tr>\n",
       "      <th>17</th>\n",
       "      <td>0:00-0:59</td>\n",
       "      <td>57</td>\n",
       "    </tr>\n",
       "    <tr>\n",
       "      <th>19</th>\n",
       "      <td>1:00-1:59</td>\n",
       "      <td>35</td>\n",
       "    </tr>\n",
       "    <tr>\n",
       "      <th>23</th>\n",
       "      <td>2:00-2:59</td>\n",
       "      <td>3</td>\n",
       "    </tr>\n",
       "    <tr>\n",
       "      <th>22</th>\n",
       "      <td>3:00-3:59</td>\n",
       "      <td>4</td>\n",
       "    </tr>\n",
       "    <tr>\n",
       "      <th>21</th>\n",
       "      <td>4:00-4:59</td>\n",
       "      <td>9</td>\n",
       "    </tr>\n",
       "  </tbody>\n",
       "</table>\n",
       "</div>"
      ],
      "text/plain": [
       "         hour  num\n",
       "17  0:00-0:59   57\n",
       "19  1:00-1:59   35\n",
       "23  2:00-2:59    3\n",
       "22  3:00-3:59    4\n",
       "21  4:00-4:59    9"
      ]
     },
     "execution_count": 10,
     "metadata": {},
     "output_type": "execute_result"
    }
   ],
   "source": [
    "max_hour_total = check_in_max['max_hour'].value_counts().reset_index()\n",
    "max_hour_total.columns = ['hour', 'num']\n",
    "max_hour_total['hour'] = pd.to_numeric(max_hour_total['hour'])\n",
    "max_hour_total = max_hour_total.sort_values('hour')\n",
    "max_hour_total['hour'] = max_hour_total['hour'].apply(lambda x: str(x)+':00-'+str(x)+':59')\n",
    "max_hour_total.head(5)"
   ]
  },
  {
   "cell_type": "code",
   "execution_count": 11,
   "metadata": {
    "collapsed": false
   },
   "outputs": [
    {
     "data": {
      "text/plain": [
       "<matplotlib.figure.Figure at 0x113132908>"
      ]
     },
     "metadata": {},
     "output_type": "display_data"
    },
    {
     "data": {
      "image/png": "[encoded data removed]",
      "text/plain": [
       "<matplotlib.figure.Figure at 0x1133fecc0>"
      ]
     },
     "metadata": {},
     "output_type": "display_data"
    }
   ],
   "source": [
    "plt.figure()\n",
    "max_hour_total.plot(kind = 'bar', x = 'hour', y = 'num')\n",
    "plt.savefig('ana_1/max_hour_check_ins.png')"
   ]
  },
  {
   "cell_type": "code",
   "execution_count": null,
   "metadata": {
    "collapsed": true
   },
   "outputs": [],
   "source": []
  }
 ],
 "metadata": {
  "anaconda-cloud": {},
  "kernelspec": {
   "display_name": "Python [default]",
   "language": "python",
   "name": "python3"
  },
  "language_info": {
   "codemirror_mode": {
    "name": "ipython",
    "version": 3
   },
   "file_extension": ".py",
   "mimetype": "text/x-python",
   "name": "python",
   "nbconvert_exporter": "python",
   "pygments_lexer": "ipython3",
   "version": "3.5.2"
  }
 },
 "nbformat": 4,
 "nbformat_minor": 1
}
