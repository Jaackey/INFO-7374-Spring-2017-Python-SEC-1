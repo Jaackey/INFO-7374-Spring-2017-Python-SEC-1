{
 "cells": [
  {
   "cell_type": "markdown",
   "metadata": {},
   "source": [
    "# Analysis 4\n",
    "## Objectives\n",
    "- in each city in state AZ, find the most profitable streets\n",
    "- in each city in state AZ, find the streets where can be a good place to find restaurants\n",
    "- in each city in state AZ, find the most popular streets to drink and play\n",
    "## Steps\n",
    "- use business.json in data set\n",
    "- get city and street information for each business\n",
    "- find street with most business in each city\n",
    "- find restaurants with catogory containing certain keywords\n",
    "- in these restaurants, find those with more than 10 reviews and more than 4.0/5.0 average stars\n",
    "- rank the streets by number of those restaurants\n",
    "- find business with catogory containing certain keywords with enough reviews and stars\n",
    "- generate CSV as result"
   ]
  },
  {
   "cell_type": "code",
   "execution_count": 2,
   "metadata": {
    "collapsed": true
   },
   "outputs": [],
   "source": [
    "%matplotlib inline"
   ]
  },
  {
   "cell_type": "code",
   "execution_count": 3,
   "metadata": {
    "collapsed": true
   },
   "outputs": [],
   "source": [
    "import glob\n",
    "import os\n",
    "import json\n",
    "from pathlib import Path\n",
    "from pandas import Series, DataFrame\n",
    "import pandas as pd"
   ]
  },
  {
   "cell_type": "code",
   "execution_count": 4,
   "metadata": {
    "collapsed": true
   },
   "outputs": [],
   "source": [
    "p = Path(os.getcwd())\n",
    "business_path = str(p.parent) + '/data/yelp_training_set/yelp_training_set_business.json'"
   ]
  },
  {
   "cell_type": "code",
   "execution_count": 5,
   "metadata": {
    "collapsed": true
   },
   "outputs": [],
   "source": [
    "import re"
   ]
  },
  {
   "cell_type": "code",
   "execution_count": 6,
   "metadata": {
    "collapsed": false
   },
   "outputs": [
    {
     "data": {
      "text/html": [
       "<div>\n",
       "<table border=\"1\" class=\"dataframe\">\n",
       "  <thead>\n",
       "    <tr style=\"text-align: right;\">\n",
       "      <th></th>\n",
       "      <th>city</th>\n",
       "      <th>street</th>\n",
       "      <th>type</th>\n",
       "      <th>count</th>\n",
       "    </tr>\n",
       "  </thead>\n",
       "  <tbody>\n",
       "    <tr>\n",
       "      <th>0</th>\n",
       "      <td>Scottsdale</td>\n",
       "      <td>E 1st St</td>\n",
       "      <td>other</td>\n",
       "      <td>1.0</td>\n",
       "    </tr>\n",
       "    <tr>\n",
       "      <th>1</th>\n",
       "      <td>Scottsdale</td>\n",
       "      <td>N Scottsdale Rd</td>\n",
       "      <td>restaurant</td>\n",
       "      <td>1.0</td>\n",
       "    </tr>\n",
       "    <tr>\n",
       "      <th>2</th>\n",
       "      <td>Phoenix</td>\n",
       "      <td>E Cactus Rd</td>\n",
       "      <td>other</td>\n",
       "      <td>1.0</td>\n",
       "    </tr>\n",
       "    <tr>\n",
       "      <th>3</th>\n",
       "      <td>Tempe</td>\n",
       "      <td>S McAllister Ave</td>\n",
       "      <td>other</td>\n",
       "      <td>1.0</td>\n",
       "    </tr>\n",
       "    <tr>\n",
       "      <th>4</th>\n",
       "      <td>Phoenix</td>\n",
       "      <td>N Black Canyon Hwy</td>\n",
       "      <td>restaurant</td>\n",
       "      <td>1.0</td>\n",
       "    </tr>\n",
       "  </tbody>\n",
       "</table>\n",
       "</div>"
      ],
      "text/plain": [
       "         city              street        type  count\n",
       "0  Scottsdale            E 1st St       other    1.0\n",
       "1  Scottsdale     N Scottsdale Rd  restaurant    1.0\n",
       "2     Phoenix         E Cactus Rd       other    1.0\n",
       "3       Tempe    S McAllister Ave       other    1.0\n",
       "4     Phoenix  N Black Canyon Hwy  restaurant    1.0"
      ]
     },
     "execution_count": 6,
     "metadata": {},
     "output_type": "execute_result"
    }
   ],
   "source": [
    "df = pd.DataFrame(columns=['city', 'street', 'type', 'count'])\n",
    "play_keywords = ['Bars', 'Nightlife']\n",
    "with open(business_path, 'r', encoding='utf-8', errors='ignore') as f:\n",
    "    for line in f:\n",
    "        data = json.loads(line)\n",
    "        review_count = data['review_count']\n",
    "        stars = data['stars']\n",
    "        if review_count < 10 or stars < 4.0:\n",
    "            continue\n",
    "        address = data['full_address'].split('\\n')\n",
    "        if not re.match(r'^[0-9]', address[0]):\n",
    "            continue\n",
    "        city = address[-1].split(',')[0]\n",
    "        street = ' '.join(address[0].split(' ')[1:])\n",
    "        categories = data['categories']\n",
    "        if 'Restaurants' in categories:\n",
    "            df = df.append(Series({'city': city, 'street': street, 'type': 'restaurant', 'count': 1}), ignore_index=True)\n",
    "        if not set(play_keywords).isdisjoint(categories):\n",
    "            df = df.append(Series({'city': city, 'street': street, 'type': 'nightlife', 'count': 1}), ignore_index=True)\n",
    "        if 'Restaurants' not in categories and set(play_keywords).isdisjoint(categories):\n",
    "            df = df.append(Series({'city': city, 'street': street, 'type': 'other', 'count': 1}), ignore_index=True)\n",
    "df.head(5)"
   ]
  },
  {
   "cell_type": "code",
   "execution_count": 8,
   "metadata": {
    "collapsed": false
   },
   "outputs": [
    {
     "data": {
      "text/html": [
       "<div>\n",
       "<table border=\"1\" class=\"dataframe\">\n",
       "  <thead>\n",
       "    <tr style=\"text-align: right;\">\n",
       "      <th></th>\n",
       "      <th>city</th>\n",
       "      <th>street</th>\n",
       "      <th>count</th>\n",
       "    </tr>\n",
       "  </thead>\n",
       "  <tbody>\n",
       "    <tr>\n",
       "      <th>0</th>\n",
       "      <td>Ahwatukee</td>\n",
       "      <td>E Chandler Blvd</td>\n",
       "      <td>1.0</td>\n",
       "    </tr>\n",
       "    <tr>\n",
       "      <th>1</th>\n",
       "      <td>Ahwatukee</td>\n",
       "      <td>E Warner Rd</td>\n",
       "      <td>2.0</td>\n",
       "    </tr>\n",
       "    <tr>\n",
       "      <th>2</th>\n",
       "      <td>Anthem</td>\n",
       "      <td>N Daisy Mountain Rd</td>\n",
       "      <td>1.0</td>\n",
       "    </tr>\n",
       "    <tr>\n",
       "      <th>3</th>\n",
       "      <td>Anthem</td>\n",
       "      <td>W Anthem Way</td>\n",
       "      <td>3.0</td>\n",
       "    </tr>\n",
       "    <tr>\n",
       "      <th>4</th>\n",
       "      <td>Anthem</td>\n",
       "      <td>W Anthem Wy</td>\n",
       "      <td>1.0</td>\n",
       "    </tr>\n",
       "  </tbody>\n",
       "</table>\n",
       "</div>"
      ],
      "text/plain": [
       "        city               street  count\n",
       "0  Ahwatukee      E Chandler Blvd    1.0\n",
       "1  Ahwatukee          E Warner Rd    2.0\n",
       "2     Anthem  N Daisy Mountain Rd    1.0\n",
       "3     Anthem         W Anthem Way    3.0\n",
       "4     Anthem          W Anthem Wy    1.0"
      ]
     },
     "execution_count": 8,
     "metadata": {},
     "output_type": "execute_result"
    }
   ],
   "source": [
    "total_df = df.groupby(['city', 'street']).sum().reset_index()\n",
    "total_df.head(5)"
   ]
  },
  {
   "cell_type": "code",
   "execution_count": 10,
   "metadata": {
    "collapsed": false
   },
   "outputs": [
    {
     "data": {
      "text/html": [
       "<div>\n",
       "<table border=\"1\" class=\"dataframe\">\n",
       "  <thead>\n",
       "    <tr style=\"text-align: right;\">\n",
       "      <th></th>\n",
       "      <th>city</th>\n",
       "      <th>street</th>\n",
       "      <th>count</th>\n",
       "    </tr>\n",
       "  </thead>\n",
       "  <tbody>\n",
       "    <tr>\n",
       "      <th>0</th>\n",
       "      <td>Ahwatukee</td>\n",
       "      <td>E Warner Rd</td>\n",
       "      <td>2.0</td>\n",
       "    </tr>\n",
       "    <tr>\n",
       "      <th>1</th>\n",
       "      <td>Anthem</td>\n",
       "      <td>W Anthem Wy</td>\n",
       "      <td>3.0</td>\n",
       "    </tr>\n",
       "    <tr>\n",
       "      <th>2</th>\n",
       "      <td>Apache Junction</td>\n",
       "      <td>W Apache Trl</td>\n",
       "      <td>1.0</td>\n",
       "    </tr>\n",
       "    <tr>\n",
       "      <th>3</th>\n",
       "      <td>Avondale</td>\n",
       "      <td>W. Thomas Rd</td>\n",
       "      <td>7.0</td>\n",
       "    </tr>\n",
       "    <tr>\n",
       "      <th>4</th>\n",
       "      <td>Buckeye</td>\n",
       "      <td>W Main St</td>\n",
       "      <td>2.0</td>\n",
       "    </tr>\n",
       "  </tbody>\n",
       "</table>\n",
       "</div>"
      ],
      "text/plain": [
       "              city        street  count\n",
       "0        Ahwatukee   E Warner Rd    2.0\n",
       "1           Anthem   W Anthem Wy    3.0\n",
       "2  Apache Junction  W Apache Trl    1.0\n",
       "3         Avondale  W. Thomas Rd    7.0\n",
       "4          Buckeye     W Main St    2.0"
      ]
     },
     "execution_count": 10,
     "metadata": {},
     "output_type": "execute_result"
    }
   ],
   "source": [
    "profitable = total_df.groupby(['city']).max().reset_index()\n",
    "profitable.head(5)"
   ]
  },
  {
   "cell_type": "code",
   "execution_count": 29,
   "metadata": {
    "collapsed": false
   },
   "outputs": [],
   "source": [
    "profitable.to_csv('ana_4/profitable_streets_in_AZ.csv', index = False, header = True)"
   ]
  },
  {
   "cell_type": "code",
   "execution_count": 32,
   "metadata": {
    "collapsed": false
   },
   "outputs": [
    {
     "data": {
      "text/html": [
       "<div>\n",
       "<table border=\"1\" class=\"dataframe\">\n",
       "  <thead>\n",
       "    <tr style=\"text-align: right;\">\n",
       "      <th></th>\n",
       "      <th>city</th>\n",
       "      <th>street</th>\n",
       "      <th>count</th>\n",
       "    </tr>\n",
       "  </thead>\n",
       "  <tbody>\n",
       "    <tr>\n",
       "      <th>0</th>\n",
       "      <td>Ahwatukee</td>\n",
       "      <td>E Warner Rd</td>\n",
       "      <td>1.0</td>\n",
       "    </tr>\n",
       "    <tr>\n",
       "      <th>1</th>\n",
       "      <td>Anthem</td>\n",
       "      <td>W Anthem Wy</td>\n",
       "      <td>2.0</td>\n",
       "    </tr>\n",
       "    <tr>\n",
       "      <th>2</th>\n",
       "      <td>Apache Junction</td>\n",
       "      <td>W Apache Trl</td>\n",
       "      <td>1.0</td>\n",
       "    </tr>\n",
       "    <tr>\n",
       "      <th>3</th>\n",
       "      <td>Avondale</td>\n",
       "      <td>W Rancho Santa Fe Blvd</td>\n",
       "      <td>7.0</td>\n",
       "    </tr>\n",
       "    <tr>\n",
       "      <th>4</th>\n",
       "      <td>Buckeye</td>\n",
       "      <td>W Main St</td>\n",
       "      <td>1.0</td>\n",
       "    </tr>\n",
       "  </tbody>\n",
       "</table>\n",
       "</div>"
      ],
      "text/plain": [
       "              city                  street  count\n",
       "0        Ahwatukee             E Warner Rd    1.0\n",
       "1           Anthem             W Anthem Wy    2.0\n",
       "2  Apache Junction            W Apache Trl    1.0\n",
       "3         Avondale  W Rancho Santa Fe Blvd    7.0\n",
       "4          Buckeye               W Main St    1.0"
      ]
     },
     "execution_count": 32,
     "metadata": {},
     "output_type": "execute_result"
    }
   ],
   "source": [
    "restaurant_df = df[df['type'] == 'restaurant']\n",
    "restaurant_df = restaurant_df.groupby(['city', 'street']).sum().reset_index().groupby(['city']).max().reset_index()\n",
    "restaurant_df.head(5)"
   ]
  },
  {
   "cell_type": "code",
   "execution_count": 35,
   "metadata": {
    "collapsed": true
   },
   "outputs": [],
   "source": [
    "restaurant_df.to_csv('ana_4/restaurant_streets_in_AZ.csv', index = False, header = True)"
   ]
  },
  {
   "cell_type": "code",
   "execution_count": 36,
   "metadata": {
    "collapsed": false
   },
   "outputs": [
    {
     "data": {
      "text/html": [
       "<div>\n",
       "<table border=\"1\" class=\"dataframe\">\n",
       "  <thead>\n",
       "    <tr style=\"text-align: right;\">\n",
       "      <th></th>\n",
       "      <th>city</th>\n",
       "      <th>street</th>\n",
       "      <th>count</th>\n",
       "    </tr>\n",
       "  </thead>\n",
       "  <tbody>\n",
       "    <tr>\n",
       "      <th>0</th>\n",
       "      <td>Ahwatukee</td>\n",
       "      <td>E Warner Rd</td>\n",
       "      <td>1.0</td>\n",
       "    </tr>\n",
       "    <tr>\n",
       "      <th>1</th>\n",
       "      <td>Buckeye</td>\n",
       "      <td>W Main St</td>\n",
       "      <td>1.0</td>\n",
       "    </tr>\n",
       "    <tr>\n",
       "      <th>2</th>\n",
       "      <td>Cave Creek</td>\n",
       "      <td>E. Cave Creek Rd.</td>\n",
       "      <td>1.0</td>\n",
       "    </tr>\n",
       "    <tr>\n",
       "      <th>3</th>\n",
       "      <td>Chandler</td>\n",
       "      <td>W Ray Rd</td>\n",
       "      <td>3.0</td>\n",
       "    </tr>\n",
       "    <tr>\n",
       "      <th>4</th>\n",
       "      <td>Fort McDowell</td>\n",
       "      <td>N Hiawatha Rd</td>\n",
       "      <td>1.0</td>\n",
       "    </tr>\n",
       "  </tbody>\n",
       "</table>\n",
       "</div>"
      ],
      "text/plain": [
       "            city             street  count\n",
       "0      Ahwatukee        E Warner Rd    1.0\n",
       "1        Buckeye          W Main St    1.0\n",
       "2     Cave Creek  E. Cave Creek Rd.    1.0\n",
       "3       Chandler           W Ray Rd    3.0\n",
       "4  Fort McDowell      N Hiawatha Rd    1.0"
      ]
     },
     "execution_count": 36,
     "metadata": {},
     "output_type": "execute_result"
    }
   ],
   "source": [
    "nightlife_df = df[df['type'] == 'nightlife']\n",
    "nightlife_df = nightlife_df.groupby(['city', 'street']).sum().reset_index().groupby(['city']).max().reset_index()\n",
    "nightlife_df.to_csv('ana_4/nightlife_streets_in_AZ.csv', index = False, header = True)\n",
    "nightlife_df.head(5)"
   ]
  },
  {
   "cell_type": "code",
   "execution_count": null,
   "metadata": {
    "collapsed": true
   },
   "outputs": [],
   "source": []
  }
 ],
 "metadata": {
  "anaconda-cloud": {},
  "kernelspec": {
   "display_name": "Python [default]",
   "language": "python",
   "name": "python3"
  },
  "language_info": {
   "codemirror_mode": {
    "name": "ipython",
    "version": 3
   },
   "file_extension": ".py",
   "mimetype": "text/x-python",
   "name": "python",
   "nbconvert_exporter": "python",
   "pygments_lexer": "ipython3",
   "version": "3.5.2"
  }
 },
 "nbformat": 4,
 "nbformat_minor": 1
}
