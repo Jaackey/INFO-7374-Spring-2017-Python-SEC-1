{
 "cells": [
  {
   "cell_type": "markdown",
   "metadata": {},
   "source": [
    "# Question 2 Part 2\n",
    "- Use 'employee_compensation' data set\n",
    "- Data contains fiscal and calendar year information. Same employee details exist twice in the dataset. Filter data by calendar year and find average salary (you might have to find average for each of the columns for every employee. Eg. Average of Total Benefits, Average of total compensation etc.) for every employee\n",
    "- Now, find the people whose overtime salary is greater than 5% of salaries (salaries refers to ’Salaries' column)\n",
    "- For each ‘Job Family’ these people are associated with, calculate the percentage of total benefits with respect to total compensation (so for each job family you have to calculate average total benefits and average total compensation). Create a new column to hold the percentage value\n",
    "- Display the top 5 Job Families according to this percentage value using df.head()\n",
    "- Write the output (jobs and percentage value) to a csv"
   ]
  },
  {
   "cell_type": "code",
   "execution_count": 1,
   "metadata": {
    "collapsed": true
   },
   "outputs": [],
   "source": [
    "import pandas as pd"
   ]
  },
  {
   "cell_type": "code",
   "execution_count": 23,
   "metadata": {
    "collapsed": false
   },
   "outputs": [
    {
     "data": {
      "text/html": [
       "<div>\n",
       "<table border=\"1\" class=\"dataframe\">\n",
       "  <thead>\n",
       "    <tr style=\"text-align: right;\">\n",
       "      <th></th>\n",
       "      <th>Job Family</th>\n",
       "      <th>Employee Identifier</th>\n",
       "      <th>Salaries</th>\n",
       "      <th>Overtime</th>\n",
       "      <th>Total Benefits</th>\n",
       "      <th>Total Compensation</th>\n",
       "    </tr>\n",
       "  </thead>\n",
       "  <tbody>\n",
       "    <tr>\n",
       "      <th>0</th>\n",
       "      <td>Journeyman Trade</td>\n",
       "      <td>52206</td>\n",
       "      <td>98528.52</td>\n",
       "      <td>0.00</td>\n",
       "      <td>41432.55</td>\n",
       "      <td>143916.66</td>\n",
       "    </tr>\n",
       "    <tr>\n",
       "      <th>2</th>\n",
       "      <td>Management</td>\n",
       "      <td>33958</td>\n",
       "      <td>200.00</td>\n",
       "      <td>0.00</td>\n",
       "      <td>67.28</td>\n",
       "      <td>267.28</td>\n",
       "    </tr>\n",
       "    <tr>\n",
       "      <th>3</th>\n",
       "      <td>Legal &amp; Court</td>\n",
       "      <td>33073</td>\n",
       "      <td>1783.00</td>\n",
       "      <td>0.00</td>\n",
       "      <td>736.13</td>\n",
       "      <td>2519.13</td>\n",
       "    </tr>\n",
       "    <tr>\n",
       "      <th>5</th>\n",
       "      <td>Clerical, Secretarial &amp; Steno</td>\n",
       "      <td>23930</td>\n",
       "      <td>80207.24</td>\n",
       "      <td>2232.53</td>\n",
       "      <td>35843.78</td>\n",
       "      <td>119851.55</td>\n",
       "    </tr>\n",
       "  </tbody>\n",
       "</table>\n",
       "</div>"
      ],
      "text/plain": [
       "                      Job Family  Employee Identifier  Salaries  Overtime  \\\n",
       "0               Journeyman Trade                52206  98528.52      0.00   \n",
       "2                     Management                33958    200.00      0.00   \n",
       "3                  Legal & Court                33073   1783.00      0.00   \n",
       "5  Clerical, Secretarial & Steno                23930  80207.24   2232.53   \n",
       "\n",
       "   Total Benefits  Total Compensation  \n",
       "0        41432.55           143916.66  \n",
       "2           67.28              267.28  \n",
       "3          736.13             2519.13  \n",
       "5        35843.78           119851.55  "
      ]
     },
     "execution_count": 23,
     "metadata": {},
     "output_type": "execute_result"
    }
   ],
   "source": [
    "# filter calendar year and maintain useful columns\n",
    "raw_df = pd.read_csv('Data/employee_compensation.csv')\n",
    "raw_df = raw_df[raw_df['Year Type'] == 'Calendar']\n",
    "col_list = ['Job Family', 'Employee Identifier' , 'Salaries', 'Overtime', 'Total Benefits', 'Total Compensation']\n",
    "raw_df = raw_df[col_list]\n",
    "raw_df.head(4)"
   ]
  },
  {
   "cell_type": "code",
   "execution_count": 24,
   "metadata": {
    "collapsed": false
   },
   "outputs": [
    {
     "data": {
      "text/html": [
       "<div>\n",
       "<table border=\"1\" class=\"dataframe\">\n",
       "  <thead>\n",
       "    <tr style=\"text-align: right;\">\n",
       "      <th></th>\n",
       "      <th>Job Family</th>\n",
       "      <th>Employee Identifier</th>\n",
       "      <th>Salaries</th>\n",
       "      <th>Overtime</th>\n",
       "      <th>Total Benefits</th>\n",
       "      <th>Total Compensation</th>\n",
       "    </tr>\n",
       "  </thead>\n",
       "  <tbody>\n",
       "    <tr>\n",
       "      <th>0</th>\n",
       "      <td>Administrative &amp; Mgmt (Unrep)</td>\n",
       "      <td>2321</td>\n",
       "      <td>291241.175</td>\n",
       "      <td>0.0</td>\n",
       "      <td>89270.9525</td>\n",
       "      <td>380512.1275</td>\n",
       "    </tr>\n",
       "    <tr>\n",
       "      <th>1</th>\n",
       "      <td>Administrative &amp; Mgmt (Unrep)</td>\n",
       "      <td>4800</td>\n",
       "      <td>14463.000</td>\n",
       "      <td>0.0</td>\n",
       "      <td>6037.4200</td>\n",
       "      <td>20500.4200</td>\n",
       "    </tr>\n",
       "    <tr>\n",
       "      <th>2</th>\n",
       "      <td>Administrative &amp; Mgmt (Unrep)</td>\n",
       "      <td>5547</td>\n",
       "      <td>205073.100</td>\n",
       "      <td>0.0</td>\n",
       "      <td>78468.9200</td>\n",
       "      <td>283542.0200</td>\n",
       "    </tr>\n",
       "    <tr>\n",
       "      <th>3</th>\n",
       "      <td>Administrative &amp; Mgmt (Unrep)</td>\n",
       "      <td>5662</td>\n",
       "      <td>128370.200</td>\n",
       "      <td>0.0</td>\n",
       "      <td>31723.2200</td>\n",
       "      <td>160093.4200</td>\n",
       "    </tr>\n",
       "  </tbody>\n",
       "</table>\n",
       "</div>"
      ],
      "text/plain": [
       "                      Job Family  Employee Identifier    Salaries  Overtime  \\\n",
       "0  Administrative & Mgmt (Unrep)                 2321  291241.175       0.0   \n",
       "1  Administrative & Mgmt (Unrep)                 4800   14463.000       0.0   \n",
       "2  Administrative & Mgmt (Unrep)                 5547  205073.100       0.0   \n",
       "3  Administrative & Mgmt (Unrep)                 5662  128370.200       0.0   \n",
       "\n",
       "   Total Benefits  Total Compensation  \n",
       "0      89270.9525         380512.1275  \n",
       "1       6037.4200          20500.4200  \n",
       "2      78468.9200         283542.0200  \n",
       "3      31723.2200         160093.4200  "
      ]
     },
     "execution_count": 24,
     "metadata": {},
     "output_type": "execute_result"
    }
   ],
   "source": [
    "# get averages (Job Family & Employee Identifier should be maintained)\n",
    "employee_mean = raw_df.groupby(['Job Family', 'Employee Identifier'], as_index=False).mean()\n",
    "employee_mean.head(4)"
   ]
  },
  {
   "cell_type": "code",
   "execution_count": 28,
   "metadata": {
    "collapsed": false
   },
   "outputs": [
    {
     "data": {
      "text/html": [
       "<div>\n",
       "<table border=\"1\" class=\"dataframe\">\n",
       "  <thead>\n",
       "    <tr style=\"text-align: right;\">\n",
       "      <th></th>\n",
       "      <th>Job Family</th>\n",
       "      <th>Employee Identifier</th>\n",
       "      <th>Salaries</th>\n",
       "      <th>Overtime</th>\n",
       "      <th>Total Benefits</th>\n",
       "      <th>Total Compensation</th>\n",
       "    </tr>\n",
       "  </thead>\n",
       "  <tbody>\n",
       "    <tr>\n",
       "      <th>90</th>\n",
       "      <td>Administrative-Labor &amp; Trades</td>\n",
       "      <td>5727</td>\n",
       "      <td>123810.3575</td>\n",
       "      <td>32152.7675</td>\n",
       "      <td>49004.2575</td>\n",
       "      <td>236983.73</td>\n",
       "    </tr>\n",
       "    <tr>\n",
       "      <th>92</th>\n",
       "      <td>Administrative-Labor &amp; Trades</td>\n",
       "      <td>8353</td>\n",
       "      <td>66924.4050</td>\n",
       "      <td>59010.0100</td>\n",
       "      <td>30076.5150</td>\n",
       "      <td>167640.23</td>\n",
       "    </tr>\n",
       "    <tr>\n",
       "      <th>93</th>\n",
       "      <td>Administrative-Labor &amp; Trades</td>\n",
       "      <td>10523</td>\n",
       "      <td>51481.5300</td>\n",
       "      <td>21225.3300</td>\n",
       "      <td>23231.4100</td>\n",
       "      <td>128672.34</td>\n",
       "    </tr>\n",
       "    <tr>\n",
       "      <th>97</th>\n",
       "      <td>Administrative-Labor &amp; Trades</td>\n",
       "      <td>13187</td>\n",
       "      <td>55484.0000</td>\n",
       "      <td>9646.6800</td>\n",
       "      <td>18306.0300</td>\n",
       "      <td>95239.71</td>\n",
       "    </tr>\n",
       "  </tbody>\n",
       "</table>\n",
       "</div>"
      ],
      "text/plain": [
       "                       Job Family  Employee Identifier     Salaries  \\\n",
       "90  Administrative-Labor & Trades                 5727  123810.3575   \n",
       "92  Administrative-Labor & Trades                 8353   66924.4050   \n",
       "93  Administrative-Labor & Trades                10523   51481.5300   \n",
       "97  Administrative-Labor & Trades                13187   55484.0000   \n",
       "\n",
       "      Overtime  Total Benefits  Total Compensation  \n",
       "90  32152.7675      49004.2575           236983.73  \n",
       "92  59010.0100      30076.5150           167640.23  \n",
       "93  21225.3300      23231.4100           128672.34  \n",
       "97   9646.6800      18306.0300            95239.71  "
      ]
     },
     "execution_count": 28,
     "metadata": {},
     "output_type": "execute_result"
    }
   ],
   "source": [
    "# get those rows where overtime > 5% of salaries\n",
    "over_time = employee_mean[employee_mean['Overtime'] > employee_mean['Salaries']*0.05]\n",
    "over_time.head(4)"
   ]
  },
  {
   "cell_type": "code",
   "execution_count": 29,
   "metadata": {
    "collapsed": false
   },
   "outputs": [
    {
     "data": {
      "text/html": [
       "<div>\n",
       "<table border=\"1\" class=\"dataframe\">\n",
       "  <thead>\n",
       "    <tr style=\"text-align: right;\">\n",
       "      <th></th>\n",
       "      <th>Job Family</th>\n",
       "      <th>Total Benefits</th>\n",
       "      <th>Total Compensation</th>\n",
       "    </tr>\n",
       "  </thead>\n",
       "  <tbody>\n",
       "    <tr>\n",
       "      <th>90</th>\n",
       "      <td>Administrative-Labor &amp; Trades</td>\n",
       "      <td>49004.2575</td>\n",
       "      <td>236983.73</td>\n",
       "    </tr>\n",
       "    <tr>\n",
       "      <th>92</th>\n",
       "      <td>Administrative-Labor &amp; Trades</td>\n",
       "      <td>30076.5150</td>\n",
       "      <td>167640.23</td>\n",
       "    </tr>\n",
       "    <tr>\n",
       "      <th>93</th>\n",
       "      <td>Administrative-Labor &amp; Trades</td>\n",
       "      <td>23231.4100</td>\n",
       "      <td>128672.34</td>\n",
       "    </tr>\n",
       "    <tr>\n",
       "      <th>97</th>\n",
       "      <td>Administrative-Labor &amp; Trades</td>\n",
       "      <td>18306.0300</td>\n",
       "      <td>95239.71</td>\n",
       "    </tr>\n",
       "  </tbody>\n",
       "</table>\n",
       "</div>"
      ],
      "text/plain": [
       "                       Job Family  Total Benefits  Total Compensation\n",
       "90  Administrative-Labor & Trades      49004.2575           236983.73\n",
       "92  Administrative-Labor & Trades      30076.5150           167640.23\n",
       "93  Administrative-Labor & Trades      23231.4100           128672.34\n",
       "97  Administrative-Labor & Trades      18306.0300            95239.71"
      ]
     },
     "execution_count": 29,
     "metadata": {},
     "output_type": "execute_result"
    }
   ],
   "source": [
    "# drop unnecessary columns\n",
    "col_list = ['Job Family', 'Total Benefits', 'Total Compensation']\n",
    "cut_df = over_time[col_list]\n",
    "cut_df.head(4)"
   ]
  },
  {
   "cell_type": "code",
   "execution_count": 30,
   "metadata": {
    "collapsed": false
   },
   "outputs": [
    {
     "data": {
      "text/html": [
       "<div>\n",
       "<table border=\"1\" class=\"dataframe\">\n",
       "  <thead>\n",
       "    <tr style=\"text-align: right;\">\n",
       "      <th></th>\n",
       "      <th>Job Family</th>\n",
       "      <th>Total Benefits</th>\n",
       "      <th>Total Compensation</th>\n",
       "    </tr>\n",
       "  </thead>\n",
       "  <tbody>\n",
       "    <tr>\n",
       "      <th>0</th>\n",
       "      <td>Administrative-Labor &amp; Trades</td>\n",
       "      <td>35398.450119</td>\n",
       "      <td>162831.632560</td>\n",
       "    </tr>\n",
       "    <tr>\n",
       "      <th>1</th>\n",
       "      <td>Agriculture &amp; Horticulture</td>\n",
       "      <td>27886.590323</td>\n",
       "      <td>94075.711769</td>\n",
       "    </tr>\n",
       "    <tr>\n",
       "      <th>2</th>\n",
       "      <td>Airport Operation</td>\n",
       "      <td>33661.152255</td>\n",
       "      <td>122059.011671</td>\n",
       "    </tr>\n",
       "    <tr>\n",
       "      <th>3</th>\n",
       "      <td>Budget, Admn &amp; Stats Analysis</td>\n",
       "      <td>22721.521375</td>\n",
       "      <td>79834.029938</td>\n",
       "    </tr>\n",
       "  </tbody>\n",
       "</table>\n",
       "</div>"
      ],
      "text/plain": [
       "                      Job Family  Total Benefits  Total Compensation\n",
       "0  Administrative-Labor & Trades    35398.450119       162831.632560\n",
       "1     Agriculture & Horticulture    27886.590323        94075.711769\n",
       "2              Airport Operation    33661.152255       122059.011671\n",
       "3  Budget, Admn & Stats Analysis    22721.521375        79834.029938"
      ]
     },
     "execution_count": 30,
     "metadata": {},
     "output_type": "execute_result"
    }
   ],
   "source": [
    "# drop unnecessary columns\n",
    "job_family = cut_df.groupby(['Job Family'], as_index=False).mean()\n",
    "job_family.head(4)"
   ]
  },
  {
   "cell_type": "code",
   "execution_count": 33,
   "metadata": {
    "collapsed": false
   },
   "outputs": [
    {
     "data": {
      "text/html": [
       "<div>\n",
       "<table border=\"1\" class=\"dataframe\">\n",
       "  <thead>\n",
       "    <tr style=\"text-align: right;\">\n",
       "      <th></th>\n",
       "      <th>Job Family</th>\n",
       "      <th>Total Benefits</th>\n",
       "      <th>Total Compensation</th>\n",
       "      <th>Percentage_Total_Benefit</th>\n",
       "    </tr>\n",
       "  </thead>\n",
       "  <tbody>\n",
       "    <tr>\n",
       "      <th>34</th>\n",
       "      <td>Public Service Aide</td>\n",
       "      <td>12081.252503</td>\n",
       "      <td>34013.789743</td>\n",
       "      <td>35.518690</td>\n",
       "    </tr>\n",
       "    <tr>\n",
       "      <th>23</th>\n",
       "      <td>Park &amp; Zoo</td>\n",
       "      <td>22168.769722</td>\n",
       "      <td>65363.664630</td>\n",
       "      <td>33.916045</td>\n",
       "    </tr>\n",
       "    <tr>\n",
       "      <th>9</th>\n",
       "      <td>Energy &amp; Environment</td>\n",
       "      <td>14254.410000</td>\n",
       "      <td>43219.500000</td>\n",
       "      <td>32.981432</td>\n",
       "    </tr>\n",
       "    <tr>\n",
       "      <th>37</th>\n",
       "      <td>Revenue</td>\n",
       "      <td>15629.204089</td>\n",
       "      <td>47641.781767</td>\n",
       "      <td>32.805667</td>\n",
       "    </tr>\n",
       "    <tr>\n",
       "      <th>21</th>\n",
       "      <td>Museum &amp; Cultural Affairs</td>\n",
       "      <td>27037.390000</td>\n",
       "      <td>83926.070000</td>\n",
       "      <td>32.215723</td>\n",
       "    </tr>\n",
       "  </tbody>\n",
       "</table>\n",
       "</div>"
      ],
      "text/plain": [
       "                   Job Family  Total Benefits  Total Compensation  \\\n",
       "34        Public Service Aide    12081.252503        34013.789743   \n",
       "23                 Park & Zoo    22168.769722        65363.664630   \n",
       "9        Energy & Environment    14254.410000        43219.500000   \n",
       "37                    Revenue    15629.204089        47641.781767   \n",
       "21  Museum & Cultural Affairs    27037.390000        83926.070000   \n",
       "\n",
       "    Percentage_Total_Benefit  \n",
       "34                 35.518690  \n",
       "23                 33.916045  \n",
       "9                  32.981432  \n",
       "37                 32.805667  \n",
       "21                 32.215723  "
      ]
     },
     "execution_count": 33,
     "metadata": {},
     "output_type": "execute_result"
    }
   ],
   "source": [
    "# get average and sort in descending order\n",
    "job_family['Percentage_Total_Benefit'] = job_family['Total Benefits'] / job_family['Total Compensation'] * 100\n",
    "out_df = job_family.sort_values(by='Percentage_Total_Benefit', ascending=False)\n",
    "out_df.head(5)"
   ]
  },
  {
   "cell_type": "code",
   "execution_count": 34,
   "metadata": {
    "collapsed": true
   },
   "outputs": [],
   "source": [
    "# save to csv\n",
    "out_df.to_csv('output_csv/q2p2_output.csv',index=False,header=True)"
   ]
  },
  {
   "cell_type": "code",
   "execution_count": null,
   "metadata": {
    "collapsed": true
   },
   "outputs": [],
   "source": []
  }
 ],
 "metadata": {
  "anaconda-cloud": {},
  "kernelspec": {
   "display_name": "Python [default]",
   "language": "python",
   "name": "python3"
  },
  "language_info": {
   "codemirror_mode": {
    "name": "ipython",
    "version": 3
   },
   "file_extension": ".py",
   "mimetype": "text/x-python",
   "name": "python",
   "nbconvert_exporter": "python",
   "pygments_lexer": "ipython3",
   "version": "3.5.2"
  }
 },
 "nbformat": 4,
 "nbformat_minor": 1
}
