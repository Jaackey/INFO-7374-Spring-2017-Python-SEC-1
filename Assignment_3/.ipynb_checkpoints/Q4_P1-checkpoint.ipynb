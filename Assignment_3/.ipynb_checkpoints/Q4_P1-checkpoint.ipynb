{
 "cells": [
  {
   "cell_type": "markdown",
   "metadata": {},
   "source": [
    "# Question 4 Part 1\n",
    "- Use ‘movies_awards’ data set\n",
    "- You are supposed to extract data from the awards column in this dataset and split it into several columns. An example is given below\n",
    "- The awards has details of wins, nominations in general and also wins and nominations in certain categories(e.g. Oscar, BAFTA etc.)\n",
    "- You are supposed to create a win and nominated column (these 2 columns contain total number of wins and nominations) and other columns that extract the number of wins and nominations for each category of award\n",
    "- If a movie has 2 Oscar nominations and 4 Oscar won, the columns Oscar_Awards_Won should have value 4 and Oscar_Awards_Nominated should have value 2. You should also have a total won and nominated column which aggregates all the awards (won or nominated)\n",
    "- Create two separate columns for each award category (won and nominated)\n",
    "- Write your output to a csv file"
   ]
  },
  {
   "cell_type": "code",
   "execution_count": 1,
   "metadata": {
    "collapsed": true
   },
   "outputs": [],
   "source": [
    "import pandas as pd"
   ]
  },
  {
   "cell_type": "code",
   "execution_count": 44,
   "metadata": {
    "collapsed": false
   },
   "outputs": [
    {
     "data": {
      "text/html": [
       "<div>\n",
       "<table border=\"1\" class=\"dataframe\">\n",
       "  <thead>\n",
       "    <tr style=\"text-align: right;\">\n",
       "      <th></th>\n",
       "      <th>imdbID</th>\n",
       "      <th>Awards</th>\n",
       "    </tr>\n",
       "  </thead>\n",
       "  <tbody>\n",
       "    <tr>\n",
       "      <th>11</th>\n",
       "      <td>tt0250224</td>\n",
       "      <td>5 nominations.</td>\n",
       "    </tr>\n",
       "    <tr>\n",
       "      <th>13</th>\n",
       "      <td>tt0254099</td>\n",
       "      <td>2 wins &amp; 5 nominations.</td>\n",
       "    </tr>\n",
       "    <tr>\n",
       "      <th>15</th>\n",
       "      <td>tt0258068</td>\n",
       "      <td>Nominated for 1 Oscar. Another 13 wins &amp; 13 no...</td>\n",
       "    </tr>\n",
       "    <tr>\n",
       "      <th>24</th>\n",
       "      <td>tt0272338</td>\n",
       "      <td>Nominated for 1 Golden Globe. Another 14 wins ...</td>\n",
       "    </tr>\n",
       "  </tbody>\n",
       "</table>\n",
       "</div>"
      ],
      "text/plain": [
       "       imdbID                                             Awards\n",
       "11  tt0250224                                     5 nominations.\n",
       "13  tt0254099                            2 wins & 5 nominations.\n",
       "15  tt0258068  Nominated for 1 Oscar. Another 13 wins & 13 no...\n",
       "24  tt0272338  Nominated for 1 Golden Globe. Another 14 wins ..."
      ]
     },
     "execution_count": 44,
     "metadata": {},
     "output_type": "execute_result"
    }
   ],
   "source": [
    "# maintain needed columns and drop NaNs\n",
    "df = pd.read_csv('Data/movies_awards.csv')\n",
    "col_list = ['imdbID', 'Awards']\n",
    "df = df.dropna()\n",
    "df = df[col_list]\n",
    "df.head(4)"
   ]
  },
  {
   "cell_type": "code",
   "execution_count": 45,
   "metadata": {
    "collapsed": true
   },
   "outputs": [],
   "source": [
    "import re    "
   ]
  },
  {
   "cell_type": "code",
   "execution_count": 46,
   "metadata": {
    "collapsed": true
   },
   "outputs": [],
   "source": [
    "# get number of wins. name can be 'Oscar', 'Prime', etc.\n",
    "def find_famous_wins(name, row):\n",
    "    pattern = r'Won (\\d+) '+name\n",
    "    nums = re.findall(pattern, row)\n",
    "    if len(nums)>0:\n",
    "        return nums[0]\n",
    "    else:\n",
    "        return '0'"
   ]
  },
  {
   "cell_type": "code",
   "execution_count": 47,
   "metadata": {
    "collapsed": false
   },
   "outputs": [],
   "source": [
    "# get number of Nominations. name can be 'Oscar', 'Prime', etc.\n",
    "def find_famous_Noms(name, row):\n",
    "    pattern = r'Nominated for (\\d+) '+name\n",
    "    nums = re.findall(pattern, row)\n",
    "    if len(nums)>0:\n",
    "        return nums[0]\n",
    "    else:\n",
    "        return '0'"
   ]
  },
  {
   "cell_type": "code",
   "execution_count": 48,
   "metadata": {
    "collapsed": true
   },
   "outputs": [],
   "source": [
    "# get total of wins. total = other_wins + Oscar_wins + Prime_wins + ...\n",
    "def find_all_wins(row):\n",
    "    pattern = r'(\\d+) wins'\n",
    "    famous_wins = int(row['Prime_Won'])+int(row['Oscar_Won'])+int(row['Golden_Globe_Won'])+int(row['BAFTA_Won'])\n",
    "    nums = re.findall(pattern, row['Awards'])\n",
    "    if len(nums)>0:\n",
    "        return int(nums[0])+famous_wins\n",
    "    else:\n",
    "        return famous_wins"
   ]
  },
  {
   "cell_type": "code",
   "execution_count": 49,
   "metadata": {
    "collapsed": true
   },
   "outputs": [],
   "source": [
    "# get total of nominations. total = other_nominations + Oscar_nominations + Prime_nominations + ...\n",
    "def find_all_noms(row):\n",
    "    pattern = r'(\\d+) nominations'\n",
    "    famous_noms = int(row['Prime_Nominated'])+int(row['Oscar_Nominated'])+int(row['Golden_Globe_Nominated'])+int(row['BAFTA_Nominated'])\n",
    "    nums = re.findall(pattern, row['Awards'])\n",
    "    if len(nums)>0:\n",
    "        return int(nums[0])+famous_noms\n",
    "    else:\n",
    "        return famous_noms"
   ]
  },
  {
   "cell_type": "code",
   "execution_count": 50,
   "metadata": {
    "collapsed": false
   },
   "outputs": [
    {
     "data": {
      "text/html": [
       "<div>\n",
       "<table border=\"1\" class=\"dataframe\">\n",
       "  <thead>\n",
       "    <tr style=\"text-align: right;\">\n",
       "      <th></th>\n",
       "      <th>imdbID</th>\n",
       "      <th>Awards</th>\n",
       "      <th>Prime_Won</th>\n",
       "    </tr>\n",
       "  </thead>\n",
       "  <tbody>\n",
       "    <tr>\n",
       "      <th>11</th>\n",
       "      <td>tt0250224</td>\n",
       "      <td>5 nominations.</td>\n",
       "      <td>0</td>\n",
       "    </tr>\n",
       "    <tr>\n",
       "      <th>13</th>\n",
       "      <td>tt0254099</td>\n",
       "      <td>2 wins &amp; 5 nominations.</td>\n",
       "      <td>0</td>\n",
       "    </tr>\n",
       "    <tr>\n",
       "      <th>15</th>\n",
       "      <td>tt0258068</td>\n",
       "      <td>Nominated for 1 Oscar. Another 13 wins &amp; 13 no...</td>\n",
       "      <td>0</td>\n",
       "    </tr>\n",
       "    <tr>\n",
       "      <th>24</th>\n",
       "      <td>tt0272338</td>\n",
       "      <td>Nominated for 1 Golden Globe. Another 14 wins ...</td>\n",
       "      <td>0</td>\n",
       "    </tr>\n",
       "  </tbody>\n",
       "</table>\n",
       "</div>"
      ],
      "text/plain": [
       "       imdbID                                             Awards Prime_Won\n",
       "11  tt0250224                                     5 nominations.         0\n",
       "13  tt0254099                            2 wins & 5 nominations.         0\n",
       "15  tt0258068  Nominated for 1 Oscar. Another 13 wins & 13 no...         0\n",
       "24  tt0272338  Nominated for 1 Golden Globe. Another 14 wins ...         0"
      ]
     },
     "execution_count": 50,
     "metadata": {},
     "output_type": "execute_result"
    }
   ],
   "source": [
    "df['Prime_Won'] = df.apply(lambda row: find_famous_wins('Prime', row['Awards']), axis=1)\n",
    "df.head(4)"
   ]
  },
  {
   "cell_type": "code",
   "execution_count": 51,
   "metadata": {
    "collapsed": false
   },
   "outputs": [
    {
     "data": {
      "text/html": [
       "<div>\n",
       "<table border=\"1\" class=\"dataframe\">\n",
       "  <thead>\n",
       "    <tr style=\"text-align: right;\">\n",
       "      <th></th>\n",
       "      <th>imdbID</th>\n",
       "      <th>Awards</th>\n",
       "      <th>Prime_Won</th>\n",
       "      <th>Oscar_Won</th>\n",
       "    </tr>\n",
       "  </thead>\n",
       "  <tbody>\n",
       "    <tr>\n",
       "      <th>11</th>\n",
       "      <td>tt0250224</td>\n",
       "      <td>5 nominations.</td>\n",
       "      <td>0</td>\n",
       "      <td>0</td>\n",
       "    </tr>\n",
       "    <tr>\n",
       "      <th>13</th>\n",
       "      <td>tt0254099</td>\n",
       "      <td>2 wins &amp; 5 nominations.</td>\n",
       "      <td>0</td>\n",
       "      <td>0</td>\n",
       "    </tr>\n",
       "    <tr>\n",
       "      <th>15</th>\n",
       "      <td>tt0258068</td>\n",
       "      <td>Nominated for 1 Oscar. Another 13 wins &amp; 13 no...</td>\n",
       "      <td>0</td>\n",
       "      <td>0</td>\n",
       "    </tr>\n",
       "    <tr>\n",
       "      <th>24</th>\n",
       "      <td>tt0272338</td>\n",
       "      <td>Nominated for 1 Golden Globe. Another 14 wins ...</td>\n",
       "      <td>0</td>\n",
       "      <td>0</td>\n",
       "    </tr>\n",
       "  </tbody>\n",
       "</table>\n",
       "</div>"
      ],
      "text/plain": [
       "       imdbID                                             Awards Prime_Won  \\\n",
       "11  tt0250224                                     5 nominations.         0   \n",
       "13  tt0254099                            2 wins & 5 nominations.         0   \n",
       "15  tt0258068  Nominated for 1 Oscar. Another 13 wins & 13 no...         0   \n",
       "24  tt0272338  Nominated for 1 Golden Globe. Another 14 wins ...         0   \n",
       "\n",
       "   Oscar_Won  \n",
       "11         0  \n",
       "13         0  \n",
       "15         0  \n",
       "24         0  "
      ]
     },
     "execution_count": 51,
     "metadata": {},
     "output_type": "execute_result"
    }
   ],
   "source": [
    "df['Oscar_Won'] = df.apply(lambda row: find_famous_wins('Oscar', row['Awards']), axis=1)\n",
    "df.head(4)"
   ]
  },
  {
   "cell_type": "code",
   "execution_count": 52,
   "metadata": {
    "collapsed": false
   },
   "outputs": [
    {
     "data": {
      "text/html": [
       "<div>\n",
       "<table border=\"1\" class=\"dataframe\">\n",
       "  <thead>\n",
       "    <tr style=\"text-align: right;\">\n",
       "      <th></th>\n",
       "      <th>imdbID</th>\n",
       "      <th>Awards</th>\n",
       "      <th>Prime_Won</th>\n",
       "      <th>Oscar_Won</th>\n",
       "      <th>Golden_Globe_Won</th>\n",
       "    </tr>\n",
       "  </thead>\n",
       "  <tbody>\n",
       "    <tr>\n",
       "      <th>11</th>\n",
       "      <td>tt0250224</td>\n",
       "      <td>5 nominations.</td>\n",
       "      <td>0</td>\n",
       "      <td>0</td>\n",
       "      <td>0</td>\n",
       "    </tr>\n",
       "    <tr>\n",
       "      <th>13</th>\n",
       "      <td>tt0254099</td>\n",
       "      <td>2 wins &amp; 5 nominations.</td>\n",
       "      <td>0</td>\n",
       "      <td>0</td>\n",
       "      <td>0</td>\n",
       "    </tr>\n",
       "    <tr>\n",
       "      <th>15</th>\n",
       "      <td>tt0258068</td>\n",
       "      <td>Nominated for 1 Oscar. Another 13 wins &amp; 13 no...</td>\n",
       "      <td>0</td>\n",
       "      <td>0</td>\n",
       "      <td>0</td>\n",
       "    </tr>\n",
       "    <tr>\n",
       "      <th>24</th>\n",
       "      <td>tt0272338</td>\n",
       "      <td>Nominated for 1 Golden Globe. Another 14 wins ...</td>\n",
       "      <td>0</td>\n",
       "      <td>0</td>\n",
       "      <td>0</td>\n",
       "    </tr>\n",
       "  </tbody>\n",
       "</table>\n",
       "</div>"
      ],
      "text/plain": [
       "       imdbID                                             Awards Prime_Won  \\\n",
       "11  tt0250224                                     5 nominations.         0   \n",
       "13  tt0254099                            2 wins & 5 nominations.         0   \n",
       "15  tt0258068  Nominated for 1 Oscar. Another 13 wins & 13 no...         0   \n",
       "24  tt0272338  Nominated for 1 Golden Globe. Another 14 wins ...         0   \n",
       "\n",
       "   Oscar_Won Golden_Globe_Won  \n",
       "11         0                0  \n",
       "13         0                0  \n",
       "15         0                0  \n",
       "24         0                0  "
      ]
     },
     "execution_count": 52,
     "metadata": {},
     "output_type": "execute_result"
    }
   ],
   "source": [
    "df['Golden_Globe_Won'] = df.apply(lambda row: find_famous_wins('Golden', row['Awards']), axis=1)\n",
    "df.head(4)"
   ]
  },
  {
   "cell_type": "code",
   "execution_count": 53,
   "metadata": {
    "collapsed": false
   },
   "outputs": [
    {
     "data": {
      "text/html": [
       "<div>\n",
       "<table border=\"1\" class=\"dataframe\">\n",
       "  <thead>\n",
       "    <tr style=\"text-align: right;\">\n",
       "      <th></th>\n",
       "      <th>imdbID</th>\n",
       "      <th>Awards</th>\n",
       "      <th>Prime_Won</th>\n",
       "      <th>Oscar_Won</th>\n",
       "      <th>Golden_Globe_Won</th>\n",
       "      <th>BAFTA_Won</th>\n",
       "    </tr>\n",
       "  </thead>\n",
       "  <tbody>\n",
       "    <tr>\n",
       "      <th>11</th>\n",
       "      <td>tt0250224</td>\n",
       "      <td>5 nominations.</td>\n",
       "      <td>0</td>\n",
       "      <td>0</td>\n",
       "      <td>0</td>\n",
       "      <td>0</td>\n",
       "    </tr>\n",
       "    <tr>\n",
       "      <th>13</th>\n",
       "      <td>tt0254099</td>\n",
       "      <td>2 wins &amp; 5 nominations.</td>\n",
       "      <td>0</td>\n",
       "      <td>0</td>\n",
       "      <td>0</td>\n",
       "      <td>0</td>\n",
       "    </tr>\n",
       "    <tr>\n",
       "      <th>15</th>\n",
       "      <td>tt0258068</td>\n",
       "      <td>Nominated for 1 Oscar. Another 13 wins &amp; 13 no...</td>\n",
       "      <td>0</td>\n",
       "      <td>0</td>\n",
       "      <td>0</td>\n",
       "      <td>0</td>\n",
       "    </tr>\n",
       "    <tr>\n",
       "      <th>24</th>\n",
       "      <td>tt0272338</td>\n",
       "      <td>Nominated for 1 Golden Globe. Another 14 wins ...</td>\n",
       "      <td>0</td>\n",
       "      <td>0</td>\n",
       "      <td>0</td>\n",
       "      <td>0</td>\n",
       "    </tr>\n",
       "  </tbody>\n",
       "</table>\n",
       "</div>"
      ],
      "text/plain": [
       "       imdbID                                             Awards Prime_Won  \\\n",
       "11  tt0250224                                     5 nominations.         0   \n",
       "13  tt0254099                            2 wins & 5 nominations.         0   \n",
       "15  tt0258068  Nominated for 1 Oscar. Another 13 wins & 13 no...         0   \n",
       "24  tt0272338  Nominated for 1 Golden Globe. Another 14 wins ...         0   \n",
       "\n",
       "   Oscar_Won Golden_Globe_Won BAFTA_Won  \n",
       "11         0                0         0  \n",
       "13         0                0         0  \n",
       "15         0                0         0  \n",
       "24         0                0         0  "
      ]
     },
     "execution_count": 53,
     "metadata": {},
     "output_type": "execute_result"
    }
   ],
   "source": [
    "df['BAFTA_Won'] = df.apply(lambda row: find_famous_wins('BAFTA', row['Awards']), axis=1)\n",
    "df.head(4)"
   ]
  },
  {
   "cell_type": "code",
   "execution_count": 54,
   "metadata": {
    "collapsed": false
   },
   "outputs": [
    {
     "data": {
      "text/html": [
       "<div>\n",
       "<table border=\"1\" class=\"dataframe\">\n",
       "  <thead>\n",
       "    <tr style=\"text-align: right;\">\n",
       "      <th></th>\n",
       "      <th>imdbID</th>\n",
       "      <th>Awards</th>\n",
       "      <th>Prime_Won</th>\n",
       "      <th>Oscar_Won</th>\n",
       "      <th>Golden_Globe_Won</th>\n",
       "      <th>BAFTA_Won</th>\n",
       "      <th>Prime_Nominated</th>\n",
       "    </tr>\n",
       "  </thead>\n",
       "  <tbody>\n",
       "    <tr>\n",
       "      <th>11</th>\n",
       "      <td>tt0250224</td>\n",
       "      <td>5 nominations.</td>\n",
       "      <td>0</td>\n",
       "      <td>0</td>\n",
       "      <td>0</td>\n",
       "      <td>0</td>\n",
       "      <td>0</td>\n",
       "    </tr>\n",
       "    <tr>\n",
       "      <th>13</th>\n",
       "      <td>tt0254099</td>\n",
       "      <td>2 wins &amp; 5 nominations.</td>\n",
       "      <td>0</td>\n",
       "      <td>0</td>\n",
       "      <td>0</td>\n",
       "      <td>0</td>\n",
       "      <td>0</td>\n",
       "    </tr>\n",
       "    <tr>\n",
       "      <th>15</th>\n",
       "      <td>tt0258068</td>\n",
       "      <td>Nominated for 1 Oscar. Another 13 wins &amp; 13 no...</td>\n",
       "      <td>0</td>\n",
       "      <td>0</td>\n",
       "      <td>0</td>\n",
       "      <td>0</td>\n",
       "      <td>0</td>\n",
       "    </tr>\n",
       "    <tr>\n",
       "      <th>24</th>\n",
       "      <td>tt0272338</td>\n",
       "      <td>Nominated for 1 Golden Globe. Another 14 wins ...</td>\n",
       "      <td>0</td>\n",
       "      <td>0</td>\n",
       "      <td>0</td>\n",
       "      <td>0</td>\n",
       "      <td>0</td>\n",
       "    </tr>\n",
       "  </tbody>\n",
       "</table>\n",
       "</div>"
      ],
      "text/plain": [
       "       imdbID                                             Awards Prime_Won  \\\n",
       "11  tt0250224                                     5 nominations.         0   \n",
       "13  tt0254099                            2 wins & 5 nominations.         0   \n",
       "15  tt0258068  Nominated for 1 Oscar. Another 13 wins & 13 no...         0   \n",
       "24  tt0272338  Nominated for 1 Golden Globe. Another 14 wins ...         0   \n",
       "\n",
       "   Oscar_Won Golden_Globe_Won BAFTA_Won Prime_Nominated  \n",
       "11         0                0         0               0  \n",
       "13         0                0         0               0  \n",
       "15         0                0         0               0  \n",
       "24         0                0         0               0  "
      ]
     },
     "execution_count": 54,
     "metadata": {},
     "output_type": "execute_result"
    }
   ],
   "source": [
    "df['Prime_Nominated'] = df.apply(lambda row: find_famous_Noms('Prime', row['Awards']), axis=1)\n",
    "df.head(4)"
   ]
  },
  {
   "cell_type": "code",
   "execution_count": 55,
   "metadata": {
    "collapsed": false
   },
   "outputs": [
    {
     "data": {
      "text/html": [
       "<div>\n",
       "<table border=\"1\" class=\"dataframe\">\n",
       "  <thead>\n",
       "    <tr style=\"text-align: right;\">\n",
       "      <th></th>\n",
       "      <th>imdbID</th>\n",
       "      <th>Awards</th>\n",
       "      <th>Prime_Won</th>\n",
       "      <th>Oscar_Won</th>\n",
       "      <th>Golden_Globe_Won</th>\n",
       "      <th>BAFTA_Won</th>\n",
       "      <th>Prime_Nominated</th>\n",
       "      <th>Oscar_Nominated</th>\n",
       "    </tr>\n",
       "  </thead>\n",
       "  <tbody>\n",
       "    <tr>\n",
       "      <th>11</th>\n",
       "      <td>tt0250224</td>\n",
       "      <td>5 nominations.</td>\n",
       "      <td>0</td>\n",
       "      <td>0</td>\n",
       "      <td>0</td>\n",
       "      <td>0</td>\n",
       "      <td>0</td>\n",
       "      <td>0</td>\n",
       "    </tr>\n",
       "    <tr>\n",
       "      <th>13</th>\n",
       "      <td>tt0254099</td>\n",
       "      <td>2 wins &amp; 5 nominations.</td>\n",
       "      <td>0</td>\n",
       "      <td>0</td>\n",
       "      <td>0</td>\n",
       "      <td>0</td>\n",
       "      <td>0</td>\n",
       "      <td>0</td>\n",
       "    </tr>\n",
       "    <tr>\n",
       "      <th>15</th>\n",
       "      <td>tt0258068</td>\n",
       "      <td>Nominated for 1 Oscar. Another 13 wins &amp; 13 no...</td>\n",
       "      <td>0</td>\n",
       "      <td>0</td>\n",
       "      <td>0</td>\n",
       "      <td>0</td>\n",
       "      <td>0</td>\n",
       "      <td>1</td>\n",
       "    </tr>\n",
       "    <tr>\n",
       "      <th>24</th>\n",
       "      <td>tt0272338</td>\n",
       "      <td>Nominated for 1 Golden Globe. Another 14 wins ...</td>\n",
       "      <td>0</td>\n",
       "      <td>0</td>\n",
       "      <td>0</td>\n",
       "      <td>0</td>\n",
       "      <td>0</td>\n",
       "      <td>0</td>\n",
       "    </tr>\n",
       "  </tbody>\n",
       "</table>\n",
       "</div>"
      ],
      "text/plain": [
       "       imdbID                                             Awards Prime_Won  \\\n",
       "11  tt0250224                                     5 nominations.         0   \n",
       "13  tt0254099                            2 wins & 5 nominations.         0   \n",
       "15  tt0258068  Nominated for 1 Oscar. Another 13 wins & 13 no...         0   \n",
       "24  tt0272338  Nominated for 1 Golden Globe. Another 14 wins ...         0   \n",
       "\n",
       "   Oscar_Won Golden_Globe_Won BAFTA_Won Prime_Nominated Oscar_Nominated  \n",
       "11         0                0         0               0               0  \n",
       "13         0                0         0               0               0  \n",
       "15         0                0         0               0               1  \n",
       "24         0                0         0               0               0  "
      ]
     },
     "execution_count": 55,
     "metadata": {},
     "output_type": "execute_result"
    }
   ],
   "source": [
    "df['Oscar_Nominated'] = df.apply(lambda row: find_famous_Noms('Oscar', row['Awards']), axis=1)\n",
    "df.head(4)"
   ]
  },
  {
   "cell_type": "code",
   "execution_count": 56,
   "metadata": {
    "collapsed": false
   },
   "outputs": [
    {
     "data": {
      "text/html": [
       "<div>\n",
       "<table border=\"1\" class=\"dataframe\">\n",
       "  <thead>\n",
       "    <tr style=\"text-align: right;\">\n",
       "      <th></th>\n",
       "      <th>imdbID</th>\n",
       "      <th>Awards</th>\n",
       "      <th>Prime_Won</th>\n",
       "      <th>Oscar_Won</th>\n",
       "      <th>Golden_Globe_Won</th>\n",
       "      <th>BAFTA_Won</th>\n",
       "      <th>Prime_Nominated</th>\n",
       "      <th>Oscar_Nominated</th>\n",
       "      <th>Golden_Globe_Nominated</th>\n",
       "    </tr>\n",
       "  </thead>\n",
       "  <tbody>\n",
       "    <tr>\n",
       "      <th>11</th>\n",
       "      <td>tt0250224</td>\n",
       "      <td>5 nominations.</td>\n",
       "      <td>0</td>\n",
       "      <td>0</td>\n",
       "      <td>0</td>\n",
       "      <td>0</td>\n",
       "      <td>0</td>\n",
       "      <td>0</td>\n",
       "      <td>0</td>\n",
       "    </tr>\n",
       "    <tr>\n",
       "      <th>13</th>\n",
       "      <td>tt0254099</td>\n",
       "      <td>2 wins &amp; 5 nominations.</td>\n",
       "      <td>0</td>\n",
       "      <td>0</td>\n",
       "      <td>0</td>\n",
       "      <td>0</td>\n",
       "      <td>0</td>\n",
       "      <td>0</td>\n",
       "      <td>0</td>\n",
       "    </tr>\n",
       "    <tr>\n",
       "      <th>15</th>\n",
       "      <td>tt0258068</td>\n",
       "      <td>Nominated for 1 Oscar. Another 13 wins &amp; 13 no...</td>\n",
       "      <td>0</td>\n",
       "      <td>0</td>\n",
       "      <td>0</td>\n",
       "      <td>0</td>\n",
       "      <td>0</td>\n",
       "      <td>1</td>\n",
       "      <td>0</td>\n",
       "    </tr>\n",
       "    <tr>\n",
       "      <th>24</th>\n",
       "      <td>tt0272338</td>\n",
       "      <td>Nominated for 1 Golden Globe. Another 14 wins ...</td>\n",
       "      <td>0</td>\n",
       "      <td>0</td>\n",
       "      <td>0</td>\n",
       "      <td>0</td>\n",
       "      <td>0</td>\n",
       "      <td>0</td>\n",
       "      <td>1</td>\n",
       "    </tr>\n",
       "  </tbody>\n",
       "</table>\n",
       "</div>"
      ],
      "text/plain": [
       "       imdbID                                             Awards Prime_Won  \\\n",
       "11  tt0250224                                     5 nominations.         0   \n",
       "13  tt0254099                            2 wins & 5 nominations.         0   \n",
       "15  tt0258068  Nominated for 1 Oscar. Another 13 wins & 13 no...         0   \n",
       "24  tt0272338  Nominated for 1 Golden Globe. Another 14 wins ...         0   \n",
       "\n",
       "   Oscar_Won Golden_Globe_Won BAFTA_Won Prime_Nominated Oscar_Nominated  \\\n",
       "11         0                0         0               0               0   \n",
       "13         0                0         0               0               0   \n",
       "15         0                0         0               0               1   \n",
       "24         0                0         0               0               0   \n",
       "\n",
       "   Golden_Globe_Nominated  \n",
       "11                      0  \n",
       "13                      0  \n",
       "15                      0  \n",
       "24                      1  "
      ]
     },
     "execution_count": 56,
     "metadata": {},
     "output_type": "execute_result"
    }
   ],
   "source": [
    "df['Golden_Globe_Nominated'] = df.apply(lambda row: find_famous_Noms('Golden', row['Awards']), axis=1)\n",
    "df.head(4)"
   ]
  },
  {
   "cell_type": "code",
   "execution_count": 57,
   "metadata": {
    "collapsed": false
   },
   "outputs": [
    {
     "data": {
      "text/html": [
       "<div>\n",
       "<table border=\"1\" class=\"dataframe\">\n",
       "  <thead>\n",
       "    <tr style=\"text-align: right;\">\n",
       "      <th></th>\n",
       "      <th>imdbID</th>\n",
       "      <th>Awards</th>\n",
       "      <th>Prime_Won</th>\n",
       "      <th>Oscar_Won</th>\n",
       "      <th>Golden_Globe_Won</th>\n",
       "      <th>BAFTA_Won</th>\n",
       "      <th>Prime_Nominated</th>\n",
       "      <th>Oscar_Nominated</th>\n",
       "      <th>Golden_Globe_Nominated</th>\n",
       "      <th>BAFTA_Nominated</th>\n",
       "    </tr>\n",
       "  </thead>\n",
       "  <tbody>\n",
       "    <tr>\n",
       "      <th>11</th>\n",
       "      <td>tt0250224</td>\n",
       "      <td>5 nominations.</td>\n",
       "      <td>0</td>\n",
       "      <td>0</td>\n",
       "      <td>0</td>\n",
       "      <td>0</td>\n",
       "      <td>0</td>\n",
       "      <td>0</td>\n",
       "      <td>0</td>\n",
       "      <td>0</td>\n",
       "    </tr>\n",
       "    <tr>\n",
       "      <th>13</th>\n",
       "      <td>tt0254099</td>\n",
       "      <td>2 wins &amp; 5 nominations.</td>\n",
       "      <td>0</td>\n",
       "      <td>0</td>\n",
       "      <td>0</td>\n",
       "      <td>0</td>\n",
       "      <td>0</td>\n",
       "      <td>0</td>\n",
       "      <td>0</td>\n",
       "      <td>0</td>\n",
       "    </tr>\n",
       "    <tr>\n",
       "      <th>15</th>\n",
       "      <td>tt0258068</td>\n",
       "      <td>Nominated for 1 Oscar. Another 13 wins &amp; 13 no...</td>\n",
       "      <td>0</td>\n",
       "      <td>0</td>\n",
       "      <td>0</td>\n",
       "      <td>0</td>\n",
       "      <td>0</td>\n",
       "      <td>1</td>\n",
       "      <td>0</td>\n",
       "      <td>0</td>\n",
       "    </tr>\n",
       "    <tr>\n",
       "      <th>24</th>\n",
       "      <td>tt0272338</td>\n",
       "      <td>Nominated for 1 Golden Globe. Another 14 wins ...</td>\n",
       "      <td>0</td>\n",
       "      <td>0</td>\n",
       "      <td>0</td>\n",
       "      <td>0</td>\n",
       "      <td>0</td>\n",
       "      <td>0</td>\n",
       "      <td>1</td>\n",
       "      <td>0</td>\n",
       "    </tr>\n",
       "  </tbody>\n",
       "</table>\n",
       "</div>"
      ],
      "text/plain": [
       "       imdbID                                             Awards Prime_Won  \\\n",
       "11  tt0250224                                     5 nominations.         0   \n",
       "13  tt0254099                            2 wins & 5 nominations.         0   \n",
       "15  tt0258068  Nominated for 1 Oscar. Another 13 wins & 13 no...         0   \n",
       "24  tt0272338  Nominated for 1 Golden Globe. Another 14 wins ...         0   \n",
       "\n",
       "   Oscar_Won Golden_Globe_Won BAFTA_Won Prime_Nominated Oscar_Nominated  \\\n",
       "11         0                0         0               0               0   \n",
       "13         0                0         0               0               0   \n",
       "15         0                0         0               0               1   \n",
       "24         0                0         0               0               0   \n",
       "\n",
       "   Golden_Globe_Nominated BAFTA_Nominated  \n",
       "11                      0               0  \n",
       "13                      0               0  \n",
       "15                      0               0  \n",
       "24                      1               0  "
      ]
     },
     "execution_count": 57,
     "metadata": {},
     "output_type": "execute_result"
    }
   ],
   "source": [
    "df['BAFTA_Nominated'] = df.apply(lambda row: find_famous_Noms('BAFTA', row['Awards']), axis=1)\n",
    "df.head(4)"
   ]
  },
  {
   "cell_type": "code",
   "execution_count": 58,
   "metadata": {
    "collapsed": true
   },
   "outputs": [],
   "source": [
    "# After caculated Special wins and nominations, add those to total wins and nominations\n",
    "df['Total_Wins'] = df.apply(find_all_wins, axis=1)"
   ]
  },
  {
   "cell_type": "code",
   "execution_count": 59,
   "metadata": {
    "collapsed": false
   },
   "outputs": [
    {
     "data": {
      "text/html": [
       "<div>\n",
       "<table border=\"1\" class=\"dataframe\">\n",
       "  <thead>\n",
       "    <tr style=\"text-align: right;\">\n",
       "      <th></th>\n",
       "      <th>imdbID</th>\n",
       "      <th>Awards</th>\n",
       "      <th>Prime_Won</th>\n",
       "      <th>Oscar_Won</th>\n",
       "      <th>Golden_Globe_Won</th>\n",
       "      <th>BAFTA_Won</th>\n",
       "      <th>Prime_Nominated</th>\n",
       "      <th>Oscar_Nominated</th>\n",
       "      <th>Golden_Globe_Nominated</th>\n",
       "      <th>BAFTA_Nominated</th>\n",
       "      <th>Total_Wins</th>\n",
       "      <th>Total_Nominations</th>\n",
       "    </tr>\n",
       "  </thead>\n",
       "  <tbody>\n",
       "    <tr>\n",
       "      <th>11</th>\n",
       "      <td>tt0250224</td>\n",
       "      <td>5 nominations.</td>\n",
       "      <td>0</td>\n",
       "      <td>0</td>\n",
       "      <td>0</td>\n",
       "      <td>0</td>\n",
       "      <td>0</td>\n",
       "      <td>0</td>\n",
       "      <td>0</td>\n",
       "      <td>0</td>\n",
       "      <td>0</td>\n",
       "      <td>5</td>\n",
       "    </tr>\n",
       "    <tr>\n",
       "      <th>13</th>\n",
       "      <td>tt0254099</td>\n",
       "      <td>2 wins &amp; 5 nominations.</td>\n",
       "      <td>0</td>\n",
       "      <td>0</td>\n",
       "      <td>0</td>\n",
       "      <td>0</td>\n",
       "      <td>0</td>\n",
       "      <td>0</td>\n",
       "      <td>0</td>\n",
       "      <td>0</td>\n",
       "      <td>2</td>\n",
       "      <td>5</td>\n",
       "    </tr>\n",
       "    <tr>\n",
       "      <th>15</th>\n",
       "      <td>tt0258068</td>\n",
       "      <td>Nominated for 1 Oscar. Another 13 wins &amp; 13 no...</td>\n",
       "      <td>0</td>\n",
       "      <td>0</td>\n",
       "      <td>0</td>\n",
       "      <td>0</td>\n",
       "      <td>0</td>\n",
       "      <td>1</td>\n",
       "      <td>0</td>\n",
       "      <td>0</td>\n",
       "      <td>13</td>\n",
       "      <td>14</td>\n",
       "    </tr>\n",
       "    <tr>\n",
       "      <th>24</th>\n",
       "      <td>tt0272338</td>\n",
       "      <td>Nominated for 1 Golden Globe. Another 14 wins ...</td>\n",
       "      <td>0</td>\n",
       "      <td>0</td>\n",
       "      <td>0</td>\n",
       "      <td>0</td>\n",
       "      <td>0</td>\n",
       "      <td>0</td>\n",
       "      <td>1</td>\n",
       "      <td>0</td>\n",
       "      <td>14</td>\n",
       "      <td>35</td>\n",
       "    </tr>\n",
       "  </tbody>\n",
       "</table>\n",
       "</div>"
      ],
      "text/plain": [
       "       imdbID                                             Awards Prime_Won  \\\n",
       "11  tt0250224                                     5 nominations.         0   \n",
       "13  tt0254099                            2 wins & 5 nominations.         0   \n",
       "15  tt0258068  Nominated for 1 Oscar. Another 13 wins & 13 no...         0   \n",
       "24  tt0272338  Nominated for 1 Golden Globe. Another 14 wins ...         0   \n",
       "\n",
       "   Oscar_Won Golden_Globe_Won BAFTA_Won Prime_Nominated Oscar_Nominated  \\\n",
       "11         0                0         0               0               0   \n",
       "13         0                0         0               0               0   \n",
       "15         0                0         0               0               1   \n",
       "24         0                0         0               0               0   \n",
       "\n",
       "   Golden_Globe_Nominated BAFTA_Nominated  Total_Wins  Total_Nominations  \n",
       "11                      0               0           0                  5  \n",
       "13                      0               0           2                  5  \n",
       "15                      0               0          13                 14  \n",
       "24                      1               0          14                 35  "
      ]
     },
     "execution_count": 59,
     "metadata": {},
     "output_type": "execute_result"
    }
   ],
   "source": [
    "df['Total_Nominations'] = df.apply(find_all_noms, axis=1)\n",
    "df.head(4)"
   ]
  },
  {
   "cell_type": "code",
   "execution_count": 60,
   "metadata": {
    "collapsed": true
   },
   "outputs": [],
   "source": [
    "# save to csv\n",
    "df.to_csv('output_csv/q4p1_output.csv',index=False,header=True)"
   ]
  },
  {
   "cell_type": "code",
   "execution_count": null,
   "metadata": {
    "collapsed": true
   },
   "outputs": [],
   "source": []
  }
 ],
 "metadata": {
  "anaconda-cloud": {},
  "kernelspec": {
   "display_name": "Python [default]",
   "language": "python",
   "name": "python3"
  },
  "language_info": {
   "codemirror_mode": {
    "name": "ipython",
    "version": 3
   },
   "file_extension": ".py",
   "mimetype": "text/x-python",
   "name": "python",
   "nbconvert_exporter": "python",
   "pygments_lexer": "ipython3",
   "version": "3.5.2"
  }
 },
 "nbformat": 4,
 "nbformat_minor": 1
}
