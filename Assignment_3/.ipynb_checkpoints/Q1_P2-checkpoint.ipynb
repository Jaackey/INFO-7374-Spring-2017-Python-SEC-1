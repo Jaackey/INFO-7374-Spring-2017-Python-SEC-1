{
 "cells": [
  {
   "cell_type": "markdown",
   "metadata": {},
   "source": [
    "# Question 1 Part 2\n",
    "- Use ‘vehicle_collisions’ data set\n",
    "- For each borough, find out distribution of each collision scale. (One carinvolved? Two? Three? or more?) (From 2015 to present)\n",
    "- Display a few rows of the output use df.head()\n",
    "- Generate a csv output with five columns ('borough', 'one-vehicle', 'two- vehicles', 'three-vehicles', 'more-vehicles')"
   ]
  },
  {
   "cell_type": "code",
   "execution_count": 1,
   "metadata": {
    "collapsed": true
   },
   "outputs": [],
   "source": [
    "import pandas as pd"
   ]
  },
  {
   "cell_type": "code",
   "execution_count": 12,
   "metadata": {
    "collapsed": false
   },
   "outputs": [
    {
     "data": {
      "text/html": [
       "<div>\n",
       "<table border=\"1\" class=\"dataframe\">\n",
       "  <thead>\n",
       "    <tr style=\"text-align: right;\">\n",
       "      <th></th>\n",
       "      <th>BOROUGH</th>\n",
       "      <th>VEHICLE 1 TYPE</th>\n",
       "      <th>VEHICLE 2 TYPE</th>\n",
       "      <th>VEHICLE 3 TYPE</th>\n",
       "      <th>VEHICLE 4 TYPE</th>\n",
       "    </tr>\n",
       "  </thead>\n",
       "  <tbody>\n",
       "    <tr>\n",
       "      <th>0</th>\n",
       "      <td>QUEENS</td>\n",
       "      <td>SPORT UTILITY/STATION WAGON</td>\n",
       "      <td>NaN</td>\n",
       "      <td>NaN</td>\n",
       "      <td>NaN</td>\n",
       "    </tr>\n",
       "    <tr>\n",
       "      <th>1</th>\n",
       "      <td>NaN</td>\n",
       "      <td>PASSENGER VEHICLE</td>\n",
       "      <td>NaN</td>\n",
       "      <td>NaN</td>\n",
       "      <td>NaN</td>\n",
       "    </tr>\n",
       "    <tr>\n",
       "      <th>2</th>\n",
       "      <td>BROOKLYN</td>\n",
       "      <td>PASSENGER VEHICLE</td>\n",
       "      <td>UNKNOWN</td>\n",
       "      <td>NaN</td>\n",
       "      <td>NaN</td>\n",
       "    </tr>\n",
       "    <tr>\n",
       "      <th>3</th>\n",
       "      <td>BROOKLYN</td>\n",
       "      <td>BUS</td>\n",
       "      <td>PASSENGER VEHICLE</td>\n",
       "      <td>NaN</td>\n",
       "      <td>NaN</td>\n",
       "    </tr>\n",
       "  </tbody>\n",
       "</table>\n",
       "</div>"
      ],
      "text/plain": [
       "    BOROUGH               VEHICLE 1 TYPE     VEHICLE 2 TYPE VEHICLE 3 TYPE  \\\n",
       "0    QUEENS  SPORT UTILITY/STATION WAGON                NaN            NaN   \n",
       "1       NaN            PASSENGER VEHICLE                NaN            NaN   \n",
       "2  BROOKLYN            PASSENGER VEHICLE            UNKNOWN            NaN   \n",
       "3  BROOKLYN                          BUS  PASSENGER VEHICLE            NaN   \n",
       "\n",
       "  VEHICLE 4 TYPE  \n",
       "0            NaN  \n",
       "1            NaN  \n",
       "2            NaN  \n",
       "3            NaN  "
      ]
     },
     "execution_count": 12,
     "metadata": {},
     "output_type": "execute_result"
    }
   ],
   "source": [
    "# drop unnecessary columns\n",
    "raw_df = pd.read_csv('Data/vehicle_collisions.csv')\n",
    "col_list = ['BOROUGH', 'VEHICLE 1 TYPE', 'VEHICLE 2 TYPE', 'VEHICLE 3 TYPE', 'VEHICLE 4 TYPE']\n",
    "raw_df = raw_df[col_list]\n",
    "raw_df.head(4)"
   ]
  },
  {
   "cell_type": "code",
   "execution_count": 13,
   "metadata": {
    "collapsed": false
   },
   "outputs": [
    {
     "data": {
      "text/html": [
       "<div>\n",
       "<table border=\"1\" class=\"dataframe\">\n",
       "  <thead>\n",
       "    <tr style=\"text-align: right;\">\n",
       "      <th></th>\n",
       "      <th>BOROUGH</th>\n",
       "      <th>VEHICLE 1 TYPE</th>\n",
       "      <th>VEHICLE 2 TYPE</th>\n",
       "      <th>VEHICLE 3 TYPE</th>\n",
       "      <th>VEHICLE 4 TYPE</th>\n",
       "    </tr>\n",
       "  </thead>\n",
       "  <tbody>\n",
       "    <tr>\n",
       "      <th>0</th>\n",
       "      <td>QUEENS</td>\n",
       "      <td>1</td>\n",
       "      <td>NaN</td>\n",
       "      <td>NaN</td>\n",
       "      <td>NaN</td>\n",
       "    </tr>\n",
       "    <tr>\n",
       "      <th>1</th>\n",
       "      <td>NaN</td>\n",
       "      <td>1</td>\n",
       "      <td>NaN</td>\n",
       "      <td>NaN</td>\n",
       "      <td>NaN</td>\n",
       "    </tr>\n",
       "    <tr>\n",
       "      <th>2</th>\n",
       "      <td>BROOKLYN</td>\n",
       "      <td>1</td>\n",
       "      <td>1</td>\n",
       "      <td>NaN</td>\n",
       "      <td>NaN</td>\n",
       "    </tr>\n",
       "    <tr>\n",
       "      <th>3</th>\n",
       "      <td>BROOKLYN</td>\n",
       "      <td>1</td>\n",
       "      <td>1</td>\n",
       "      <td>NaN</td>\n",
       "      <td>NaN</td>\n",
       "    </tr>\n",
       "    <tr>\n",
       "      <th>4</th>\n",
       "      <td>NaN</td>\n",
       "      <td>1</td>\n",
       "      <td>1</td>\n",
       "      <td>NaN</td>\n",
       "      <td>NaN</td>\n",
       "    </tr>\n",
       "  </tbody>\n",
       "</table>\n",
       "</div>"
      ],
      "text/plain": [
       "    BOROUGH VEHICLE 1 TYPE VEHICLE 2 TYPE VEHICLE 3 TYPE VEHICLE 4 TYPE\n",
       "0    QUEENS              1            NaN            NaN            NaN\n",
       "1       NaN              1            NaN            NaN            NaN\n",
       "2  BROOKLYN              1              1            NaN            NaN\n",
       "3  BROOKLYN              1              1            NaN            NaN\n",
       "4       NaN              1              1            NaN            NaN"
      ]
     },
     "execution_count": 13,
     "metadata": {},
     "output_type": "execute_result"
    }
   ],
   "source": [
    "# if vehicle type is not null, mark it with 1\n",
    "raw_df.loc[raw_df['VEHICLE 1 TYPE'].notnull(), 'VEHICLE 1 TYPE'] = 1\n",
    "raw_df.loc[raw_df['VEHICLE 2 TYPE'].notnull(), 'VEHICLE 2 TYPE'] = 1\n",
    "raw_df.loc[raw_df['VEHICLE 3 TYPE'].notnull(), 'VEHICLE 3 TYPE'] = 1\n",
    "raw_df.loc[raw_df['VEHICLE 4 TYPE'].notnull(), 'VEHICLE 4 TYPE'] = 1\n",
    "raw_df.head(5)"
   ]
  },
  {
   "cell_type": "code",
   "execution_count": 18,
   "metadata": {
    "collapsed": false
   },
   "outputs": [
    {
     "data": {
      "text/html": [
       "<div>\n",
       "<table border=\"1\" class=\"dataframe\">\n",
       "  <thead>\n",
       "    <tr style=\"text-align: right;\">\n",
       "      <th></th>\n",
       "      <th>BOROUGH</th>\n",
       "      <th>VEHICLE 1 TYPE</th>\n",
       "      <th>VEHICLE 2 TYPE</th>\n",
       "      <th>VEHICLE 3 TYPE</th>\n",
       "      <th>VEHICLE 4 TYPE</th>\n",
       "    </tr>\n",
       "  </thead>\n",
       "  <tbody>\n",
       "    <tr>\n",
       "      <th>0</th>\n",
       "      <td>BRONX</td>\n",
       "      <td>45599</td>\n",
       "      <td>36972</td>\n",
       "      <td>2587</td>\n",
       "      <td>625</td>\n",
       "    </tr>\n",
       "    <tr>\n",
       "      <th>1</th>\n",
       "      <td>BROOKLYN</td>\n",
       "      <td>104174</td>\n",
       "      <td>86799</td>\n",
       "      <td>6592</td>\n",
       "      <td>1612</td>\n",
       "    </tr>\n",
       "    <tr>\n",
       "      <th>2</th>\n",
       "      <td>MANHATTAN</td>\n",
       "      <td>82801</td>\n",
       "      <td>69483</td>\n",
       "      <td>2525</td>\n",
       "      <td>501</td>\n",
       "    </tr>\n",
       "    <tr>\n",
       "      <th>3</th>\n",
       "      <td>QUEENS</td>\n",
       "      <td>89140</td>\n",
       "      <td>76178</td>\n",
       "      <td>5918</td>\n",
       "      <td>1420</td>\n",
       "    </tr>\n",
       "    <tr>\n",
       "      <th>4</th>\n",
       "      <td>STATEN ISLAND</td>\n",
       "      <td>13943</td>\n",
       "      <td>11600</td>\n",
       "      <td>924</td>\n",
       "      <td>165</td>\n",
       "    </tr>\n",
       "  </tbody>\n",
       "</table>\n",
       "</div>"
      ],
      "text/plain": [
       "         BOROUGH  VEHICLE 1 TYPE  VEHICLE 2 TYPE  VEHICLE 3 TYPE  \\\n",
       "0          BRONX           45599           36972            2587   \n",
       "1       BROOKLYN          104174           86799            6592   \n",
       "2      MANHATTAN           82801           69483            2525   \n",
       "3         QUEENS           89140           76178            5918   \n",
       "4  STATEN ISLAND           13943           11600             924   \n",
       "\n",
       "   VEHICLE 4 TYPE  \n",
       "0             625  \n",
       "1            1612  \n",
       "2             501  \n",
       "3            1420  \n",
       "4             165  "
      ]
     },
     "execution_count": 18,
     "metadata": {},
     "output_type": "execute_result"
    }
   ],
   "source": [
    "# sum up the vehicle types, the numbers indicate how many 'vehicle X type' is not null\n",
    "gr = raw_df.groupby('BOROUGH', as_index=False)\n",
    "sum_gr = gr.sum()\n",
    "sum_gr"
   ]
  },
  {
   "cell_type": "code",
   "execution_count": 19,
   "metadata": {
    "collapsed": false
   },
   "outputs": [
    {
     "data": {
      "text/html": [
       "<div>\n",
       "<table border=\"1\" class=\"dataframe\">\n",
       "  <thead>\n",
       "    <tr style=\"text-align: right;\">\n",
       "      <th></th>\n",
       "      <th>BOROUGH</th>\n",
       "      <th>VEHICLE 1 TYPE</th>\n",
       "      <th>VEHICLE 2 TYPE</th>\n",
       "      <th>VEHICLE 3 TYPE</th>\n",
       "      <th>VEHICLE 4 TYPE</th>\n",
       "      <th>ONE_VEHICLE_INVOLVED</th>\n",
       "      <th>TWO_VEHICLE_INVOLVED</th>\n",
       "      <th>THREE_VEHICLE_INVOLVED</th>\n",
       "      <th>MORE_VEHICLE_INVOLVED</th>\n",
       "    </tr>\n",
       "  </thead>\n",
       "  <tbody>\n",
       "    <tr>\n",
       "      <th>0</th>\n",
       "      <td>BRONX</td>\n",
       "      <td>45599</td>\n",
       "      <td>36972</td>\n",
       "      <td>2587</td>\n",
       "      <td>625</td>\n",
       "      <td>5415</td>\n",
       "      <td>33760</td>\n",
       "      <td>1962</td>\n",
       "      <td>625</td>\n",
       "    </tr>\n",
       "    <tr>\n",
       "      <th>1</th>\n",
       "      <td>BROOKLYN</td>\n",
       "      <td>104174</td>\n",
       "      <td>86799</td>\n",
       "      <td>6592</td>\n",
       "      <td>1612</td>\n",
       "      <td>9171</td>\n",
       "      <td>78595</td>\n",
       "      <td>4980</td>\n",
       "      <td>1612</td>\n",
       "    </tr>\n",
       "    <tr>\n",
       "      <th>2</th>\n",
       "      <td>MANHATTAN</td>\n",
       "      <td>82801</td>\n",
       "      <td>69483</td>\n",
       "      <td>2525</td>\n",
       "      <td>501</td>\n",
       "      <td>10292</td>\n",
       "      <td>66457</td>\n",
       "      <td>2024</td>\n",
       "      <td>501</td>\n",
       "    </tr>\n",
       "    <tr>\n",
       "      <th>3</th>\n",
       "      <td>QUEENS</td>\n",
       "      <td>89140</td>\n",
       "      <td>76178</td>\n",
       "      <td>5918</td>\n",
       "      <td>1420</td>\n",
       "      <td>5624</td>\n",
       "      <td>68840</td>\n",
       "      <td>4498</td>\n",
       "      <td>1420</td>\n",
       "    </tr>\n",
       "    <tr>\n",
       "      <th>4</th>\n",
       "      <td>STATEN ISLAND</td>\n",
       "      <td>13943</td>\n",
       "      <td>11600</td>\n",
       "      <td>924</td>\n",
       "      <td>165</td>\n",
       "      <td>1254</td>\n",
       "      <td>10511</td>\n",
       "      <td>759</td>\n",
       "      <td>165</td>\n",
       "    </tr>\n",
       "  </tbody>\n",
       "</table>\n",
       "</div>"
      ],
      "text/plain": [
       "         BOROUGH  VEHICLE 1 TYPE  VEHICLE 2 TYPE  VEHICLE 3 TYPE  \\\n",
       "0          BRONX           45599           36972            2587   \n",
       "1       BROOKLYN          104174           86799            6592   \n",
       "2      MANHATTAN           82801           69483            2525   \n",
       "3         QUEENS           89140           76178            5918   \n",
       "4  STATEN ISLAND           13943           11600             924   \n",
       "\n",
       "   VEHICLE 4 TYPE  ONE_VEHICLE_INVOLVED  TWO_VEHICLE_INVOLVED  \\\n",
       "0             625                  5415                 33760   \n",
       "1            1612                  9171                 78595   \n",
       "2             501                 10292                 66457   \n",
       "3            1420                  5624                 68840   \n",
       "4             165                  1254                 10511   \n",
       "\n",
       "   THREE_VEHICLE_INVOLVED  MORE_VEHICLE_INVOLVED  \n",
       "0                    1962                    625  \n",
       "1                    4980                   1612  \n",
       "2                    2024                    501  \n",
       "3                    4498                   1420  \n",
       "4                     759                    165  "
      ]
     },
     "execution_count": 19,
     "metadata": {},
     "output_type": "execute_result"
    }
   ],
   "source": [
    "# calculate the needed values\n",
    "sum_gr['ONE_VEHICLE_INVOLVED'] = sum_gr['VEHICLE 1 TYPE'] - sum_gr['VEHICLE 2 TYPE'] - sum_gr['VEHICLE 3 TYPE'] - sum_gr['VEHICLE 4 TYPE']\n",
    "sum_gr['TWO_VEHICLE_INVOLVED'] = sum_gr['VEHICLE 2 TYPE'] - sum_gr['VEHICLE 3 TYPE'] - sum_gr['VEHICLE 4 TYPE']\n",
    "sum_gr['THREE_VEHICLE_INVOLVED'] = sum_gr['VEHICLE 3 TYPE'] - sum_gr['VEHICLE 4 TYPE']\n",
    "sum_gr['MORE_VEHICLE_INVOLVED'] = sum_gr['VEHICLE 4 TYPE']\n",
    "sum_gr"
   ]
  },
  {
   "cell_type": "code",
   "execution_count": 20,
   "metadata": {
    "collapsed": false
   },
   "outputs": [
    {
     "data": {
      "text/html": [
       "<div>\n",
       "<table border=\"1\" class=\"dataframe\">\n",
       "  <thead>\n",
       "    <tr style=\"text-align: right;\">\n",
       "      <th></th>\n",
       "      <th>BOROUGH</th>\n",
       "      <th>ONE_VEHICLE_INVOLVED</th>\n",
       "      <th>TWO_VEHICLE_INVOLVED</th>\n",
       "      <th>THREE_VEHICLE_INVOLVED</th>\n",
       "      <th>MORE_VEHICLE_INVOLVED</th>\n",
       "    </tr>\n",
       "  </thead>\n",
       "  <tbody>\n",
       "    <tr>\n",
       "      <th>0</th>\n",
       "      <td>BRONX</td>\n",
       "      <td>5415</td>\n",
       "      <td>33760</td>\n",
       "      <td>1962</td>\n",
       "      <td>625</td>\n",
       "    </tr>\n",
       "    <tr>\n",
       "      <th>1</th>\n",
       "      <td>BROOKLYN</td>\n",
       "      <td>9171</td>\n",
       "      <td>78595</td>\n",
       "      <td>4980</td>\n",
       "      <td>1612</td>\n",
       "    </tr>\n",
       "    <tr>\n",
       "      <th>2</th>\n",
       "      <td>MANHATTAN</td>\n",
       "      <td>10292</td>\n",
       "      <td>66457</td>\n",
       "      <td>2024</td>\n",
       "      <td>501</td>\n",
       "    </tr>\n",
       "    <tr>\n",
       "      <th>3</th>\n",
       "      <td>QUEENS</td>\n",
       "      <td>5624</td>\n",
       "      <td>68840</td>\n",
       "      <td>4498</td>\n",
       "      <td>1420</td>\n",
       "    </tr>\n",
       "    <tr>\n",
       "      <th>4</th>\n",
       "      <td>STATEN ISLAND</td>\n",
       "      <td>1254</td>\n",
       "      <td>10511</td>\n",
       "      <td>759</td>\n",
       "      <td>165</td>\n",
       "    </tr>\n",
       "  </tbody>\n",
       "</table>\n",
       "</div>"
      ],
      "text/plain": [
       "         BOROUGH  ONE_VEHICLE_INVOLVED  TWO_VEHICLE_INVOLVED  \\\n",
       "0          BRONX                  5415                 33760   \n",
       "1       BROOKLYN                  9171                 78595   \n",
       "2      MANHATTAN                 10292                 66457   \n",
       "3         QUEENS                  5624                 68840   \n",
       "4  STATEN ISLAND                  1254                 10511   \n",
       "\n",
       "   THREE_VEHICLE_INVOLVED  MORE_VEHICLE_INVOLVED  \n",
       "0                    1962                    625  \n",
       "1                    4980                   1612  \n",
       "2                    2024                    501  \n",
       "3                    4498                   1420  \n",
       "4                     759                    165  "
      ]
     },
     "execution_count": 20,
     "metadata": {},
     "output_type": "execute_result"
    }
   ],
   "source": [
    "# drop unnecessary columns\n",
    "col_list = ['BOROUGH', 'ONE_VEHICLE_INVOLVED', 'TWO_VEHICLE_INVOLVED', 'THREE_VEHICLE_INVOLVED', 'MORE_VEHICLE_INVOLVED']\n",
    "out_df = sum_gr[col_list]\n",
    "out_df"
   ]
  },
  {
   "cell_type": "code",
   "execution_count": 21,
   "metadata": {
    "collapsed": true
   },
   "outputs": [],
   "source": [
    "# save to csv\n",
    "out_df.to_csv('output_csv/q1p2_output.csv',index=False,header=True)"
   ]
  },
  {
   "cell_type": "code",
   "execution_count": null,
   "metadata": {
    "collapsed": true
   },
   "outputs": [],
   "source": []
  }
 ],
 "metadata": {
  "anaconda-cloud": {},
  "kernelspec": {
   "display_name": "Python [default]",
   "language": "python",
   "name": "python3"
  },
  "language_info": {
   "codemirror_mode": {
    "name": "ipython",
    "version": 3
   },
   "file_extension": ".py",
   "mimetype": "text/x-python",
   "name": "python",
   "nbconvert_exporter": "python",
   "pygments_lexer": "ipython3",
   "version": "3.5.2"
  }
 },
 "nbformat": 4,
 "nbformat_minor": 1
}
