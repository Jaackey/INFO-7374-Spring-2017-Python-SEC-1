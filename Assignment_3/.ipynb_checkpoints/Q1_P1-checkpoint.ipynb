{
 "cells": [
  {
   "cell_type": "markdown",
   "metadata": {},
   "source": [
    "# Question 1 Part 1\n",
    "- Use ‘vehicle_collisions’ data set\n",
    "- For each month in 2016, find out the percentage of collisions in Manhattan out of that year's total accidents in New York City\n",
    "- Display a few rows of the output use df.head()\n",
    "- Generate a csv output with four columns (‘Month’, ‘Manhattan’, ‘NYC’, ‘Percentage’)"
   ]
  },
  {
   "cell_type": "code",
   "execution_count": 46,
   "metadata": {
    "collapsed": true
   },
   "outputs": [],
   "source": [
    "import pandas as pd"
   ]
  },
  {
   "cell_type": "code",
   "execution_count": 47,
   "metadata": {
    "collapsed": false
   },
   "outputs": [
    {
     "data": {
      "text/plain": [
       "BROOKLYN         104961\n",
       "QUEENS            89655\n",
       "MANHATTAN         83602\n",
       "BRONX             46124\n",
       "STATEN ISLAND     14048\n",
       "Name: BOROUGH, dtype: int64"
      ]
     },
     "execution_count": 47,
     "metadata": {},
     "output_type": "execute_result"
    }
   ],
   "source": [
    "# import csv file to Dataframe\n",
    "# check how many rows are there for each district (not necessarily)\n",
    "df = pd.read_csv('Data/vehicle_collisions.csv')\n",
    "borough_count = df['BOROUGH'].value_counts()\n",
    "borough_count"
   ]
  },
  {
   "cell_type": "code",
   "execution_count": 48,
   "metadata": {
    "collapsed": false
   },
   "outputs": [
    {
     "data": {
      "text/html": [
       "<div>\n",
       "<table border=\"1\" class=\"dataframe\">\n",
       "  <thead>\n",
       "    <tr style=\"text-align: right;\">\n",
       "      <th></th>\n",
       "      <th>UNIQUE KEY</th>\n",
       "      <th>DATE</th>\n",
       "      <th>TIME</th>\n",
       "      <th>BOROUGH</th>\n",
       "      <th>ZIP CODE</th>\n",
       "      <th>LATITUDE</th>\n",
       "      <th>LONGITUDE</th>\n",
       "      <th>LOCATION</th>\n",
       "      <th>ON STREET NAME</th>\n",
       "      <th>CROSS STREET NAME</th>\n",
       "      <th>...</th>\n",
       "      <th>VEHICLE 1 TYPE</th>\n",
       "      <th>VEHICLE 2 TYPE</th>\n",
       "      <th>VEHICLE 3 TYPE</th>\n",
       "      <th>VEHICLE 4 TYPE</th>\n",
       "      <th>VEHICLE 5 TYPE</th>\n",
       "      <th>VEHICLE 1 FACTOR</th>\n",
       "      <th>VEHICLE 2 FACTOR</th>\n",
       "      <th>VEHICLE 3 FACTOR</th>\n",
       "      <th>VEHICLE 4 FACTOR</th>\n",
       "      <th>VEHICLE 5 FACTOR</th>\n",
       "    </tr>\n",
       "  </thead>\n",
       "  <tbody>\n",
       "    <tr>\n",
       "      <th>217539</th>\n",
       "      <td>3374565</td>\n",
       "      <td>1/1/16</td>\n",
       "      <td>0:01</td>\n",
       "      <td>MANHATTAN</td>\n",
       "      <td>10022.0</td>\n",
       "      <td>40.760223</td>\n",
       "      <td>-73.967462</td>\n",
       "      <td>(40.7602226, -73.967462)</td>\n",
       "      <td>EAST 57 STREET</td>\n",
       "      <td>3 AVENUE</td>\n",
       "      <td>...</td>\n",
       "      <td>PASSENGER VEHICLE</td>\n",
       "      <td>PASSENGER VEHICLE</td>\n",
       "      <td>NaN</td>\n",
       "      <td>NaN</td>\n",
       "      <td>NaN</td>\n",
       "      <td>OTHER VEHICULAR</td>\n",
       "      <td>OTHER VEHICULAR</td>\n",
       "      <td>NaN</td>\n",
       "      <td>NaN</td>\n",
       "      <td>NaN</td>\n",
       "    </tr>\n",
       "    <tr>\n",
       "      <th>217540</th>\n",
       "      <td>3511927</td>\n",
       "      <td>1/1/16</td>\n",
       "      <td>0:01</td>\n",
       "      <td>BROOKLYN</td>\n",
       "      <td>11235.0</td>\n",
       "      <td>NaN</td>\n",
       "      <td>NaN</td>\n",
       "      <td>NaN</td>\n",
       "      <td>EMMONS AVENUE</td>\n",
       "      <td>OCEAN AVENUE</td>\n",
       "      <td>...</td>\n",
       "      <td>PASSENGER VEHICLE</td>\n",
       "      <td>BICYCLE</td>\n",
       "      <td>NaN</td>\n",
       "      <td>NaN</td>\n",
       "      <td>NaN</td>\n",
       "      <td>UNSPECIFIED</td>\n",
       "      <td>UNSPECIFIED</td>\n",
       "      <td>NaN</td>\n",
       "      <td>NaN</td>\n",
       "      <td>NaN</td>\n",
       "    </tr>\n",
       "    <tr>\n",
       "      <th>217541</th>\n",
       "      <td>3363408</td>\n",
       "      <td>1/1/16</td>\n",
       "      <td>0:01</td>\n",
       "      <td>MANHATTAN</td>\n",
       "      <td>10035.0</td>\n",
       "      <td>40.805057</td>\n",
       "      <td>-73.939034</td>\n",
       "      <td>(40.8050573, -73.9390342)</td>\n",
       "      <td>EAST 125 STREET</td>\n",
       "      <td>PARK AVENUE</td>\n",
       "      <td>...</td>\n",
       "      <td>PASSENGER VEHICLE</td>\n",
       "      <td>NaN</td>\n",
       "      <td>NaN</td>\n",
       "      <td>NaN</td>\n",
       "      <td>NaN</td>\n",
       "      <td>UNSPECIFIED</td>\n",
       "      <td>NaN</td>\n",
       "      <td>NaN</td>\n",
       "      <td>NaN</td>\n",
       "      <td>NaN</td>\n",
       "    </tr>\n",
       "  </tbody>\n",
       "</table>\n",
       "<p>3 rows × 29 columns</p>\n",
       "</div>"
      ],
      "text/plain": [
       "        UNIQUE KEY    DATE  TIME    BOROUGH  ZIP CODE   LATITUDE  LONGITUDE  \\\n",
       "217539     3374565  1/1/16  0:01  MANHATTAN   10022.0  40.760223 -73.967462   \n",
       "217540     3511927  1/1/16  0:01   BROOKLYN   11235.0        NaN        NaN   \n",
       "217541     3363408  1/1/16  0:01  MANHATTAN   10035.0  40.805057 -73.939034   \n",
       "\n",
       "                         LOCATION   ON STREET NAME CROSS STREET NAME  \\\n",
       "217539   (40.7602226, -73.967462)   EAST 57 STREET          3 AVENUE   \n",
       "217540                        NaN    EMMONS AVENUE      OCEAN AVENUE   \n",
       "217541  (40.8050573, -73.9390342)  EAST 125 STREET       PARK AVENUE   \n",
       "\n",
       "             ...            VEHICLE 1 TYPE     VEHICLE 2 TYPE  VEHICLE 3 TYPE  \\\n",
       "217539       ...         PASSENGER VEHICLE  PASSENGER VEHICLE             NaN   \n",
       "217540       ...         PASSENGER VEHICLE            BICYCLE             NaN   \n",
       "217541       ...         PASSENGER VEHICLE                NaN             NaN   \n",
       "\n",
       "        VEHICLE 4 TYPE  VEHICLE 5 TYPE  VEHICLE 1 FACTOR  VEHICLE 2 FACTOR  \\\n",
       "217539             NaN             NaN   OTHER VEHICULAR   OTHER VEHICULAR   \n",
       "217540             NaN             NaN       UNSPECIFIED       UNSPECIFIED   \n",
       "217541             NaN             NaN       UNSPECIFIED               NaN   \n",
       "\n",
       "        VEHICLE 3 FACTOR  VEHICLE 4 FACTOR VEHICLE 5 FACTOR  \n",
       "217539               NaN               NaN              NaN  \n",
       "217540               NaN               NaN              NaN  \n",
       "217541               NaN               NaN              NaN  \n",
       "\n",
       "[3 rows x 29 columns]"
      ]
     },
     "execution_count": 48,
     "metadata": {},
     "output_type": "execute_result"
    }
   ],
   "source": [
    "# get rows of year 2016\n",
    "df = df[df.apply(lambda x: x['DATE'].split('/')[2] == '16', axis=1)]\n",
    "df.head(3)"
   ]
  },
  {
   "cell_type": "code",
   "execution_count": 49,
   "metadata": {
    "collapsed": false
   },
   "outputs": [
    {
     "data": {
      "text/plain": [
       "5     20052\n",
       "7     19867\n",
       "8     19678\n",
       "10    19666\n",
       "9     19492\n",
       "6     19433\n",
       "11    19315\n",
       "12    19214\n",
       "3     18471\n",
       "4     18331\n",
       "1     18101\n",
       "2     15985\n",
       "Name: DATE, dtype: int64"
      ]
     },
     "execution_count": 49,
     "metadata": {},
     "output_type": "execute_result"
    }
   ],
   "source": [
    "# count totals in each month in whole NYC\n",
    "total_count = df['DATE'].apply(lambda x: x.split('/')[0]).value_counts()\n",
    "total_count"
   ]
  },
  {
   "cell_type": "code",
   "execution_count": 50,
   "metadata": {
    "collapsed": false
   },
   "outputs": [
    {
     "data": {
      "text/plain": [
       "4     3540\n",
       "3     3479\n",
       "5     3432\n",
       "2     3195\n",
       "1     3178\n",
       "7     3055\n",
       "6     2956\n",
       "8     2844\n",
       "11    2838\n",
       "10    2831\n",
       "9     2744\n",
       "12    2634\n",
       "Name: DATE, dtype: int64"
      ]
     },
     "execution_count": 50,
     "metadata": {},
     "output_type": "execute_result"
    }
   ],
   "source": [
    "# count numbers in each month in Manhattan\n",
    "df_man = df[df.apply(lambda x: x['BOROUGH'] == 'MANHATTAN', axis=1)]\n",
    "man_count = df_man['DATE'].apply(lambda x: x.split('/')[0]).value_counts()\n",
    "man_count"
   ]
  },
  {
   "cell_type": "code",
   "execution_count": 51,
   "metadata": {
    "collapsed": false
   },
   "outputs": [
    {
     "data": {
      "text/html": [
       "<div>\n",
       "<table border=\"1\" class=\"dataframe\">\n",
       "  <thead>\n",
       "    <tr style=\"text-align: right;\">\n",
       "      <th></th>\n",
       "      <th>MANHATTAN</th>\n",
       "      <th>NYC</th>\n",
       "    </tr>\n",
       "  </thead>\n",
       "  <tbody>\n",
       "    <tr>\n",
       "      <th>1</th>\n",
       "      <td>3178</td>\n",
       "      <td>18101</td>\n",
       "    </tr>\n",
       "    <tr>\n",
       "      <th>2</th>\n",
       "      <td>3195</td>\n",
       "      <td>15985</td>\n",
       "    </tr>\n",
       "    <tr>\n",
       "      <th>3</th>\n",
       "      <td>3479</td>\n",
       "      <td>18471</td>\n",
       "    </tr>\n",
       "  </tbody>\n",
       "</table>\n",
       "</div>"
      ],
      "text/plain": [
       "   MANHATTAN    NYC\n",
       "1       3178  18101\n",
       "2       3195  15985\n",
       "3       3479  18471"
      ]
     },
     "execution_count": 51,
     "metadata": {},
     "output_type": "execute_result"
    }
   ],
   "source": [
    "# join two series to Dataframe\n",
    "output_df = pd.concat([man_count, total_count], axis=1)\n",
    "# name the columns\n",
    "output_df.columns = ['MANHATTAN', 'NYC']\n",
    "# change indices(months) to int\n",
    "output_df.index = output_df.index.map(int)\n",
    "# sort by index (from Jan to Dec)\n",
    "output_df.sort_index(inplace=True)\n",
    "output_df.head(3)"
   ]
  },
  {
   "cell_type": "code",
   "execution_count": 66,
   "metadata": {
    "collapsed": false
   },
   "outputs": [
    {
     "data": {
      "text/html": [
       "<div>\n",
       "<table border=\"1\" class=\"dataframe\">\n",
       "  <thead>\n",
       "    <tr style=\"text-align: right;\">\n",
       "      <th>MONTH</th>\n",
       "      <th>MANHATTAN</th>\n",
       "      <th>NYC</th>\n",
       "    </tr>\n",
       "  </thead>\n",
       "  <tbody>\n",
       "    <tr>\n",
       "      <th>11</th>\n",
       "      <td>2634</td>\n",
       "      <td>19214</td>\n",
       "    </tr>\n",
       "    <tr>\n",
       "      <th>12</th>\n",
       "      <td>36726</td>\n",
       "      <td>227605</td>\n",
       "    </tr>\n",
       "  </tbody>\n",
       "</table>\n",
       "</div>"
      ],
      "text/plain": [
       "MONTH  MANHATTAN     NYC\n",
       "11          2634   19214\n",
       "12         36726  227605"
      ]
     },
     "execution_count": 66,
     "metadata": {},
     "output_type": "execute_result"
    }
   ],
   "source": [
    "# sum up and get total in the last row\n",
    "output_df2 = output_df.append(output_df.sum(numeric_only=True), ignore_index=True)\n",
    "# name the index column\n",
    "output_df2.columns.name = 'MONTH'\n",
    "output_df2.tail(2)\n",
    "# row with index = 12 is the total of collisions in whole year"
   ]
  },
  {
   "cell_type": "code",
   "execution_count": 67,
   "metadata": {
    "collapsed": false
   },
   "outputs": [
    {
     "data": {
      "text/html": [
       "<div>\n",
       "<table border=\"1\" class=\"dataframe\">\n",
       "  <thead>\n",
       "    <tr style=\"text-align: right;\">\n",
       "      <th>MONTH</th>\n",
       "      <th>MANHATTAN</th>\n",
       "      <th>NYC</th>\n",
       "      <th>PERCENTAGE</th>\n",
       "    </tr>\n",
       "  </thead>\n",
       "  <tbody>\n",
       "    <tr>\n",
       "      <th>Nov</th>\n",
       "      <td>2838</td>\n",
       "      <td>19315</td>\n",
       "      <td>0.146932</td>\n",
       "    </tr>\n",
       "    <tr>\n",
       "      <th>Dec</th>\n",
       "      <td>2634</td>\n",
       "      <td>19214</td>\n",
       "      <td>0.137088</td>\n",
       "    </tr>\n",
       "    <tr>\n",
       "      <th>Total</th>\n",
       "      <td>36726</td>\n",
       "      <td>227605</td>\n",
       "      <td>0.161358</td>\n",
       "    </tr>\n",
       "  </tbody>\n",
       "</table>\n",
       "</div>"
      ],
      "text/plain": [
       "MONTH  MANHATTAN     NYC  PERCENTAGE\n",
       "Nov         2838   19315    0.146932\n",
       "Dec         2634   19214    0.137088\n",
       "Total      36726  227605    0.161358"
      ]
     },
     "execution_count": 67,
     "metadata": {},
     "output_type": "execute_result"
    }
   ],
   "source": [
    "# calculate percentage\n",
    "output_df2['PERCENTAGE'] = output_df2['MANHATTAN']/output_df2['NYC']\n",
    "# rename indices as months\n",
    "output_df3 = output_df2.rename(index={0: 'Jan', 1: 'Feb', 2: 'Mar', 3: 'Apr', 4: 'May', 5: 'Jun', 6: 'Jul', 7: 'Aug', 8: 'Sep', 9: 'Oct', 10: 'Nov', 11: 'Dec', 12: 'Total'})\n",
    "output_df3.tail(3)"
   ]
  },
  {
   "cell_type": "code",
   "execution_count": 68,
   "metadata": {
    "collapsed": false
   },
   "outputs": [],
   "source": [
    "# save to csv\n",
    "output_df3.to_csv('output_csv/q1p1_output.csv',index=True,header=True,index_label='MONTH')"
   ]
  },
  {
   "cell_type": "code",
   "execution_count": null,
   "metadata": {
    "collapsed": true
   },
   "outputs": [],
   "source": []
  }
 ],
 "metadata": {
  "anaconda-cloud": {},
  "kernelspec": {
   "display_name": "Python [default]",
   "language": "python",
   "name": "python3"
  },
  "language_info": {
   "codemirror_mode": {
    "name": "ipython",
    "version": 3
   },
   "file_extension": ".py",
   "mimetype": "text/x-python",
   "name": "python",
   "nbconvert_exporter": "python",
   "pygments_lexer": "ipython3",
   "version": "3.5.2"
  }
 },
 "nbformat": 4,
 "nbformat_minor": 1
}
