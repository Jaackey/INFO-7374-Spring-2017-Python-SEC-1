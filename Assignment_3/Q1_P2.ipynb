{
 "cells": [
  {
   "cell_type": "markdown",
   "metadata": {},
   "source": [
    "# Question 1 Part 2\n",
    "- Use ‘vehicle_collisions’ data set\n",
    "- For each borough, find out distribution of each collision scale. (One carinvolved? Two? Three? or more?) (From 2015 to present)\n",
    "- Display a few rows of the output use df.head()\n",
    "- Generate a csv output with five columns ('borough', 'one-vehicle', 'two- vehicles', 'three-vehicles', 'more-vehicles')"
   ]
  },
  {
   "cell_type": "code",
   "execution_count": 30,
   "metadata": {
    "collapsed": true
   },
   "outputs": [],
   "source": [
    "import pandas as pd"
   ]
  },
  {
   "cell_type": "code",
   "execution_count": 43,
   "metadata": {
    "collapsed": false
   },
   "outputs": [
    {
     "data": {
      "text/html": [
       "<div>\n",
       "<table border=\"1\" class=\"dataframe\">\n",
       "  <thead>\n",
       "    <tr style=\"text-align: right;\">\n",
       "      <th></th>\n",
       "      <th>BOROUGH</th>\n",
       "      <th>VEHICLE 1 TYPE</th>\n",
       "      <th>VEHICLE 2 TYPE</th>\n",
       "      <th>VEHICLE 3 TYPE</th>\n",
       "      <th>VEHICLE 4 TYPE</th>\n",
       "    </tr>\n",
       "  </thead>\n",
       "  <tbody>\n",
       "    <tr>\n",
       "      <th>0</th>\n",
       "      <td>QUEENS</td>\n",
       "      <td>SPORT UTILITY/STATION WAGON</td>\n",
       "      <td>NaN</td>\n",
       "      <td>NaN</td>\n",
       "      <td>NaN</td>\n",
       "    </tr>\n",
       "    <tr>\n",
       "      <th>1</th>\n",
       "      <td>NaN</td>\n",
       "      <td>PASSENGER VEHICLE</td>\n",
       "      <td>NaN</td>\n",
       "      <td>NaN</td>\n",
       "      <td>NaN</td>\n",
       "    </tr>\n",
       "    <tr>\n",
       "      <th>2</th>\n",
       "      <td>BROOKLYN</td>\n",
       "      <td>PASSENGER VEHICLE</td>\n",
       "      <td>UNKNOWN</td>\n",
       "      <td>NaN</td>\n",
       "      <td>NaN</td>\n",
       "    </tr>\n",
       "    <tr>\n",
       "      <th>3</th>\n",
       "      <td>BROOKLYN</td>\n",
       "      <td>BUS</td>\n",
       "      <td>PASSENGER VEHICLE</td>\n",
       "      <td>NaN</td>\n",
       "      <td>NaN</td>\n",
       "    </tr>\n",
       "  </tbody>\n",
       "</table>\n",
       "</div>"
      ],
      "text/plain": [
       "    BOROUGH               VEHICLE 1 TYPE     VEHICLE 2 TYPE VEHICLE 3 TYPE  \\\n",
       "0    QUEENS  SPORT UTILITY/STATION WAGON                NaN            NaN   \n",
       "1       NaN            PASSENGER VEHICLE                NaN            NaN   \n",
       "2  BROOKLYN            PASSENGER VEHICLE            UNKNOWN            NaN   \n",
       "3  BROOKLYN                          BUS  PASSENGER VEHICLE            NaN   \n",
       "\n",
       "  VEHICLE 4 TYPE  \n",
       "0            NaN  \n",
       "1            NaN  \n",
       "2            NaN  \n",
       "3            NaN  "
      ]
     },
     "execution_count": 43,
     "metadata": {},
     "output_type": "execute_result"
    }
   ],
   "source": [
    "# drop unnecessary columns\n",
    "raw_df = pd.read_csv('Data/vehicle_collisions.csv')\n",
    "col_list = ['BOROUGH', 'VEHICLE 1 TYPE', 'VEHICLE 2 TYPE', 'VEHICLE 3 TYPE', 'VEHICLE 4 TYPE']\n",
    "raw_df = raw_df[col_list]\n",
    "raw_df.head(4)"
   ]
  },
  {
   "cell_type": "code",
   "execution_count": 44,
   "metadata": {
    "collapsed": false
   },
   "outputs": [
    {
     "data": {
      "text/html": [
       "<div>\n",
       "<table border=\"1\" class=\"dataframe\">\n",
       "  <thead>\n",
       "    <tr style=\"text-align: right;\">\n",
       "      <th></th>\n",
       "      <th>BOROUGH</th>\n",
       "      <th>VEHICLE 1 TYPE</th>\n",
       "      <th>VEHICLE 2 TYPE</th>\n",
       "      <th>VEHICLE 3 TYPE</th>\n",
       "      <th>VEHICLE 4 TYPE</th>\n",
       "      <th>COUNT_VEHICLE</th>\n",
       "    </tr>\n",
       "  </thead>\n",
       "  <tbody>\n",
       "    <tr>\n",
       "      <th>0</th>\n",
       "      <td>QUEENS</td>\n",
       "      <td>SPORT UTILITY/STATION WAGON</td>\n",
       "      <td>NaN</td>\n",
       "      <td>NaN</td>\n",
       "      <td>NaN</td>\n",
       "      <td>1</td>\n",
       "    </tr>\n",
       "    <tr>\n",
       "      <th>1</th>\n",
       "      <td>NaN</td>\n",
       "      <td>PASSENGER VEHICLE</td>\n",
       "      <td>NaN</td>\n",
       "      <td>NaN</td>\n",
       "      <td>NaN</td>\n",
       "      <td>0</td>\n",
       "    </tr>\n",
       "    <tr>\n",
       "      <th>2</th>\n",
       "      <td>BROOKLYN</td>\n",
       "      <td>PASSENGER VEHICLE</td>\n",
       "      <td>UNKNOWN</td>\n",
       "      <td>NaN</td>\n",
       "      <td>NaN</td>\n",
       "      <td>2</td>\n",
       "    </tr>\n",
       "    <tr>\n",
       "      <th>3</th>\n",
       "      <td>BROOKLYN</td>\n",
       "      <td>BUS</td>\n",
       "      <td>PASSENGER VEHICLE</td>\n",
       "      <td>NaN</td>\n",
       "      <td>NaN</td>\n",
       "      <td>2</td>\n",
       "    </tr>\n",
       "  </tbody>\n",
       "</table>\n",
       "</div>"
      ],
      "text/plain": [
       "    BOROUGH               VEHICLE 1 TYPE     VEHICLE 2 TYPE VEHICLE 3 TYPE  \\\n",
       "0    QUEENS  SPORT UTILITY/STATION WAGON                NaN            NaN   \n",
       "1       NaN            PASSENGER VEHICLE                NaN            NaN   \n",
       "2  BROOKLYN            PASSENGER VEHICLE            UNKNOWN            NaN   \n",
       "3  BROOKLYN                          BUS  PASSENGER VEHICLE            NaN   \n",
       "\n",
       "  VEHICLE 4 TYPE  COUNT_VEHICLE  \n",
       "0            NaN              1  \n",
       "1            NaN              0  \n",
       "2            NaN              2  \n",
       "3            NaN              2  "
      ]
     },
     "execution_count": 44,
     "metadata": {},
     "output_type": "execute_result"
    }
   ],
   "source": [
    "# count how many vehicle types not null for each row\n",
    "raw_df['COUNT_VEHICLE'] = raw_df.count(axis=1) - 1\n",
    "raw_df.head(4)"
   ]
  },
  {
   "cell_type": "code",
   "execution_count": 45,
   "metadata": {
    "collapsed": false
   },
   "outputs": [
    {
     "data": {
      "text/html": [
       "<div>\n",
       "<table border=\"1\" class=\"dataframe\">\n",
       "  <thead>\n",
       "    <tr style=\"text-align: right;\">\n",
       "      <th></th>\n",
       "      <th>BOROUGH</th>\n",
       "      <th>COUNT_VEHICLE</th>\n",
       "    </tr>\n",
       "  </thead>\n",
       "  <tbody>\n",
       "    <tr>\n",
       "      <th>0</th>\n",
       "      <td>QUEENS</td>\n",
       "      <td>1</td>\n",
       "    </tr>\n",
       "    <tr>\n",
       "      <th>1</th>\n",
       "      <td>NaN</td>\n",
       "      <td>0</td>\n",
       "    </tr>\n",
       "    <tr>\n",
       "      <th>2</th>\n",
       "      <td>BROOKLYN</td>\n",
       "      <td>2</td>\n",
       "    </tr>\n",
       "    <tr>\n",
       "      <th>3</th>\n",
       "      <td>BROOKLYN</td>\n",
       "      <td>2</td>\n",
       "    </tr>\n",
       "  </tbody>\n",
       "</table>\n",
       "</div>"
      ],
      "text/plain": [
       "    BOROUGH  COUNT_VEHICLE\n",
       "0    QUEENS              1\n",
       "1       NaN              0\n",
       "2  BROOKLYN              2\n",
       "3  BROOKLYN              2"
      ]
     },
     "execution_count": 45,
     "metadata": {},
     "output_type": "execute_result"
    }
   ],
   "source": [
    "# drop unnecessary columns\n",
    "col_list = ['BOROUGH', 'COUNT_VEHICLE']\n",
    "raw_df = raw_df[col_list]\n",
    "raw_df.head(4)"
   ]
  },
  {
   "cell_type": "code",
   "execution_count": 46,
   "metadata": {
    "collapsed": false
   },
   "outputs": [
    {
     "data": {
      "text/html": [
       "<div>\n",
       "<table border=\"1\" class=\"dataframe\">\n",
       "  <thead>\n",
       "    <tr style=\"text-align: right;\">\n",
       "      <th></th>\n",
       "      <th>BOROUGH</th>\n",
       "      <th>COUNT_VEHICLE</th>\n",
       "    </tr>\n",
       "  </thead>\n",
       "  <tbody>\n",
       "    <tr>\n",
       "      <th>0</th>\n",
       "      <td>QUEENS</td>\n",
       "      <td>1</td>\n",
       "    </tr>\n",
       "    <tr>\n",
       "      <th>2</th>\n",
       "      <td>BROOKLYN</td>\n",
       "      <td>2</td>\n",
       "    </tr>\n",
       "    <tr>\n",
       "      <th>3</th>\n",
       "      <td>BROOKLYN</td>\n",
       "      <td>2</td>\n",
       "    </tr>\n",
       "    <tr>\n",
       "      <th>4</th>\n",
       "      <td>NaN</td>\n",
       "      <td>1</td>\n",
       "    </tr>\n",
       "  </tbody>\n",
       "</table>\n",
       "</div>"
      ],
      "text/plain": [
       "    BOROUGH  COUNT_VEHICLE\n",
       "0    QUEENS              1\n",
       "2  BROOKLYN              2\n",
       "3  BROOKLYN              2\n",
       "4       NaN              1"
      ]
     },
     "execution_count": 46,
     "metadata": {},
     "output_type": "execute_result"
    }
   ],
   "source": [
    "# remove zeros for vehicle count\n",
    "raw_df = raw_df[raw_df['COUNT_VEHICLE'] != 0]\n",
    "raw_df.head(4)"
   ]
  },
  {
   "cell_type": "code",
   "execution_count": 47,
   "metadata": {
    "collapsed": false
   },
   "outputs": [
    {
     "data": {
      "text/html": [
       "<div>\n",
       "<table border=\"1\" class=\"dataframe\">\n",
       "  <thead>\n",
       "    <tr style=\"text-align: right;\">\n",
       "      <th></th>\n",
       "      <th>BOROUGH</th>\n",
       "      <th>COUNT_VEHICLE</th>\n",
       "    </tr>\n",
       "  </thead>\n",
       "  <tbody>\n",
       "    <tr>\n",
       "      <th>0</th>\n",
       "      <td>QUEENS</td>\n",
       "      <td>1</td>\n",
       "    </tr>\n",
       "    <tr>\n",
       "      <th>2</th>\n",
       "      <td>BROOKLYN</td>\n",
       "      <td>2</td>\n",
       "    </tr>\n",
       "    <tr>\n",
       "      <th>3</th>\n",
       "      <td>BROOKLYN</td>\n",
       "      <td>2</td>\n",
       "    </tr>\n",
       "    <tr>\n",
       "      <th>5</th>\n",
       "      <td>BROOKLYN</td>\n",
       "      <td>4</td>\n",
       "    </tr>\n",
       "  </tbody>\n",
       "</table>\n",
       "</div>"
      ],
      "text/plain": [
       "    BOROUGH  COUNT_VEHICLE\n",
       "0    QUEENS              1\n",
       "2  BROOKLYN              2\n",
       "3  BROOKLYN              2\n",
       "5  BROOKLYN              4"
      ]
     },
     "execution_count": 47,
     "metadata": {},
     "output_type": "execute_result"
    }
   ],
   "source": [
    "# remove NaN borough\n",
    "raw_df = raw_df[pd.notnull(raw_df['BOROUGH'])]\n",
    "raw_df.head(4)"
   ]
  },
  {
   "cell_type": "code",
   "execution_count": 48,
   "metadata": {
    "collapsed": false
   },
   "outputs": [
    {
     "data": {
      "text/html": [
       "<div>\n",
       "<table border=\"1\" class=\"dataframe\">\n",
       "  <thead>\n",
       "    <tr style=\"text-align: right;\">\n",
       "      <th></th>\n",
       "      <th>BOROUGH</th>\n",
       "      <th>COUNT_VEHICLE</th>\n",
       "    </tr>\n",
       "  </thead>\n",
       "  <tbody>\n",
       "    <tr>\n",
       "      <th>0</th>\n",
       "      <td>QUEENS</td>\n",
       "      <td>1</td>\n",
       "    </tr>\n",
       "    <tr>\n",
       "      <th>2</th>\n",
       "      <td>BROOKLYN</td>\n",
       "      <td>2</td>\n",
       "    </tr>\n",
       "    <tr>\n",
       "      <th>3</th>\n",
       "      <td>BROOKLYN</td>\n",
       "      <td>2</td>\n",
       "    </tr>\n",
       "    <tr>\n",
       "      <th>5</th>\n",
       "      <td>BROOKLYN</td>\n",
       "      <td>3+</td>\n",
       "    </tr>\n",
       "  </tbody>\n",
       "</table>\n",
       "</div>"
      ],
      "text/plain": [
       "    BOROUGH COUNT_VEHICLE\n",
       "0    QUEENS             1\n",
       "2  BROOKLYN             2\n",
       "3  BROOKLYN             2\n",
       "5  BROOKLYN            3+"
      ]
     },
     "execution_count": 48,
     "metadata": {},
     "output_type": "execute_result"
    }
   ],
   "source": [
    "# turn count to str and change numbers which >3 into '3+'\n",
    "raw_df['COUNT_VEHICLE'] = raw_df['COUNT_VEHICLE'].apply(lambda x : str(x) if x < 4 else '3+')\n",
    "raw_df.head(4)"
   ]
  },
  {
   "cell_type": "code",
   "execution_count": 49,
   "metadata": {
    "collapsed": false
   },
   "outputs": [
    {
     "data": {
      "text/html": [
       "<div>\n",
       "<table border=\"1\" class=\"dataframe\">\n",
       "  <thead>\n",
       "    <tr style=\"text-align: right;\">\n",
       "      <th></th>\n",
       "      <th>BOROUGH</th>\n",
       "      <th>COUNT_VEHICLE</th>\n",
       "      <th>0</th>\n",
       "    </tr>\n",
       "  </thead>\n",
       "  <tbody>\n",
       "    <tr>\n",
       "      <th>0</th>\n",
       "      <td>BRONX</td>\n",
       "      <td>1</td>\n",
       "      <td>8627</td>\n",
       "    </tr>\n",
       "    <tr>\n",
       "      <th>1</th>\n",
       "      <td>BRONX</td>\n",
       "      <td>2</td>\n",
       "      <td>34385</td>\n",
       "    </tr>\n",
       "    <tr>\n",
       "      <th>2</th>\n",
       "      <td>BRONX</td>\n",
       "      <td>3</td>\n",
       "      <td>1962</td>\n",
       "    </tr>\n",
       "    <tr>\n",
       "      <th>3</th>\n",
       "      <td>BRONX</td>\n",
       "      <td>3+</td>\n",
       "      <td>625</td>\n",
       "    </tr>\n",
       "    <tr>\n",
       "      <th>4</th>\n",
       "      <td>BROOKLYN</td>\n",
       "      <td>1</td>\n",
       "      <td>17375</td>\n",
       "    </tr>\n",
       "  </tbody>\n",
       "</table>\n",
       "</div>"
      ],
      "text/plain": [
       "    BOROUGH COUNT_VEHICLE      0\n",
       "0     BRONX             1   8627\n",
       "1     BRONX             2  34385\n",
       "2     BRONX             3   1962\n",
       "3     BRONX            3+    625\n",
       "4  BROOKLYN             1  17375"
      ]
     },
     "execution_count": 49,
     "metadata": {},
     "output_type": "execute_result"
    }
   ],
   "source": [
    "# group borough and count then calculate occurence of each count in each borough\n",
    "df2 = raw_df.groupby(['BOROUGH', 'COUNT_VEHICLE'], as_index=False).size().reset_index()\n",
    "df2.head(5)"
   ]
  },
  {
   "cell_type": "code",
   "execution_count": 50,
   "metadata": {
    "collapsed": false
   },
   "outputs": [
    {
     "data": {
      "text/html": [
       "<div>\n",
       "<table border=\"1\" class=\"dataframe\">\n",
       "  <thead>\n",
       "    <tr style=\"text-align: right;\">\n",
       "      <th>COUNT_VEHICLE</th>\n",
       "      <th>1</th>\n",
       "      <th>2</th>\n",
       "      <th>3</th>\n",
       "      <th>3+</th>\n",
       "    </tr>\n",
       "    <tr>\n",
       "      <th>BOROUGH</th>\n",
       "      <th></th>\n",
       "      <th></th>\n",
       "      <th></th>\n",
       "      <th></th>\n",
       "    </tr>\n",
       "  </thead>\n",
       "  <tbody>\n",
       "    <tr>\n",
       "      <th>BRONX</th>\n",
       "      <td>8627</td>\n",
       "      <td>34385</td>\n",
       "      <td>1962</td>\n",
       "      <td>625</td>\n",
       "    </tr>\n",
       "    <tr>\n",
       "      <th>BROOKLYN</th>\n",
       "      <td>17375</td>\n",
       "      <td>80207</td>\n",
       "      <td>4980</td>\n",
       "      <td>1612</td>\n",
       "    </tr>\n",
       "    <tr>\n",
       "      <th>MANHATTAN</th>\n",
       "      <td>13318</td>\n",
       "      <td>66958</td>\n",
       "      <td>2024</td>\n",
       "      <td>501</td>\n",
       "    </tr>\n",
       "    <tr>\n",
       "      <th>QUEENS</th>\n",
       "      <td>12962</td>\n",
       "      <td>70260</td>\n",
       "      <td>4498</td>\n",
       "      <td>1420</td>\n",
       "    </tr>\n",
       "    <tr>\n",
       "      <th>STATEN ISLAND</th>\n",
       "      <td>2343</td>\n",
       "      <td>10676</td>\n",
       "      <td>759</td>\n",
       "      <td>165</td>\n",
       "    </tr>\n",
       "  </tbody>\n",
       "</table>\n",
       "</div>"
      ],
      "text/plain": [
       "COUNT_VEHICLE      1      2     3    3+\n",
       "BOROUGH                                \n",
       "BRONX           8627  34385  1962   625\n",
       "BROOKLYN       17375  80207  4980  1612\n",
       "MANHATTAN      13318  66958  2024   501\n",
       "QUEENS         12962  70260  4498  1420\n",
       "STATEN ISLAND   2343  10676   759   165"
      ]
     },
     "execution_count": 50,
     "metadata": {},
     "output_type": "execute_result"
    }
   ],
   "source": [
    "# use borough as index and count as columns to reshape dataframe\n",
    "df3 = df2.pivot(index='BOROUGH', columns='COUNT_VEHICLE', values=0)\n",
    "df3"
   ]
  },
  {
   "cell_type": "code",
   "execution_count": 51,
   "metadata": {
    "collapsed": false
   },
   "outputs": [
    {
     "data": {
      "text/html": [
       "<div>\n",
       "<table border=\"1\" class=\"dataframe\">\n",
       "  <thead>\n",
       "    <tr style=\"text-align: right;\">\n",
       "      <th></th>\n",
       "      <th>ONE_VEHICLE_INVOLVED</th>\n",
       "      <th>TWO_VEHICLE_INVOLVED</th>\n",
       "      <th>THREE_VEHICLE_INVOLVED</th>\n",
       "      <th>MORE_VEHICLE_INVOLVED</th>\n",
       "    </tr>\n",
       "    <tr>\n",
       "      <th>BOROUGH</th>\n",
       "      <th></th>\n",
       "      <th></th>\n",
       "      <th></th>\n",
       "      <th></th>\n",
       "    </tr>\n",
       "  </thead>\n",
       "  <tbody>\n",
       "    <tr>\n",
       "      <th>BRONX</th>\n",
       "      <td>8627</td>\n",
       "      <td>34385</td>\n",
       "      <td>1962</td>\n",
       "      <td>625</td>\n",
       "    </tr>\n",
       "    <tr>\n",
       "      <th>BROOKLYN</th>\n",
       "      <td>17375</td>\n",
       "      <td>80207</td>\n",
       "      <td>4980</td>\n",
       "      <td>1612</td>\n",
       "    </tr>\n",
       "    <tr>\n",
       "      <th>MANHATTAN</th>\n",
       "      <td>13318</td>\n",
       "      <td>66958</td>\n",
       "      <td>2024</td>\n",
       "      <td>501</td>\n",
       "    </tr>\n",
       "    <tr>\n",
       "      <th>QUEENS</th>\n",
       "      <td>12962</td>\n",
       "      <td>70260</td>\n",
       "      <td>4498</td>\n",
       "      <td>1420</td>\n",
       "    </tr>\n",
       "    <tr>\n",
       "      <th>STATEN ISLAND</th>\n",
       "      <td>2343</td>\n",
       "      <td>10676</td>\n",
       "      <td>759</td>\n",
       "      <td>165</td>\n",
       "    </tr>\n",
       "  </tbody>\n",
       "</table>\n",
       "</div>"
      ],
      "text/plain": [
       "               ONE_VEHICLE_INVOLVED  TWO_VEHICLE_INVOLVED  \\\n",
       "BOROUGH                                                     \n",
       "BRONX                          8627                 34385   \n",
       "BROOKLYN                      17375                 80207   \n",
       "MANHATTAN                     13318                 66958   \n",
       "QUEENS                        12962                 70260   \n",
       "STATEN ISLAND                  2343                 10676   \n",
       "\n",
       "               THREE_VEHICLE_INVOLVED  MORE_VEHICLE_INVOLVED  \n",
       "BOROUGH                                                       \n",
       "BRONX                            1962                    625  \n",
       "BROOKLYN                         4980                   1612  \n",
       "MANHATTAN                        2024                    501  \n",
       "QUEENS                           4498                   1420  \n",
       "STATEN ISLAND                     759                    165  "
      ]
     },
     "execution_count": 51,
     "metadata": {},
     "output_type": "execute_result"
    }
   ],
   "source": [
    "# change names of columns\n",
    "df3.columns = ['ONE_VEHICLE_INVOLVED', 'TWO_VEHICLE_INVOLVED', 'THREE_VEHICLE_INVOLVED', 'MORE_VEHICLE_INVOLVED']\n",
    "df3"
   ]
  },
  {
   "cell_type": "code",
   "execution_count": 52,
   "metadata": {
    "collapsed": false
   },
   "outputs": [
    {
     "data": {
      "text/html": [
       "<div>\n",
       "<table border=\"1\" class=\"dataframe\">\n",
       "  <thead>\n",
       "    <tr style=\"text-align: right;\">\n",
       "      <th></th>\n",
       "      <th>BOROUGH</th>\n",
       "      <th>ONE_VEHICLE_INVOLVED</th>\n",
       "      <th>TWO_VEHICLE_INVOLVED</th>\n",
       "      <th>THREE_VEHICLE_INVOLVED</th>\n",
       "      <th>MORE_VEHICLE_INVOLVED</th>\n",
       "    </tr>\n",
       "  </thead>\n",
       "  <tbody>\n",
       "    <tr>\n",
       "      <th>0</th>\n",
       "      <td>BRONX</td>\n",
       "      <td>8627</td>\n",
       "      <td>34385</td>\n",
       "      <td>1962</td>\n",
       "      <td>625</td>\n",
       "    </tr>\n",
       "    <tr>\n",
       "      <th>1</th>\n",
       "      <td>BROOKLYN</td>\n",
       "      <td>17375</td>\n",
       "      <td>80207</td>\n",
       "      <td>4980</td>\n",
       "      <td>1612</td>\n",
       "    </tr>\n",
       "    <tr>\n",
       "      <th>2</th>\n",
       "      <td>MANHATTAN</td>\n",
       "      <td>13318</td>\n",
       "      <td>66958</td>\n",
       "      <td>2024</td>\n",
       "      <td>501</td>\n",
       "    </tr>\n",
       "    <tr>\n",
       "      <th>3</th>\n",
       "      <td>QUEENS</td>\n",
       "      <td>12962</td>\n",
       "      <td>70260</td>\n",
       "      <td>4498</td>\n",
       "      <td>1420</td>\n",
       "    </tr>\n",
       "    <tr>\n",
       "      <th>4</th>\n",
       "      <td>STATEN ISLAND</td>\n",
       "      <td>2343</td>\n",
       "      <td>10676</td>\n",
       "      <td>759</td>\n",
       "      <td>165</td>\n",
       "    </tr>\n",
       "  </tbody>\n",
       "</table>\n",
       "</div>"
      ],
      "text/plain": [
       "         BOROUGH  ONE_VEHICLE_INVOLVED  TWO_VEHICLE_INVOLVED  \\\n",
       "0          BRONX                  8627                 34385   \n",
       "1       BROOKLYN                 17375                 80207   \n",
       "2      MANHATTAN                 13318                 66958   \n",
       "3         QUEENS                 12962                 70260   \n",
       "4  STATEN ISLAND                  2343                 10676   \n",
       "\n",
       "   THREE_VEHICLE_INVOLVED  MORE_VEHICLE_INVOLVED  \n",
       "0                    1962                    625  \n",
       "1                    4980                   1612  \n",
       "2                    2024                    501  \n",
       "3                    4498                   1420  \n",
       "4                     759                    165  "
      ]
     },
     "execution_count": 52,
     "metadata": {},
     "output_type": "execute_result"
    }
   ],
   "source": [
    "# reset indices\n",
    "df4 = df3.reset_index()\n",
    "df4"
   ]
  },
  {
   "cell_type": "code",
   "execution_count": 53,
   "metadata": {
    "collapsed": false
   },
   "outputs": [],
   "source": [
    "# save to csv\n",
    "df4.to_csv('output_csv/q1p2_output.csv',index=False,header=True)"
   ]
  },
  {
   "cell_type": "code",
   "execution_count": null,
   "metadata": {
    "collapsed": true
   },
   "outputs": [],
   "source": []
  }
 ],
 "metadata": {
  "anaconda-cloud": {},
  "kernelspec": {
   "display_name": "Python [default]",
   "language": "python",
   "name": "python3"
  },
  "language_info": {
   "codemirror_mode": {
    "name": "ipython",
    "version": 3
   },
   "file_extension": ".py",
   "mimetype": "text/x-python",
   "name": "python",
   "nbconvert_exporter": "python",
   "pygments_lexer": "ipython3",
   "version": "3.5.2"
  }
 },
 "nbformat": 4,
 "nbformat_minor": 1
}
